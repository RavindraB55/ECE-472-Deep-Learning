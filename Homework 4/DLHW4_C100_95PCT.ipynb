{
  "nbformat": 4,
  "nbformat_minor": 0,
  "metadata": {
    "colab": {
      "provenance": [],
      "collapsed_sections": [],
      "history_visible": true
    },
    "kernelspec": {
      "name": "python3",
      "display_name": "Python 3"
    },
    "language_info": {
      "name": "python"
    },
    "accelerator": "GPU",
    "gpuClass": "standard"
  },
  "cells": [
    {
      "cell_type": "code",
      "execution_count": 1,
      "metadata": {
        "colab": {
          "base_uri": "https://localhost:8080/"
        },
        "id": "Nia9qnBerH12",
        "outputId": "65f5e70b-0069-4c4a-883c-3251fe0355e6"
      },
      "outputs": [
        {
          "output_type": "stream",
          "name": "stdout",
          "text": [
            "Model: \"rav_net\"\n",
            "_________________________________________________________________\n",
            " Layer (type)                Output Shape              Param #   \n",
            "=================================================================\n",
            " input_1 (InputLayer)        [(None, 32, 32, 3)]       0         \n",
            "                                                                 \n",
            " conv2d (Conv2D)             (None, 32, 32, 32)        896       \n",
            "                                                                 \n",
            " batch_normalization (BatchN  (None, 32, 32, 32)       128       \n",
            " ormalization)                                                   \n",
            "                                                                 \n",
            " conv2d_1 (Conv2D)           (None, 32, 32, 32)        9248      \n",
            "                                                                 \n",
            " batch_normalization_1 (Batc  (None, 32, 32, 32)       128       \n",
            " hNormalization)                                                 \n",
            "                                                                 \n",
            " max_pooling2d (MaxPooling2D  (None, 16, 16, 32)       0         \n",
            " )                                                               \n",
            "                                                                 \n",
            " dropout (Dropout)           (None, 16, 16, 32)        0         \n",
            "                                                                 \n",
            " conv2d_2 (Conv2D)           (None, 16, 16, 64)        18496     \n",
            "                                                                 \n",
            " batch_normalization_2 (Batc  (None, 16, 16, 64)       256       \n",
            " hNormalization)                                                 \n",
            "                                                                 \n",
            " conv2d_3 (Conv2D)           (None, 16, 16, 64)        36928     \n",
            "                                                                 \n",
            " batch_normalization_3 (Batc  (None, 16, 16, 64)       256       \n",
            " hNormalization)                                                 \n",
            "                                                                 \n",
            " max_pooling2d_1 (MaxPooling  (None, 8, 8, 64)         0         \n",
            " 2D)                                                             \n",
            "                                                                 \n",
            " dropout_1 (Dropout)         (None, 8, 8, 64)          0         \n",
            "                                                                 \n",
            " conv2d_4 (Conv2D)           (None, 8, 8, 128)         73856     \n",
            "                                                                 \n",
            " batch_normalization_4 (Batc  (None, 8, 8, 128)        512       \n",
            " hNormalization)                                                 \n",
            "                                                                 \n",
            " conv2d_5 (Conv2D)           (None, 8, 8, 128)         147584    \n",
            "                                                                 \n",
            " batch_normalization_5 (Batc  (None, 8, 8, 128)        512       \n",
            " hNormalization)                                                 \n",
            "                                                                 \n",
            " max_pooling2d_2 (MaxPooling  (None, 4, 4, 128)        0         \n",
            " 2D)                                                             \n",
            "                                                                 \n",
            " dropout_2 (Dropout)         (None, 4, 4, 128)         0         \n",
            "                                                                 \n",
            " conv2d_6 (Conv2D)           (None, 4, 4, 128)         147584    \n",
            "                                                                 \n",
            " batch_normalization_6 (Batc  (None, 4, 4, 128)        512       \n",
            " hNormalization)                                                 \n",
            "                                                                 \n",
            " conv2d_7 (Conv2D)           (None, 4, 4, 128)         147584    \n",
            "                                                                 \n",
            " batch_normalization_7 (Batc  (None, 4, 4, 128)        512       \n",
            " hNormalization)                                                 \n",
            "                                                                 \n",
            " max_pooling2d_3 (MaxPooling  (None, 2, 2, 128)        0         \n",
            " 2D)                                                             \n",
            "                                                                 \n",
            " dropout_3 (Dropout)         (None, 2, 2, 128)         0         \n",
            "                                                                 \n",
            " flatten (Flatten)           (None, 512)               0         \n",
            "                                                                 \n",
            " dense (Dense)               (None, 512)               262656    \n",
            "                                                                 \n",
            " batch_normalization_8 (Batc  (None, 512)              2048      \n",
            " hNormalization)                                                 \n",
            "                                                                 \n",
            " dropout_4 (Dropout)         (None, 512)               0         \n",
            "                                                                 \n",
            " dense_1 (Dense)             (None, 20)                10260     \n",
            "                                                                 \n",
            " activation (Activation)     (None, 20)                0         \n",
            "                                                                 \n",
            "=================================================================\n",
            "Total params: 859,956\n",
            "Trainable params: 857,524\n",
            "Non-trainable params: 2,432\n",
            "_________________________________________________________________\n",
            "Epoch 1/200\n",
            "312/312 [==============================] - ETA: 0s - loss: 2.8912 - top_k_categorical_accuracy: 0.5330"
          ]
        },
        {
          "output_type": "stream",
          "name": "stderr",
          "text": [
            "WARNING:tensorflow:Early stopping conditioned on metric `val_accuracy` which is not available. Available metrics are: loss,top_k_categorical_accuracy,val_loss,val_top_k_categorical_accuracy,lr\n"
          ]
        },
        {
          "output_type": "stream",
          "name": "stdout",
          "text": [
            "\b\b\b\b\b\b\b\b\b\b\b\b\b\b\b\b\b\b\b\b\b\b\b\b\b\b\b\b\b\b\b\b\b\b\b\b\b\b\b\b\b\b\b\b\b\b\b\b\b\b\b\b\b\b\b\b\b\b\b\b\b\b\b\b\b\b\b\b\b\b\b\b\b\b\b\b\b\b\b\b\b\b\b\b\b\b\b\b\b\b\b\b\b\b\b\b\b\b\b\b\b\b\r312/312 [==============================] - 34s 68ms/step - loss: 2.8912 - top_k_categorical_accuracy: 0.5330 - val_loss: 2.7977 - val_top_k_categorical_accuracy: 0.4984 - lr: 0.0050\n",
            "Epoch 2/200\n",
            "312/312 [==============================] - ETA: 0s - loss: 2.5115 - top_k_categorical_accuracy: 0.6461"
          ]
        },
        {
          "output_type": "stream",
          "name": "stderr",
          "text": [
            "WARNING:tensorflow:Early stopping conditioned on metric `val_accuracy` which is not available. Available metrics are: loss,top_k_categorical_accuracy,val_loss,val_top_k_categorical_accuracy,lr\n"
          ]
        },
        {
          "output_type": "stream",
          "name": "stdout",
          "text": [
            "\b\b\b\b\b\b\b\b\b\b\b\b\b\b\b\b\b\b\b\b\b\b\b\b\b\b\b\b\b\b\b\b\b\b\b\b\b\b\b\b\b\b\b\b\b\b\b\b\b\b\b\b\b\b\b\b\b\b\b\b\b\b\b\b\b\b\b\b\b\b\b\b\b\b\b\b\b\b\b\b\b\b\b\b\b\b\b\b\b\b\b\b\b\b\b\b\b\b\b\b\b\b\r312/312 [==============================] - 19s 62ms/step - loss: 2.5115 - top_k_categorical_accuracy: 0.6461 - val_loss: 2.6826 - val_top_k_categorical_accuracy: 0.6061 - lr: 0.0050\n",
            "Epoch 3/200\n",
            "312/312 [==============================] - ETA: 0s - loss: 2.3005 - top_k_categorical_accuracy: 0.7029"
          ]
        },
        {
          "output_type": "stream",
          "name": "stderr",
          "text": [
            "WARNING:tensorflow:Early stopping conditioned on metric `val_accuracy` which is not available. Available metrics are: loss,top_k_categorical_accuracy,val_loss,val_top_k_categorical_accuracy,lr\n"
          ]
        },
        {
          "output_type": "stream",
          "name": "stdout",
          "text": [
            "\b\b\b\b\b\b\b\b\b\b\b\b\b\b\b\b\b\b\b\b\b\b\b\b\b\b\b\b\b\b\b\b\b\b\b\b\b\b\b\b\b\b\b\b\b\b\b\b\b\b\b\b\b\b\b\b\b\b\b\b\b\b\b\b\b\b\b\b\b\b\b\b\b\b\b\b\b\b\b\b\b\b\b\b\b\b\b\b\b\b\b\b\b\b\b\b\b\b\b\b\b\b\r312/312 [==============================] - 19s 62ms/step - loss: 2.3005 - top_k_categorical_accuracy: 0.7029 - val_loss: 2.2102 - val_top_k_categorical_accuracy: 0.7198 - lr: 0.0049\n",
            "Epoch 4/200\n",
            "312/312 [==============================] - ETA: 0s - loss: 2.2736 - top_k_categorical_accuracy: 0.7196"
          ]
        },
        {
          "output_type": "stream",
          "name": "stderr",
          "text": [
            "WARNING:tensorflow:Early stopping conditioned on metric `val_accuracy` which is not available. Available metrics are: loss,top_k_categorical_accuracy,val_loss,val_top_k_categorical_accuracy,lr\n"
          ]
        },
        {
          "output_type": "stream",
          "name": "stdout",
          "text": [
            "\b\b\b\b\b\b\b\b\b\b\b\b\b\b\b\b\b\b\b\b\b\b\b\b\b\b\b\b\b\b\b\b\b\b\b\b\b\b\b\b\b\b\b\b\b\b\b\b\b\b\b\b\b\b\b\b\b\b\b\b\b\b\b\b\b\b\b\b\b\b\b\b\b\b\b\b\b\b\b\b\b\b\b\b\b\b\b\b\b\b\b\b\b\b\b\b\b\b\b\b\b\b\r312/312 [==============================] - 20s 65ms/step - loss: 2.2736 - top_k_categorical_accuracy: 0.7196 - val_loss: 2.6097 - val_top_k_categorical_accuracy: 0.6179 - lr: 0.0049\n",
            "Epoch 5/200\n",
            "312/312 [==============================] - ETA: 0s - loss: 2.0143 - top_k_categorical_accuracy: 0.7631"
          ]
        },
        {
          "output_type": "stream",
          "name": "stderr",
          "text": [
            "WARNING:tensorflow:Early stopping conditioned on metric `val_accuracy` which is not available. Available metrics are: loss,top_k_categorical_accuracy,val_loss,val_top_k_categorical_accuracy,lr\n"
          ]
        },
        {
          "output_type": "stream",
          "name": "stdout",
          "text": [
            "\b\b\b\b\b\b\b\b\b\b\b\b\b\b\b\b\b\b\b\b\b\b\b\b\b\b\b\b\b\b\b\b\b\b\b\b\b\b\b\b\b\b\b\b\b\b\b\b\b\b\b\b\b\b\b\b\b\b\b\b\b\b\b\b\b\b\b\b\b\b\b\b\b\b\b\b\b\b\b\b\b\b\b\b\b\b\b\b\b\b\b\b\b\b\b\b\b\b\b\b\b\b\r312/312 [==============================] - 19s 62ms/step - loss: 2.0143 - top_k_categorical_accuracy: 0.7631 - val_loss: 2.0929 - val_top_k_categorical_accuracy: 0.7460 - lr: 0.0049\n",
            "Epoch 6/200\n",
            "312/312 [==============================] - ETA: 0s - loss: 1.8719 - top_k_categorical_accuracy: 0.7972"
          ]
        },
        {
          "output_type": "stream",
          "name": "stderr",
          "text": [
            "WARNING:tensorflow:Early stopping conditioned on metric `val_accuracy` which is not available. Available metrics are: loss,top_k_categorical_accuracy,val_loss,val_top_k_categorical_accuracy,lr\n"
          ]
        },
        {
          "output_type": "stream",
          "name": "stdout",
          "text": [
            "\b\b\b\b\b\b\b\b\b\b\b\b\b\b\b\b\b\b\b\b\b\b\b\b\b\b\b\b\b\b\b\b\b\b\b\b\b\b\b\b\b\b\b\b\b\b\b\b\b\b\b\b\b\b\b\b\b\b\b\b\b\b\b\b\b\b\b\b\b\b\b\b\b\b\b\b\b\b\b\b\b\b\b\b\b\b\b\b\b\b\b\b\b\b\b\b\b\b\b\b\b\b\r312/312 [==============================] - 19s 62ms/step - loss: 1.8719 - top_k_categorical_accuracy: 0.7972 - val_loss: 1.9603 - val_top_k_categorical_accuracy: 0.7729 - lr: 0.0049\n",
            "Epoch 7/200\n",
            "312/312 [==============================] - ETA: 0s - loss: 1.7731 - top_k_categorical_accuracy: 0.8187"
          ]
        },
        {
          "output_type": "stream",
          "name": "stderr",
          "text": [
            "WARNING:tensorflow:Early stopping conditioned on metric `val_accuracy` which is not available. Available metrics are: loss,top_k_categorical_accuracy,val_loss,val_top_k_categorical_accuracy,lr\n"
          ]
        },
        {
          "output_type": "stream",
          "name": "stdout",
          "text": [
            "\b\b\b\b\b\b\b\b\b\b\b\b\b\b\b\b\b\b\b\b\b\b\b\b\b\b\b\b\b\b\b\b\b\b\b\b\b\b\b\b\b\b\b\b\b\b\b\b\b\b\b\b\b\b\b\b\b\b\b\b\b\b\b\b\b\b\b\b\b\b\b\b\b\b\b\b\b\b\b\b\b\b\b\b\b\b\b\b\b\b\b\b\b\b\b\b\b\b\b\b\b\b\r312/312 [==============================] - 19s 62ms/step - loss: 1.7731 - top_k_categorical_accuracy: 0.8187 - val_loss: 1.7425 - val_top_k_categorical_accuracy: 0.8262 - lr: 0.0049\n",
            "Epoch 8/200\n",
            "312/312 [==============================] - ETA: 0s - loss: 1.6866 - top_k_categorical_accuracy: 0.8365"
          ]
        },
        {
          "output_type": "stream",
          "name": "stderr",
          "text": [
            "WARNING:tensorflow:Early stopping conditioned on metric `val_accuracy` which is not available. Available metrics are: loss,top_k_categorical_accuracy,val_loss,val_top_k_categorical_accuracy,lr\n"
          ]
        },
        {
          "output_type": "stream",
          "name": "stdout",
          "text": [
            "\b\b\b\b\b\b\b\b\b\b\b\b\b\b\b\b\b\b\b\b\b\b\b\b\b\b\b\b\b\b\b\b\b\b\b\b\b\b\b\b\b\b\b\b\b\b\b\b\b\b\b\b\b\b\b\b\b\b\b\b\b\b\b\b\b\b\b\b\b\b\b\b\b\b\b\b\b\b\b\b\b\b\b\b\b\b\b\b\b\b\b\b\b\b\b\b\b\b\b\b\b\b\r312/312 [==============================] - 19s 62ms/step - loss: 1.6866 - top_k_categorical_accuracy: 0.8365 - val_loss: 1.6162 - val_top_k_categorical_accuracy: 0.8478 - lr: 0.0048\n",
            "Epoch 9/200\n",
            "312/312 [==============================] - ETA: 0s - loss: 1.6025 - top_k_categorical_accuracy: 0.8545"
          ]
        },
        {
          "output_type": "stream",
          "name": "stderr",
          "text": [
            "WARNING:tensorflow:Early stopping conditioned on metric `val_accuracy` which is not available. Available metrics are: loss,top_k_categorical_accuracy,val_loss,val_top_k_categorical_accuracy,lr\n"
          ]
        },
        {
          "output_type": "stream",
          "name": "stdout",
          "text": [
            "\b\b\b\b\b\b\b\b\b\b\b\b\b\b\b\b\b\b\b\b\b\b\b\b\b\b\b\b\b\b\b\b\b\b\b\b\b\b\b\b\b\b\b\b\b\b\b\b\b\b\b\b\b\b\b\b\b\b\b\b\b\b\b\b\b\b\b\b\b\b\b\b\b\b\b\b\b\b\b\b\b\b\b\b\b\b\b\b\b\b\b\b\b\b\b\b\b\b\b\b\b\b\r312/312 [==============================] - 20s 63ms/step - loss: 1.6025 - top_k_categorical_accuracy: 0.8545 - val_loss: 1.7479 - val_top_k_categorical_accuracy: 0.8298 - lr: 0.0048\n",
            "Epoch 10/200\n",
            "312/312 [==============================] - ETA: 0s - loss: 1.5428 - top_k_categorical_accuracy: 0.8648"
          ]
        },
        {
          "output_type": "stream",
          "name": "stderr",
          "text": [
            "WARNING:tensorflow:Early stopping conditioned on metric `val_accuracy` which is not available. Available metrics are: loss,top_k_categorical_accuracy,val_loss,val_top_k_categorical_accuracy,lr\n"
          ]
        },
        {
          "output_type": "stream",
          "name": "stdout",
          "text": [
            "\b\b\b\b\b\b\b\b\b\b\b\b\b\b\b\b\b\b\b\b\b\b\b\b\b\b\b\b\b\b\b\b\b\b\b\b\b\b\b\b\b\b\b\b\b\b\b\b\b\b\b\b\b\b\b\b\b\b\b\b\b\b\b\b\b\b\b\b\b\b\b\b\b\b\b\b\b\b\b\b\b\b\b\b\b\b\b\b\b\b\b\b\b\b\b\b\b\b\b\b\b\b\r312/312 [==============================] - 19s 62ms/step - loss: 1.5428 - top_k_categorical_accuracy: 0.8648 - val_loss: 1.5209 - val_top_k_categorical_accuracy: 0.8720 - lr: 0.0048\n",
            "Epoch 11/200\n",
            "312/312 [==============================] - ETA: 0s - loss: 1.4862 - top_k_categorical_accuracy: 0.8719"
          ]
        },
        {
          "output_type": "stream",
          "name": "stderr",
          "text": [
            "WARNING:tensorflow:Early stopping conditioned on metric `val_accuracy` which is not available. Available metrics are: loss,top_k_categorical_accuracy,val_loss,val_top_k_categorical_accuracy,lr\n"
          ]
        },
        {
          "output_type": "stream",
          "name": "stdout",
          "text": [
            "\b\b\b\b\b\b\b\b\b\b\b\b\b\b\b\b\b\b\b\b\b\b\b\b\b\b\b\b\b\b\b\b\b\b\b\b\b\b\b\b\b\b\b\b\b\b\b\b\b\b\b\b\b\b\b\b\b\b\b\b\b\b\b\b\b\b\b\b\b\b\b\b\b\b\b\b\b\b\b\b\b\b\b\b\b\b\b\b\b\b\b\b\b\b\b\b\b\b\b\b\b\b\r312/312 [==============================] - 19s 62ms/step - loss: 1.4862 - top_k_categorical_accuracy: 0.8719 - val_loss: 1.6912 - val_top_k_categorical_accuracy: 0.8466 - lr: 0.0047\n",
            "Epoch 12/200\n",
            "312/312 [==============================] - ETA: 0s - loss: 1.4366 - top_k_categorical_accuracy: 0.8833"
          ]
        },
        {
          "output_type": "stream",
          "name": "stderr",
          "text": [
            "WARNING:tensorflow:Early stopping conditioned on metric `val_accuracy` which is not available. Available metrics are: loss,top_k_categorical_accuracy,val_loss,val_top_k_categorical_accuracy,lr\n"
          ]
        },
        {
          "output_type": "stream",
          "name": "stdout",
          "text": [
            "\b\b\b\b\b\b\b\b\b\b\b\b\b\b\b\b\b\b\b\b\b\b\b\b\b\b\b\b\b\b\b\b\b\b\b\b\b\b\b\b\b\b\b\b\b\b\b\b\b\b\b\b\b\b\b\b\b\b\b\b\b\b\b\b\b\b\b\b\b\b\b\b\b\b\b\b\b\b\b\b\b\b\b\b\b\b\b\b\b\b\b\b\b\b\b\b\b\b\b\b\b\b\r312/312 [==============================] - 20s 63ms/step - loss: 1.4366 - top_k_categorical_accuracy: 0.8833 - val_loss: 1.5284 - val_top_k_categorical_accuracy: 0.8730 - lr: 9.4500e-04\n",
            "Epoch 13/200\n",
            "312/312 [==============================] - ETA: 0s - loss: 1.3952 - top_k_categorical_accuracy: 0.8867"
          ]
        },
        {
          "output_type": "stream",
          "name": "stderr",
          "text": [
            "WARNING:tensorflow:Early stopping conditioned on metric `val_accuracy` which is not available. Available metrics are: loss,top_k_categorical_accuracy,val_loss,val_top_k_categorical_accuracy,lr\n"
          ]
        },
        {
          "output_type": "stream",
          "name": "stdout",
          "text": [
            "\b\b\b\b\b\b\b\b\b\b\b\b\b\b\b\b\b\b\b\b\b\b\b\b\b\b\b\b\b\b\b\b\b\b\b\b\b\b\b\b\b\b\b\b\b\b\b\b\b\b\b\b\b\b\b\b\b\b\b\b\b\b\b\b\b\b\b\b\b\b\b\b\b\b\b\b\b\b\b\b\b\b\b\b\b\b\b\b\b\b\b\b\b\b\b\b\b\b\b\b\b\b\r312/312 [==============================] - 20s 65ms/step - loss: 1.3952 - top_k_categorical_accuracy: 0.8867 - val_loss: 1.5020 - val_top_k_categorical_accuracy: 0.8714 - lr: 0.0047\n",
            "Epoch 14/200\n",
            "312/312 [==============================] - ETA: 0s - loss: 1.3526 - top_k_categorical_accuracy: 0.8963"
          ]
        },
        {
          "output_type": "stream",
          "name": "stderr",
          "text": [
            "WARNING:tensorflow:Early stopping conditioned on metric `val_accuracy` which is not available. Available metrics are: loss,top_k_categorical_accuracy,val_loss,val_top_k_categorical_accuracy,lr\n"
          ]
        },
        {
          "output_type": "stream",
          "name": "stdout",
          "text": [
            "\b\b\b\b\b\b\b\b\b\b\b\b\b\b\b\b\b\b\b\b\b\b\b\b\b\b\b\b\b\b\b\b\b\b\b\b\b\b\b\b\b\b\b\b\b\b\b\b\b\b\b\b\b\b\b\b\b\b\b\b\b\b\b\b\b\b\b\b\b\b\b\b\b\b\b\b\b\b\b\b\b\b\b\b\b\b\b\b\b\b\b\b\b\b\b\b\b\b\b\b\b\b\r312/312 [==============================] - 19s 62ms/step - loss: 1.3526 - top_k_categorical_accuracy: 0.8963 - val_loss: 1.3418 - val_top_k_categorical_accuracy: 0.8895 - lr: 0.0047\n",
            "Epoch 15/200\n",
            "312/312 [==============================] - ETA: 0s - loss: 1.3222 - top_k_categorical_accuracy: 0.9023"
          ]
        },
        {
          "output_type": "stream",
          "name": "stderr",
          "text": [
            "WARNING:tensorflow:Early stopping conditioned on metric `val_accuracy` which is not available. Available metrics are: loss,top_k_categorical_accuracy,val_loss,val_top_k_categorical_accuracy,lr\n"
          ]
        },
        {
          "output_type": "stream",
          "name": "stdout",
          "text": [
            "\b\b\b\b\b\b\b\b\b\b\b\b\b\b\b\b\b\b\b\b\b\b\b\b\b\b\b\b\b\b\b\b\b\b\b\b\b\b\b\b\b\b\b\b\b\b\b\b\b\b\b\b\b\b\b\b\b\b\b\b\b\b\b\b\b\b\b\b\b\b\b\b\b\b\b\b\b\b\b\b\b\b\b\b\b\b\b\b\b\b\b\b\b\b\b\b\b\b\b\b\b\b\r312/312 [==============================] - 19s 62ms/step - loss: 1.3222 - top_k_categorical_accuracy: 0.9023 - val_loss: 1.3514 - val_top_k_categorical_accuracy: 0.8875 - lr: 0.0047\n",
            "Epoch 16/200\n",
            "312/312 [==============================] - ETA: 0s - loss: 1.2911 - top_k_categorical_accuracy: 0.9055"
          ]
        },
        {
          "output_type": "stream",
          "name": "stderr",
          "text": [
            "WARNING:tensorflow:Early stopping conditioned on metric `val_accuracy` which is not available. Available metrics are: loss,top_k_categorical_accuracy,val_loss,val_top_k_categorical_accuracy,lr\n"
          ]
        },
        {
          "output_type": "stream",
          "name": "stdout",
          "text": [
            "\b\b\b\b\b\b\b\b\b\b\b\b\b\b\b\b\b\b\b\b\b\b\b\b\b\b\b\b\b\b\b\b\b\b\b\b\b\b\b\b\b\b\b\b\b\b\b\b\b\b\b\b\b\b\b\b\b\b\b\b\b\b\b\b\b\b\b\b\b\b\b\b\b\b\b\b\b\b\b\b\b\b\b\b\b\b\b\b\b\b\b\b\b\b\b\b\b\b\b\b\b\b\r312/312 [==============================] - 19s 62ms/step - loss: 1.2911 - top_k_categorical_accuracy: 0.9055 - val_loss: 1.5608 - val_top_k_categorical_accuracy: 0.8727 - lr: 9.2500e-04\n",
            "Epoch 17/200\n",
            "312/312 [==============================] - ETA: 0s - loss: 1.2574 - top_k_categorical_accuracy: 0.9103"
          ]
        },
        {
          "output_type": "stream",
          "name": "stderr",
          "text": [
            "WARNING:tensorflow:Early stopping conditioned on metric `val_accuracy` which is not available. Available metrics are: loss,top_k_categorical_accuracy,val_loss,val_top_k_categorical_accuracy,lr\n"
          ]
        },
        {
          "output_type": "stream",
          "name": "stdout",
          "text": [
            "\b\b\b\b\b\b\b\b\b\b\b\b\b\b\b\b\b\b\b\b\b\b\b\b\b\b\b\b\b\b\b\b\b\b\b\b\b\b\b\b\b\b\b\b\b\b\b\b\b\b\b\b\b\b\b\b\b\b\b\b\b\b\b\b\b\b\b\b\b\b\b\b\b\b\b\b\b\b\b\b\b\b\b\b\b\b\b\b\b\b\b\b\b\b\b\b\b\b\b\b\b\b\r312/312 [==============================] - 19s 62ms/step - loss: 1.2574 - top_k_categorical_accuracy: 0.9103 - val_loss: 1.4258 - val_top_k_categorical_accuracy: 0.8889 - lr: 0.0046\n",
            "Epoch 18/200\n",
            "312/312 [==============================] - ETA: 0s - loss: 1.2377 - top_k_categorical_accuracy: 0.9134"
          ]
        },
        {
          "output_type": "stream",
          "name": "stderr",
          "text": [
            "WARNING:tensorflow:Early stopping conditioned on metric `val_accuracy` which is not available. Available metrics are: loss,top_k_categorical_accuracy,val_loss,val_top_k_categorical_accuracy,lr\n"
          ]
        },
        {
          "output_type": "stream",
          "name": "stdout",
          "text": [
            "\b\b\b\b\b\b\b\b\b\b\b\b\b\b\b\b\b\b\b\b\b\b\b\b\b\b\b\b\b\b\b\b\b\b\b\b\b\b\b\b\b\b\b\b\b\b\b\b\b\b\b\b\b\b\b\b\b\b\b\b\b\b\b\b\b\b\b\b\b\b\b\b\b\b\b\b\b\b\b\b\b\b\b\b\b\b\b\b\b\b\b\b\b\b\b\b\b\b\b\b\b\b\r312/312 [==============================] - 19s 62ms/step - loss: 1.2377 - top_k_categorical_accuracy: 0.9134 - val_loss: 1.3663 - val_top_k_categorical_accuracy: 0.8939 - lr: 9.1500e-04\n",
            "Epoch 19/200\n",
            "312/312 [==============================] - ETA: 0s - loss: 1.2080 - top_k_categorical_accuracy: 0.9152"
          ]
        },
        {
          "output_type": "stream",
          "name": "stderr",
          "text": [
            "WARNING:tensorflow:Early stopping conditioned on metric `val_accuracy` which is not available. Available metrics are: loss,top_k_categorical_accuracy,val_loss,val_top_k_categorical_accuracy,lr\n"
          ]
        },
        {
          "output_type": "stream",
          "name": "stdout",
          "text": [
            "\b\b\b\b\b\b\b\b\b\b\b\b\b\b\b\b\b\b\b\b\b\b\b\b\b\b\b\b\b\b\b\b\b\b\b\b\b\b\b\b\b\b\b\b\b\b\b\b\b\b\b\b\b\b\b\b\b\b\b\b\b\b\b\b\b\b\b\b\b\b\b\b\b\b\b\b\b\b\b\b\b\b\b\b\b\b\b\b\b\b\b\b\b\b\b\b\b\b\b\b\b\b\r312/312 [==============================] - 19s 62ms/step - loss: 1.2080 - top_k_categorical_accuracy: 0.9152 - val_loss: 1.2801 - val_top_k_categorical_accuracy: 0.9080 - lr: 0.0046\n",
            "Epoch 20/200\n",
            "312/312 [==============================] - ETA: 0s - loss: 1.1891 - top_k_categorical_accuracy: 0.9183"
          ]
        },
        {
          "output_type": "stream",
          "name": "stderr",
          "text": [
            "WARNING:tensorflow:Early stopping conditioned on metric `val_accuracy` which is not available. Available metrics are: loss,top_k_categorical_accuracy,val_loss,val_top_k_categorical_accuracy,lr\n"
          ]
        },
        {
          "output_type": "stream",
          "name": "stdout",
          "text": [
            "\b\b\b\b\b\b\b\b\b\b\b\b\b\b\b\b\b\b\b\b\b\b\b\b\b\b\b\b\b\b\b\b\b\b\b\b\b\b\b\b\b\b\b\b\b\b\b\b\b\b\b\b\b\b\b\b\b\b\b\b\b\b\b\b\b\b\b\b\b\b\b\b\b\b\b\b\b\b\b\b\b\b\b\b\b\b\b\b\b\b\b\b\b\b\b\b\b\b\b\b\b\b\r312/312 [==============================] - 19s 62ms/step - loss: 1.1891 - top_k_categorical_accuracy: 0.9183 - val_loss: 1.1909 - val_top_k_categorical_accuracy: 0.9164 - lr: 0.0045\n",
            "Epoch 21/200\n",
            "312/312 [==============================] - ETA: 0s - loss: 1.1683 - top_k_categorical_accuracy: 0.9194"
          ]
        },
        {
          "output_type": "stream",
          "name": "stderr",
          "text": [
            "WARNING:tensorflow:Early stopping conditioned on metric `val_accuracy` which is not available. Available metrics are: loss,top_k_categorical_accuracy,val_loss,val_top_k_categorical_accuracy,lr\n"
          ]
        },
        {
          "output_type": "stream",
          "name": "stdout",
          "text": [
            "\b\b\b\b\b\b\b\b\b\b\b\b\b\b\b\b\b\b\b\b\b\b\b\b\b\b\b\b\b\b\b\b\b\b\b\b\b\b\b\b\b\b\b\b\b\b\b\b\b\b\b\b\b\b\b\b\b\b\b\b\b\b\b\b\b\b\b\b\b\b\b\b\b\b\b\b\b\b\b\b\b\b\b\b\b\b\b\b\b\b\b\b\b\b\b\b\b\b\b\b\b\b\r312/312 [==============================] - 20s 63ms/step - loss: 1.1683 - top_k_categorical_accuracy: 0.9194 - val_loss: 1.3452 - val_top_k_categorical_accuracy: 0.9001 - lr: 0.0045\n",
            "Epoch 22/200\n",
            "312/312 [==============================] - ETA: 0s - loss: 1.1395 - top_k_categorical_accuracy: 0.9234"
          ]
        },
        {
          "output_type": "stream",
          "name": "stderr",
          "text": [
            "WARNING:tensorflow:Early stopping conditioned on metric `val_accuracy` which is not available. Available metrics are: loss,top_k_categorical_accuracy,val_loss,val_top_k_categorical_accuracy,lr\n"
          ]
        },
        {
          "output_type": "stream",
          "name": "stdout",
          "text": [
            "\b\b\b\b\b\b\b\b\b\b\b\b\b\b\b\b\b\b\b\b\b\b\b\b\b\b\b\b\b\b\b\b\b\b\b\b\b\b\b\b\b\b\b\b\b\b\b\b\b\b\b\b\b\b\b\b\b\b\b\b\b\b\b\b\b\b\b\b\b\b\b\b\b\b\b\b\b\b\b\b\b\b\b\b\b\b\b\b\b\b\b\b\b\b\b\b\b\b\b\b\b\b\r312/312 [==============================] - 20s 65ms/step - loss: 1.1395 - top_k_categorical_accuracy: 0.9234 - val_loss: 1.1787 - val_top_k_categorical_accuracy: 0.9201 - lr: 0.0045\n",
            "Epoch 23/200\n",
            "312/312 [==============================] - ETA: 0s - loss: 1.1235 - top_k_categorical_accuracy: 0.9258"
          ]
        },
        {
          "output_type": "stream",
          "name": "stderr",
          "text": [
            "WARNING:tensorflow:Early stopping conditioned on metric `val_accuracy` which is not available. Available metrics are: loss,top_k_categorical_accuracy,val_loss,val_top_k_categorical_accuracy,lr\n"
          ]
        },
        {
          "output_type": "stream",
          "name": "stdout",
          "text": [
            "\b\b\b\b\b\b\b\b\b\b\b\b\b\b\b\b\b\b\b\b\b\b\b\b\b\b\b\b\b\b\b\b\b\b\b\b\b\b\b\b\b\b\b\b\b\b\b\b\b\b\b\b\b\b\b\b\b\b\b\b\b\b\b\b\b\b\b\b\b\b\b\b\b\b\b\b\b\b\b\b\b\b\b\b\b\b\b\b\b\b\b\b\b\b\b\b\b\b\b\b\b\b\r312/312 [==============================] - 19s 62ms/step - loss: 1.1235 - top_k_categorical_accuracy: 0.9258 - val_loss: 1.2954 - val_top_k_categorical_accuracy: 0.9017 - lr: 0.0044\n",
            "Epoch 24/200\n",
            "312/312 [==============================] - ETA: 0s - loss: 1.1072 - top_k_categorical_accuracy: 0.9286"
          ]
        },
        {
          "output_type": "stream",
          "name": "stderr",
          "text": [
            "WARNING:tensorflow:Early stopping conditioned on metric `val_accuracy` which is not available. Available metrics are: loss,top_k_categorical_accuracy,val_loss,val_top_k_categorical_accuracy,lr\n"
          ]
        },
        {
          "output_type": "stream",
          "name": "stdout",
          "text": [
            "\b\b\b\b\b\b\b\b\b\b\b\b\b\b\b\b\b\b\b\b\b\b\b\b\b\b\b\b\b\b\b\b\b\b\b\b\b\b\b\b\b\b\b\b\b\b\b\b\b\b\b\b\b\b\b\b\b\b\b\b\b\b\b\b\b\b\b\b\b\b\b\b\b\b\b\b\b\b\b\b\b\b\b\b\b\b\b\b\b\b\b\b\b\b\b\b\b\b\b\b\b\b\r312/312 [==============================] - 20s 63ms/step - loss: 1.1072 - top_k_categorical_accuracy: 0.9286 - val_loss: 1.3076 - val_top_k_categorical_accuracy: 0.8974 - lr: 8.8500e-04\n",
            "Epoch 25/200\n",
            "312/312 [==============================] - ETA: 0s - loss: 1.0875 - top_k_categorical_accuracy: 0.9325"
          ]
        },
        {
          "output_type": "stream",
          "name": "stderr",
          "text": [
            "WARNING:tensorflow:Early stopping conditioned on metric `val_accuracy` which is not available. Available metrics are: loss,top_k_categorical_accuracy,val_loss,val_top_k_categorical_accuracy,lr\n"
          ]
        },
        {
          "output_type": "stream",
          "name": "stdout",
          "text": [
            "\b\b\b\b\b\b\b\b\b\b\b\b\b\b\b\b\b\b\b\b\b\b\b\b\b\b\b\b\b\b\b\b\b\b\b\b\b\b\b\b\b\b\b\b\b\b\b\b\b\b\b\b\b\b\b\b\b\b\b\b\b\b\b\b\b\b\b\b\b\b\b\b\b\b\b\b\b\b\b\b\b\b\b\b\b\b\b\b\b\b\b\b\b\b\b\b\b\b\b\b\b\b\r312/312 [==============================] - 20s 63ms/step - loss: 1.0875 - top_k_categorical_accuracy: 0.9325 - val_loss: 1.2612 - val_top_k_categorical_accuracy: 0.9110 - lr: 0.0044\n",
            "Epoch 26/200\n",
            "312/312 [==============================] - ETA: 0s - loss: 1.0749 - top_k_categorical_accuracy: 0.9329"
          ]
        },
        {
          "output_type": "stream",
          "name": "stderr",
          "text": [
            "WARNING:tensorflow:Early stopping conditioned on metric `val_accuracy` which is not available. Available metrics are: loss,top_k_categorical_accuracy,val_loss,val_top_k_categorical_accuracy,lr\n"
          ]
        },
        {
          "output_type": "stream",
          "name": "stdout",
          "text": [
            "\b\b\b\b\b\b\b\b\b\b\b\b\b\b\b\b\b\b\b\b\b\b\b\b\b\b\b\b\b\b\b\b\b\b\b\b\b\b\b\b\b\b\b\b\b\b\b\b\b\b\b\b\b\b\b\b\b\b\b\b\b\b\b\b\b\b\b\b\b\b\b\b\b\b\b\b\b\b\b\b\b\b\b\b\b\b\b\b\b\b\b\b\b\b\b\b\b\b\b\b\b\b\r312/312 [==============================] - 20s 63ms/step - loss: 1.0749 - top_k_categorical_accuracy: 0.9329 - val_loss: 1.1655 - val_top_k_categorical_accuracy: 0.9186 - lr: 0.0044\n",
            "Epoch 27/200\n",
            "312/312 [==============================] - ETA: 0s - loss: 1.0642 - top_k_categorical_accuracy: 0.9349"
          ]
        },
        {
          "output_type": "stream",
          "name": "stderr",
          "text": [
            "WARNING:tensorflow:Early stopping conditioned on metric `val_accuracy` which is not available. Available metrics are: loss,top_k_categorical_accuracy,val_loss,val_top_k_categorical_accuracy,lr\n"
          ]
        },
        {
          "output_type": "stream",
          "name": "stdout",
          "text": [
            "\b\b\b\b\b\b\b\b\b\b\b\b\b\b\b\b\b\b\b\b\b\b\b\b\b\b\b\b\b\b\b\b\b\b\b\b\b\b\b\b\b\b\b\b\b\b\b\b\b\b\b\b\b\b\b\b\b\b\b\b\b\b\b\b\b\b\b\b\b\b\b\b\b\b\b\b\b\b\b\b\b\b\b\b\b\b\b\b\b\b\b\b\b\b\b\b\b\b\b\b\b\b\r312/312 [==============================] - 19s 62ms/step - loss: 1.0642 - top_k_categorical_accuracy: 0.9349 - val_loss: 1.1870 - val_top_k_categorical_accuracy: 0.9183 - lr: 0.0044\n",
            "Epoch 28/200\n",
            "312/312 [==============================] - ETA: 0s - loss: 1.0458 - top_k_categorical_accuracy: 0.9369"
          ]
        },
        {
          "output_type": "stream",
          "name": "stderr",
          "text": [
            "WARNING:tensorflow:Early stopping conditioned on metric `val_accuracy` which is not available. Available metrics are: loss,top_k_categorical_accuracy,val_loss,val_top_k_categorical_accuracy,lr\n"
          ]
        },
        {
          "output_type": "stream",
          "name": "stdout",
          "text": [
            "\b\b\b\b\b\b\b\b\b\b\b\b\b\b\b\b\b\b\b\b\b\b\b\b\b\b\b\b\b\b\b\b\b\b\b\b\b\b\b\b\b\b\b\b\b\b\b\b\b\b\b\b\b\b\b\b\b\b\b\b\b\b\b\b\b\b\b\b\b\b\b\b\b\b\b\b\b\b\b\b\b\b\b\b\b\b\b\b\b\b\b\b\b\b\b\b\b\b\b\b\b\b\r312/312 [==============================] - 19s 62ms/step - loss: 1.0458 - top_k_categorical_accuracy: 0.9369 - val_loss: 1.1318 - val_top_k_categorical_accuracy: 0.9255 - lr: 0.0043\n",
            "Epoch 29/200\n",
            "312/312 [==============================] - ETA: 0s - loss: 1.0362 - top_k_categorical_accuracy: 0.9369"
          ]
        },
        {
          "output_type": "stream",
          "name": "stderr",
          "text": [
            "WARNING:tensorflow:Early stopping conditioned on metric `val_accuracy` which is not available. Available metrics are: loss,top_k_categorical_accuracy,val_loss,val_top_k_categorical_accuracy,lr\n"
          ]
        },
        {
          "output_type": "stream",
          "name": "stdout",
          "text": [
            "\b\b\b\b\b\b\b\b\b\b\b\b\b\b\b\b\b\b\b\b\b\b\b\b\b\b\b\b\b\b\b\b\b\b\b\b\b\b\b\b\b\b\b\b\b\b\b\b\b\b\b\b\b\b\b\b\b\b\b\b\b\b\b\b\b\b\b\b\b\b\b\b\b\b\b\b\b\b\b\b\b\b\b\b\b\b\b\b\b\b\b\b\b\b\b\b\b\b\b\b\b\b\r312/312 [==============================] - 20s 63ms/step - loss: 1.0362 - top_k_categorical_accuracy: 0.9369 - val_loss: 1.2113 - val_top_k_categorical_accuracy: 0.9141 - lr: 0.0043\n",
            "Epoch 30/200\n",
            "312/312 [==============================] - ETA: 0s - loss: 1.0219 - top_k_categorical_accuracy: 0.9366"
          ]
        },
        {
          "output_type": "stream",
          "name": "stderr",
          "text": [
            "WARNING:tensorflow:Early stopping conditioned on metric `val_accuracy` which is not available. Available metrics are: loss,top_k_categorical_accuracy,val_loss,val_top_k_categorical_accuracy,lr\n"
          ]
        },
        {
          "output_type": "stream",
          "name": "stdout",
          "text": [
            "\b\b\b\b\b\b\b\b\b\b\b\b\b\b\b\b\b\b\b\b\b\b\b\b\b\b\b\b\b\b\b\b\b\b\b\b\b\b\b\b\b\b\b\b\b\b\b\b\b\b\b\b\b\b\b\b\b\b\b\b\b\b\b\b\b\b\b\b\b\b\b\b\b\b\b\b\b\b\b\b\b\b\b\b\b\b\b\b\b\b\b\b\b\b\b\b\b\b\b\b\b\b\r312/312 [==============================] - 20s 63ms/step - loss: 1.0219 - top_k_categorical_accuracy: 0.9366 - val_loss: 1.2914 - val_top_k_categorical_accuracy: 0.9094 - lr: 8.5500e-04\n",
            "Epoch 31/200\n",
            "312/312 [==============================] - ETA: 0s - loss: 1.0010 - top_k_categorical_accuracy: 0.9423"
          ]
        },
        {
          "output_type": "stream",
          "name": "stderr",
          "text": [
            "WARNING:tensorflow:Early stopping conditioned on metric `val_accuracy` which is not available. Available metrics are: loss,top_k_categorical_accuracy,val_loss,val_top_k_categorical_accuracy,lr\n"
          ]
        },
        {
          "output_type": "stream",
          "name": "stdout",
          "text": [
            "\b\b\b\b\b\b\b\b\b\b\b\b\b\b\b\b\b\b\b\b\b\b\b\b\b\b\b\b\b\b\b\b\b\b\b\b\b\b\b\b\b\b\b\b\b\b\b\b\b\b\b\b\b\b\b\b\b\b\b\b\b\b\b\b\b\b\b\b\b\b\b\b\b\b\b\b\b\b\b\b\b\b\b\b\b\b\b\b\b\b\b\b\b\b\b\b\b\b\b\b\b\b\r312/312 [==============================] - 20s 65ms/step - loss: 1.0010 - top_k_categorical_accuracy: 0.9423 - val_loss: 1.1005 - val_top_k_categorical_accuracy: 0.9212 - lr: 0.0043\n",
            "Epoch 32/200\n",
            "312/312 [==============================] - ETA: 0s - loss: 0.9919 - top_k_categorical_accuracy: 0.9411"
          ]
        },
        {
          "output_type": "stream",
          "name": "stderr",
          "text": [
            "WARNING:tensorflow:Early stopping conditioned on metric `val_accuracy` which is not available. Available metrics are: loss,top_k_categorical_accuracy,val_loss,val_top_k_categorical_accuracy,lr\n"
          ]
        },
        {
          "output_type": "stream",
          "name": "stdout",
          "text": [
            "\b\b\b\b\b\b\b\b\b\b\b\b\b\b\b\b\b\b\b\b\b\b\b\b\b\b\b\b\b\b\b\b\b\b\b\b\b\b\b\b\b\b\b\b\b\b\b\b\b\b\b\b\b\b\b\b\b\b\b\b\b\b\b\b\b\b\b\b\b\b\b\b\b\b\b\b\b\b\b\b\b\b\b\b\b\b\b\b\b\b\b\b\b\b\b\b\b\b\b\b\b\b\r312/312 [==============================] - 19s 62ms/step - loss: 0.9919 - top_k_categorical_accuracy: 0.9411 - val_loss: 1.1800 - val_top_k_categorical_accuracy: 0.9209 - lr: 0.0042\n",
            "Epoch 33/200\n",
            "312/312 [==============================] - ETA: 0s - loss: 0.9774 - top_k_categorical_accuracy: 0.9447"
          ]
        },
        {
          "output_type": "stream",
          "name": "stderr",
          "text": [
            "WARNING:tensorflow:Early stopping conditioned on metric `val_accuracy` which is not available. Available metrics are: loss,top_k_categorical_accuracy,val_loss,val_top_k_categorical_accuracy,lr\n"
          ]
        },
        {
          "output_type": "stream",
          "name": "stdout",
          "text": [
            "\b\b\b\b\b\b\b\b\b\b\b\b\b\b\b\b\b\b\b\b\b\b\b\b\b\b\b\b\b\b\b\b\b\b\b\b\b\b\b\b\b\b\b\b\b\b\b\b\b\b\b\b\b\b\b\b\b\b\b\b\b\b\b\b\b\b\b\b\b\b\b\b\b\b\b\b\b\b\b\b\b\b\b\b\b\b\b\b\b\b\b\b\b\b\b\b\b\b\b\b\b\b\r312/312 [==============================] - 20s 63ms/step - loss: 0.9774 - top_k_categorical_accuracy: 0.9447 - val_loss: 1.1486 - val_top_k_categorical_accuracy: 0.9239 - lr: 8.4000e-04\n",
            "Epoch 34/200\n",
            "312/312 [==============================] - ETA: 0s - loss: 0.9641 - top_k_categorical_accuracy: 0.9453"
          ]
        },
        {
          "output_type": "stream",
          "name": "stderr",
          "text": [
            "WARNING:tensorflow:Early stopping conditioned on metric `val_accuracy` which is not available. Available metrics are: loss,top_k_categorical_accuracy,val_loss,val_top_k_categorical_accuracy,lr\n"
          ]
        },
        {
          "output_type": "stream",
          "name": "stdout",
          "text": [
            "\b\b\b\b\b\b\b\b\b\b\b\b\b\b\b\b\b\b\b\b\b\b\b\b\b\b\b\b\b\b\b\b\b\b\b\b\b\b\b\b\b\b\b\b\b\b\b\b\b\b\b\b\b\b\b\b\b\b\b\b\b\b\b\b\b\b\b\b\b\b\b\b\b\b\b\b\b\b\b\b\b\b\b\b\b\b\b\b\b\b\b\b\b\b\b\b\b\b\b\b\b\b\r312/312 [==============================] - 19s 62ms/step - loss: 0.9641 - top_k_categorical_accuracy: 0.9453 - val_loss: 1.2200 - val_top_k_categorical_accuracy: 0.9147 - lr: 0.0042\n",
            "Epoch 35/200\n",
            "312/312 [==============================] - ETA: 0s - loss: 0.9619 - top_k_categorical_accuracy: 0.9448"
          ]
        },
        {
          "output_type": "stream",
          "name": "stderr",
          "text": [
            "WARNING:tensorflow:Early stopping conditioned on metric `val_accuracy` which is not available. Available metrics are: loss,top_k_categorical_accuracy,val_loss,val_top_k_categorical_accuracy,lr\n"
          ]
        },
        {
          "output_type": "stream",
          "name": "stdout",
          "text": [
            "\b\b\b\b\b\b\b\b\b\b\b\b\b\b\b\b\b\b\b\b\b\b\b\b\b\b\b\b\b\b\b\b\b\b\b\b\b\b\b\b\b\b\b\b\b\b\b\b\b\b\b\b\b\b\b\b\b\b\b\b\b\b\b\b\b\b\b\b\b\b\b\b\b\b\b\b\b\b\b\b\b\b\b\b\b\b\b\b\b\b\b\b\b\b\b\b\b\b\b\b\b\b\r312/312 [==============================] - 19s 62ms/step - loss: 0.9619 - top_k_categorical_accuracy: 0.9448 - val_loss: 1.1334 - val_top_k_categorical_accuracy: 0.9246 - lr: 8.3000e-04\n",
            "Epoch 36/200\n",
            "312/312 [==============================] - ETA: 0s - loss: 0.9468 - top_k_categorical_accuracy: 0.9472"
          ]
        },
        {
          "output_type": "stream",
          "name": "stderr",
          "text": [
            "WARNING:tensorflow:Early stopping conditioned on metric `val_accuracy` which is not available. Available metrics are: loss,top_k_categorical_accuracy,val_loss,val_top_k_categorical_accuracy,lr\n"
          ]
        },
        {
          "output_type": "stream",
          "name": "stdout",
          "text": [
            "\b\b\b\b\b\b\b\b\b\b\b\b\b\b\b\b\b\b\b\b\b\b\b\b\b\b\b\b\b\b\b\b\b\b\b\b\b\b\b\b\b\b\b\b\b\b\b\b\b\b\b\b\b\b\b\b\b\b\b\b\b\b\b\b\b\b\b\b\b\b\b\b\b\b\b\b\b\b\b\b\b\b\b\b\b\b\b\b\b\b\b\b\b\b\b\b\b\b\b\b\b\b\r312/312 [==============================] - 19s 60ms/step - loss: 0.9468 - top_k_categorical_accuracy: 0.9472 - val_loss: 1.1323 - val_top_k_categorical_accuracy: 0.9215 - lr: 0.0041\n",
            "Epoch 37/200\n",
            "312/312 [==============================] - ETA: 0s - loss: 0.9413 - top_k_categorical_accuracy: 0.9471"
          ]
        },
        {
          "output_type": "stream",
          "name": "stderr",
          "text": [
            "WARNING:tensorflow:Early stopping conditioned on metric `val_accuracy` which is not available. Available metrics are: loss,top_k_categorical_accuracy,val_loss,val_top_k_categorical_accuracy,lr\n"
          ]
        },
        {
          "output_type": "stream",
          "name": "stdout",
          "text": [
            "\b\b\b\b\b\b\b\b\b\b\b\b\b\b\b\b\b\b\b\b\b\b\b\b\b\b\b\b\b\b\b\b\b\b\b\b\b\b\b\b\b\b\b\b\b\b\b\b\b\b\b\b\b\b\b\b\b\b\b\b\b\b\b\b\b\b\b\b\b\b\b\b\b\b\b\b\b\b\b\b\b\b\b\b\b\b\b\b\b\b\b\b\b\b\b\b\b\b\b\b\b\b\r312/312 [==============================] - 19s 61ms/step - loss: 0.9413 - top_k_categorical_accuracy: 0.9471 - val_loss: 1.1111 - val_top_k_categorical_accuracy: 0.9253 - lr: 8.2000e-04\n",
            "Epoch 38/200\n",
            "312/312 [==============================] - ETA: 0s - loss: 0.9334 - top_k_categorical_accuracy: 0.9478"
          ]
        },
        {
          "output_type": "stream",
          "name": "stderr",
          "text": [
            "WARNING:tensorflow:Early stopping conditioned on metric `val_accuracy` which is not available. Available metrics are: loss,top_k_categorical_accuracy,val_loss,val_top_k_categorical_accuracy,lr\n"
          ]
        },
        {
          "output_type": "stream",
          "name": "stdout",
          "text": [
            "\b\b\b\b\b\b\b\b\b\b\b\b\b\b\b\b\b\b\b\b\b\b\b\b\b\b\b\b\b\b\b\b\b\b\b\b\b\b\b\b\b\b\b\b\b\b\b\b\b\b\b\b\b\b\b\b\b\b\b\b\b\b\b\b\b\b\b\b\b\b\b\b\b\b\b\b\b\b\b\b\b\b\b\b\b\b\b\b\b\b\b\b\b\b\b\b\b\b\b\b\b\b\r312/312 [==============================] - 19s 61ms/step - loss: 0.9334 - top_k_categorical_accuracy: 0.9478 - val_loss: 1.1006 - val_top_k_categorical_accuracy: 0.9316 - lr: 0.0041\n",
            "Epoch 39/200\n",
            "312/312 [==============================] - ETA: 0s - loss: 0.9339 - top_k_categorical_accuracy: 0.9480"
          ]
        },
        {
          "output_type": "stream",
          "name": "stderr",
          "text": [
            "WARNING:tensorflow:Early stopping conditioned on metric `val_accuracy` which is not available. Available metrics are: loss,top_k_categorical_accuracy,val_loss,val_top_k_categorical_accuracy,lr\n"
          ]
        },
        {
          "output_type": "stream",
          "name": "stdout",
          "text": [
            "\b\b\b\b\b\b\b\b\b\b\b\b\b\b\b\b\b\b\b\b\b\b\b\b\b\b\b\b\b\b\b\b\b\b\b\b\b\b\b\b\b\b\b\b\b\b\b\b\b\b\b\b\b\b\b\b\b\b\b\b\b\b\b\b\b\b\b\b\b\b\b\b\b\b\b\b\b\b\b\b\b\b\b\b\b\b\b\b\b\b\b\b\b\b\b\b\b\b\b\b\b\b\r312/312 [==============================] - 19s 61ms/step - loss: 0.9339 - top_k_categorical_accuracy: 0.9480 - val_loss: 1.0754 - val_top_k_categorical_accuracy: 0.9319 - lr: 0.0041\n",
            "Epoch 40/200\n",
            "312/312 [==============================] - ETA: 0s - loss: 0.9128 - top_k_categorical_accuracy: 0.9485"
          ]
        },
        {
          "output_type": "stream",
          "name": "stderr",
          "text": [
            "WARNING:tensorflow:Early stopping conditioned on metric `val_accuracy` which is not available. Available metrics are: loss,top_k_categorical_accuracy,val_loss,val_top_k_categorical_accuracy,lr\n"
          ]
        },
        {
          "output_type": "stream",
          "name": "stdout",
          "text": [
            "\b\b\b\b\b\b\b\b\b\b\b\b\b\b\b\b\b\b\b\b\b\b\b\b\b\b\b\b\b\b\b\b\b\b\b\b\b\b\b\b\b\b\b\b\b\b\b\b\b\b\b\b\b\b\b\b\b\b\b\b\b\b\b\b\b\b\b\b\b\b\b\b\b\b\b\b\b\b\b\b\b\b\b\b\b\b\b\b\b\b\b\b\b\b\b\b\b\b\b\b\b\b\r312/312 [==============================] - 20s 63ms/step - loss: 0.9128 - top_k_categorical_accuracy: 0.9485 - val_loss: 1.1379 - val_top_k_categorical_accuracy: 0.9248 - lr: 0.0040\n",
            "Epoch 41/200\n",
            "312/312 [==============================] - ETA: 0s - loss: 0.9058 - top_k_categorical_accuracy: 0.9522"
          ]
        },
        {
          "output_type": "stream",
          "name": "stderr",
          "text": [
            "WARNING:tensorflow:Early stopping conditioned on metric `val_accuracy` which is not available. Available metrics are: loss,top_k_categorical_accuracy,val_loss,val_top_k_categorical_accuracy,lr\n"
          ]
        },
        {
          "output_type": "stream",
          "name": "stdout",
          "text": [
            "\b\b\b\b\b\b\b\b\b\b\b\b\b\b\b\b\b\b\b\b\b\b\b\b\b\b\b\b\b\b\b\b\b\b\b\b\b\b\b\b\b\b\b\b\b\b\b\b\b\b\b\b\b\b\b\b\b\b\b\b\b\b\b\b\b\b\b\b\b\b\b\b\b\b\b\b\b\b\b\b\b\b\b\b\b\b\b\b\b\b\b\b\b\b\b\b\b\b\b\b\b\b\r312/312 [==============================] - 19s 61ms/step - loss: 0.9058 - top_k_categorical_accuracy: 0.9522 - val_loss: 1.0739 - val_top_k_categorical_accuracy: 0.9304 - lr: 0.0040\n",
            "Epoch 42/200\n",
            "312/312 [==============================] - ETA: 0s - loss: 0.8856 - top_k_categorical_accuracy: 0.9529"
          ]
        },
        {
          "output_type": "stream",
          "name": "stderr",
          "text": [
            "WARNING:tensorflow:Early stopping conditioned on metric `val_accuracy` which is not available. Available metrics are: loss,top_k_categorical_accuracy,val_loss,val_top_k_categorical_accuracy,lr\n"
          ]
        },
        {
          "output_type": "stream",
          "name": "stdout",
          "text": [
            "\b\b\b\b\b\b\b\b\b\b\b\b\b\b\b\b\b\b\b\b\b\b\b\b\b\b\b\b\b\b\b\b\b\b\b\b\b\b\b\b\b\b\b\b\b\b\b\b\b\b\b\b\b\b\b\b\b\b\b\b\b\b\b\b\b\b\b\b\b\b\b\b\b\b\b\b\b\b\b\b\b\b\b\b\b\b\b\b\b\b\b\b\b\b\b\b\b\b\b\b\b\b\r312/312 [==============================] - 19s 62ms/step - loss: 0.8856 - top_k_categorical_accuracy: 0.9529 - val_loss: 1.1066 - val_top_k_categorical_accuracy: 0.9274 - lr: 0.0040\n",
            "Epoch 43/200\n",
            "312/312 [==============================] - ETA: 0s - loss: 0.8881 - top_k_categorical_accuracy: 0.9520"
          ]
        },
        {
          "output_type": "stream",
          "name": "stderr",
          "text": [
            "WARNING:tensorflow:Early stopping conditioned on metric `val_accuracy` which is not available. Available metrics are: loss,top_k_categorical_accuracy,val_loss,val_top_k_categorical_accuracy,lr\n"
          ]
        },
        {
          "output_type": "stream",
          "name": "stdout",
          "text": [
            "\b\b\b\b\b\b\b\b\b\b\b\b\b\b\b\b\b\b\b\b\b\b\b\b\b\b\b\b\b\b\b\b\b\b\b\b\b\b\b\b\b\b\b\b\b\b\b\b\b\b\b\b\b\b\b\b\b\b\b\b\b\b\b\b\b\b\b\b\b\b\b\b\b\b\b\b\b\b\b\b\b\b\b\b\b\b\b\b\b\b\b\b\b\b\b\b\b\b\b\b\b\b\r312/312 [==============================] - 19s 61ms/step - loss: 0.8881 - top_k_categorical_accuracy: 0.9520 - val_loss: 1.1141 - val_top_k_categorical_accuracy: 0.9302 - lr: 7.9000e-04\n",
            "Epoch 44/200\n",
            "312/312 [==============================] - ETA: 0s - loss: 0.8773 - top_k_categorical_accuracy: 0.9545"
          ]
        },
        {
          "output_type": "stream",
          "name": "stderr",
          "text": [
            "WARNING:tensorflow:Early stopping conditioned on metric `val_accuracy` which is not available. Available metrics are: loss,top_k_categorical_accuracy,val_loss,val_top_k_categorical_accuracy,lr\n"
          ]
        },
        {
          "output_type": "stream",
          "name": "stdout",
          "text": [
            "\b\b\b\b\b\b\b\b\b\b\b\b\b\b\b\b\b\b\b\b\b\b\b\b\b\b\b\b\b\b\b\b\b\b\b\b\b\b\b\b\b\b\b\b\b\b\b\b\b\b\b\b\b\b\b\b\b\b\b\b\b\b\b\b\b\b\b\b\b\b\b\b\b\b\b\b\b\b\b\b\b\b\b\b\b\b\b\b\b\b\b\b\b\b\b\b\b\b\b\b\b\b\r312/312 [==============================] - 19s 61ms/step - loss: 0.8773 - top_k_categorical_accuracy: 0.9545 - val_loss: 1.1540 - val_top_k_categorical_accuracy: 0.9220 - lr: 0.0039\n",
            "Epoch 45/200\n",
            "312/312 [==============================] - ETA: 0s - loss: 0.8721 - top_k_categorical_accuracy: 0.9549"
          ]
        },
        {
          "output_type": "stream",
          "name": "stderr",
          "text": [
            "WARNING:tensorflow:Early stopping conditioned on metric `val_accuracy` which is not available. Available metrics are: loss,top_k_categorical_accuracy,val_loss,val_top_k_categorical_accuracy,lr\n"
          ]
        },
        {
          "output_type": "stream",
          "name": "stdout",
          "text": [
            "\b\b\b\b\b\b\b\b\b\b\b\b\b\b\b\b\b\b\b\b\b\b\b\b\b\b\b\b\b\b\b\b\b\b\b\b\b\b\b\b\b\b\b\b\b\b\b\b\b\b\b\b\b\b\b\b\b\b\b\b\b\b\b\b\b\b\b\b\b\b\b\b\b\b\b\b\b\b\b\b\b\b\b\b\b\b\b\b\b\b\b\b\b\b\b\b\b\b\b\b\b\b\r312/312 [==============================] - 19s 62ms/step - loss: 0.8721 - top_k_categorical_accuracy: 0.9549 - val_loss: 0.9835 - val_top_k_categorical_accuracy: 0.9386 - lr: 0.0039\n",
            "Epoch 46/200\n",
            "312/312 [==============================] - ETA: 0s - loss: 0.8626 - top_k_categorical_accuracy: 0.9554"
          ]
        },
        {
          "output_type": "stream",
          "name": "stderr",
          "text": [
            "WARNING:tensorflow:Early stopping conditioned on metric `val_accuracy` which is not available. Available metrics are: loss,top_k_categorical_accuracy,val_loss,val_top_k_categorical_accuracy,lr\n"
          ]
        },
        {
          "output_type": "stream",
          "name": "stdout",
          "text": [
            "\b\b\b\b\b\b\b\b\b\b\b\b\b\b\b\b\b\b\b\b\b\b\b\b\b\b\b\b\b\b\b\b\b\b\b\b\b\b\b\b\b\b\b\b\b\b\b\b\b\b\b\b\b\b\b\b\b\b\b\b\b\b\b\b\b\b\b\b\b\b\b\b\b\b\b\b\b\b\b\b\b\b\b\b\b\b\b\b\b\b\b\b\b\b\b\b\b\b\b\b\b\b\r312/312 [==============================] - 19s 60ms/step - loss: 0.8626 - top_k_categorical_accuracy: 0.9554 - val_loss: 1.0592 - val_top_k_categorical_accuracy: 0.9325 - lr: 0.0039\n",
            "Epoch 47/200\n",
            "312/312 [==============================] - ETA: 0s - loss: 0.8542 - top_k_categorical_accuracy: 0.9567"
          ]
        },
        {
          "output_type": "stream",
          "name": "stderr",
          "text": [
            "WARNING:tensorflow:Early stopping conditioned on metric `val_accuracy` which is not available. Available metrics are: loss,top_k_categorical_accuracy,val_loss,val_top_k_categorical_accuracy,lr\n"
          ]
        },
        {
          "output_type": "stream",
          "name": "stdout",
          "text": [
            "\b\b\b\b\b\b\b\b\b\b\b\b\b\b\b\b\b\b\b\b\b\b\b\b\b\b\b\b\b\b\b\b\b\b\b\b\b\b\b\b\b\b\b\b\b\b\b\b\b\b\b\b\b\b\b\b\b\b\b\b\b\b\b\b\b\b\b\b\b\b\b\b\b\b\b\b\b\b\b\b\b\b\b\b\b\b\b\b\b\b\b\b\b\b\b\b\b\b\b\b\b\b\r312/312 [==============================] - 19s 60ms/step - loss: 0.8542 - top_k_categorical_accuracy: 0.9567 - val_loss: 1.1081 - val_top_k_categorical_accuracy: 0.9240 - lr: 7.7000e-04\n",
            "Epoch 48/200\n",
            "312/312 [==============================] - ETA: 0s - loss: 0.8550 - top_k_categorical_accuracy: 0.9567"
          ]
        },
        {
          "output_type": "stream",
          "name": "stderr",
          "text": [
            "WARNING:tensorflow:Early stopping conditioned on metric `val_accuracy` which is not available. Available metrics are: loss,top_k_categorical_accuracy,val_loss,val_top_k_categorical_accuracy,lr\n"
          ]
        },
        {
          "output_type": "stream",
          "name": "stdout",
          "text": [
            "\b\b\b\b\b\b\b\b\b\b\b\b\b\b\b\b\b\b\b\b\b\b\b\b\b\b\b\b\b\b\b\b\b\b\b\b\b\b\b\b\b\b\b\b\b\b\b\b\b\b\b\b\b\b\b\b\b\b\b\b\b\b\b\b\b\b\b\b\b\b\b\b\b\b\b\b\b\b\b\b\b\b\b\b\b\b\b\b\b\b\b\b\b\b\b\b\b\b\b\b\b\b\r312/312 [==============================] - 19s 60ms/step - loss: 0.8550 - top_k_categorical_accuracy: 0.9567 - val_loss: 1.1028 - val_top_k_categorical_accuracy: 0.9292 - lr: 0.0038\n",
            "Epoch 49/200\n",
            "312/312 [==============================] - ETA: 0s - loss: 0.8408 - top_k_categorical_accuracy: 0.9558"
          ]
        },
        {
          "output_type": "stream",
          "name": "stderr",
          "text": [
            "WARNING:tensorflow:Early stopping conditioned on metric `val_accuracy` which is not available. Available metrics are: loss,top_k_categorical_accuracy,val_loss,val_top_k_categorical_accuracy,lr\n"
          ]
        },
        {
          "output_type": "stream",
          "name": "stdout",
          "text": [
            "\b\b\b\b\b\b\b\b\b\b\b\b\b\b\b\b\b\b\b\b\b\b\b\b\b\b\b\b\b\b\b\b\b\b\b\b\b\b\b\b\b\b\b\b\b\b\b\b\b\b\b\b\b\b\b\b\b\b\b\b\b\b\b\b\b\b\b\b\b\b\b\b\b\b\b\b\b\b\b\b\b\b\b\b\b\b\b\b\b\b\b\b\b\b\b\b\b\b\b\b\b\b\r312/312 [==============================] - 20s 63ms/step - loss: 0.8408 - top_k_categorical_accuracy: 0.9558 - val_loss: 1.0309 - val_top_k_categorical_accuracy: 0.9364 - lr: 7.6000e-04\n",
            "Epoch 50/200\n",
            "312/312 [==============================] - ETA: 0s - loss: 0.8390 - top_k_categorical_accuracy: 0.9573"
          ]
        },
        {
          "output_type": "stream",
          "name": "stderr",
          "text": [
            "WARNING:tensorflow:Early stopping conditioned on metric `val_accuracy` which is not available. Available metrics are: loss,top_k_categorical_accuracy,val_loss,val_top_k_categorical_accuracy,lr\n"
          ]
        },
        {
          "output_type": "stream",
          "name": "stdout",
          "text": [
            "\b\b\b\b\b\b\b\b\b\b\b\b\b\b\b\b\b\b\b\b\b\b\b\b\b\b\b\b\b\b\b\b\b\b\b\b\b\b\b\b\b\b\b\b\b\b\b\b\b\b\b\b\b\b\b\b\b\b\b\b\b\b\b\b\b\b\b\b\b\b\b\b\b\b\b\b\b\b\b\b\b\b\b\b\b\b\b\b\b\b\b\b\b\b\b\b\b\b\b\b\b\b\r312/312 [==============================] - 19s 61ms/step - loss: 0.8390 - top_k_categorical_accuracy: 0.9573 - val_loss: 0.9651 - val_top_k_categorical_accuracy: 0.9425 - lr: 0.0038\n",
            "Epoch 51/200\n",
            "312/312 [==============================] - ETA: 0s - loss: 0.8286 - top_k_categorical_accuracy: 0.9581"
          ]
        },
        {
          "output_type": "stream",
          "name": "stderr",
          "text": [
            "WARNING:tensorflow:Early stopping conditioned on metric `val_accuracy` which is not available. Available metrics are: loss,top_k_categorical_accuracy,val_loss,val_top_k_categorical_accuracy,lr\n"
          ]
        },
        {
          "output_type": "stream",
          "name": "stdout",
          "text": [
            "\b\b\b\b\b\b\b\b\b\b\b\b\b\b\b\b\b\b\b\b\b\b\b\b\b\b\b\b\b\b\b\b\b\b\b\b\b\b\b\b\b\b\b\b\b\b\b\b\b\b\b\b\b\b\b\b\b\b\b\b\b\b\b\b\b\b\b\b\b\b\b\b\b\b\b\b\b\b\b\b\b\b\b\b\b\b\b\b\b\b\b\b\b\b\b\b\b\b\b\b\b\b\r312/312 [==============================] - 19s 60ms/step - loss: 0.8286 - top_k_categorical_accuracy: 0.9581 - val_loss: 1.0782 - val_top_k_categorical_accuracy: 0.9291 - lr: 0.0037\n",
            "Epoch 52/200\n",
            "312/312 [==============================] - ETA: 0s - loss: 0.8262 - top_k_categorical_accuracy: 0.9599"
          ]
        },
        {
          "output_type": "stream",
          "name": "stderr",
          "text": [
            "WARNING:tensorflow:Early stopping conditioned on metric `val_accuracy` which is not available. Available metrics are: loss,top_k_categorical_accuracy,val_loss,val_top_k_categorical_accuracy,lr\n"
          ]
        },
        {
          "output_type": "stream",
          "name": "stdout",
          "text": [
            "\b\b\b\b\b\b\b\b\b\b\b\b\b\b\b\b\b\b\b\b\b\b\b\b\b\b\b\b\b\b\b\b\b\b\b\b\b\b\b\b\b\b\b\b\b\b\b\b\b\b\b\b\b\b\b\b\b\b\b\b\b\b\b\b\b\b\b\b\b\b\b\b\b\b\b\b\b\b\b\b\b\b\b\b\b\b\b\b\b\b\b\b\b\b\b\b\b\b\b\b\b\b\r312/312 [==============================] - 19s 62ms/step - loss: 0.8262 - top_k_categorical_accuracy: 0.9599 - val_loss: 0.9575 - val_top_k_categorical_accuracy: 0.9466 - lr: 0.0037\n",
            "Epoch 53/200\n",
            "312/312 [==============================] - ETA: 0s - loss: 0.8186 - top_k_categorical_accuracy: 0.9595"
          ]
        },
        {
          "output_type": "stream",
          "name": "stderr",
          "text": [
            "WARNING:tensorflow:Early stopping conditioned on metric `val_accuracy` which is not available. Available metrics are: loss,top_k_categorical_accuracy,val_loss,val_top_k_categorical_accuracy,lr\n"
          ]
        },
        {
          "output_type": "stream",
          "name": "stdout",
          "text": [
            "\b\b\b\b\b\b\b\b\b\b\b\b\b\b\b\b\b\b\b\b\b\b\b\b\b\b\b\b\b\b\b\b\b\b\b\b\b\b\b\b\b\b\b\b\b\b\b\b\b\b\b\b\b\b\b\b\b\b\b\b\b\b\b\b\b\b\b\b\b\b\b\b\b\b\b\b\b\b\b\b\b\b\b\b\b\b\b\b\b\b\b\b\b\b\b\b\b\b\b\b\b\b\r312/312 [==============================] - 20s 63ms/step - loss: 0.8186 - top_k_categorical_accuracy: 0.9595 - val_loss: 1.1652 - val_top_k_categorical_accuracy: 0.9320 - lr: 0.0037\n",
            "Epoch 54/200\n",
            "312/312 [==============================] - ETA: 0s - loss: 0.8182 - top_k_categorical_accuracy: 0.9609"
          ]
        },
        {
          "output_type": "stream",
          "name": "stderr",
          "text": [
            "WARNING:tensorflow:Early stopping conditioned on metric `val_accuracy` which is not available. Available metrics are: loss,top_k_categorical_accuracy,val_loss,val_top_k_categorical_accuracy,lr\n"
          ]
        },
        {
          "output_type": "stream",
          "name": "stdout",
          "text": [
            "\b\b\b\b\b\b\b\b\b\b\b\b\b\b\b\b\b\b\b\b\b\b\b\b\b\b\b\b\b\b\b\b\b\b\b\b\b\b\b\b\b\b\b\b\b\b\b\b\b\b\b\b\b\b\b\b\b\b\b\b\b\b\b\b\b\b\b\b\b\b\b\b\b\b\b\b\b\b\b\b\b\b\b\b\b\b\b\b\b\b\b\b\b\b\b\b\b\b\b\b\b\b\r312/312 [==============================] - 20s 63ms/step - loss: 0.8182 - top_k_categorical_accuracy: 0.9609 - val_loss: 1.0208 - val_top_k_categorical_accuracy: 0.9415 - lr: 7.3500e-04\n",
            "Epoch 55/200\n",
            "312/312 [==============================] - ETA: 0s - loss: 0.8041 - top_k_categorical_accuracy: 0.9615"
          ]
        },
        {
          "output_type": "stream",
          "name": "stderr",
          "text": [
            "WARNING:tensorflow:Early stopping conditioned on metric `val_accuracy` which is not available. Available metrics are: loss,top_k_categorical_accuracy,val_loss,val_top_k_categorical_accuracy,lr\n"
          ]
        },
        {
          "output_type": "stream",
          "name": "stdout",
          "text": [
            "\b\b\b\b\b\b\b\b\b\b\b\b\b\b\b\b\b\b\b\b\b\b\b\b\b\b\b\b\b\b\b\b\b\b\b\b\b\b\b\b\b\b\b\b\b\b\b\b\b\b\b\b\b\b\b\b\b\b\b\b\b\b\b\b\b\b\b\b\b\b\b\b\b\b\b\b\b\b\b\b\b\b\b\b\b\b\b\b\b\b\b\b\b\b\b\b\b\b\b\b\b\b\r312/312 [==============================] - 20s 63ms/step - loss: 0.8041 - top_k_categorical_accuracy: 0.9615 - val_loss: 1.1431 - val_top_k_categorical_accuracy: 0.9271 - lr: 0.0037\n",
            "Epoch 56/200\n",
            "312/312 [==============================] - ETA: 0s - loss: 0.8003 - top_k_categorical_accuracy: 0.9616"
          ]
        },
        {
          "output_type": "stream",
          "name": "stderr",
          "text": [
            "WARNING:tensorflow:Early stopping conditioned on metric `val_accuracy` which is not available. Available metrics are: loss,top_k_categorical_accuracy,val_loss,val_top_k_categorical_accuracy,lr\n"
          ]
        },
        {
          "output_type": "stream",
          "name": "stdout",
          "text": [
            "\b\b\b\b\b\b\b\b\b\b\b\b\b\b\b\b\b\b\b\b\b\b\b\b\b\b\b\b\b\b\b\b\b\b\b\b\b\b\b\b\b\b\b\b\b\b\b\b\b\b\b\b\b\b\b\b\b\b\b\b\b\b\b\b\b\b\b\b\b\b\b\b\b\b\b\b\b\b\b\b\b\b\b\b\b\b\b\b\b\b\b\b\b\b\b\b\b\b\b\b\b\b\r312/312 [==============================] - 20s 63ms/step - loss: 0.8003 - top_k_categorical_accuracy: 0.9616 - val_loss: 0.9615 - val_top_k_categorical_accuracy: 0.9439 - lr: 7.2500e-04\n",
            "Epoch 57/200\n",
            "312/312 [==============================] - ETA: 0s - loss: 0.7939 - top_k_categorical_accuracy: 0.9622"
          ]
        },
        {
          "output_type": "stream",
          "name": "stderr",
          "text": [
            "WARNING:tensorflow:Early stopping conditioned on metric `val_accuracy` which is not available. Available metrics are: loss,top_k_categorical_accuracy,val_loss,val_top_k_categorical_accuracy,lr\n"
          ]
        },
        {
          "output_type": "stream",
          "name": "stdout",
          "text": [
            "\b\b\b\b\b\b\b\b\b\b\b\b\b\b\b\b\b\b\b\b\b\b\b\b\b\b\b\b\b\b\b\b\b\b\b\b\b\b\b\b\b\b\b\b\b\b\b\b\b\b\b\b\b\b\b\b\b\b\b\b\b\b\b\b\b\b\b\b\b\b\b\b\b\b\b\b\b\b\b\b\b\b\b\b\b\b\b\b\b\b\b\b\b\b\b\b\b\b\b\b\b\b\r312/312 [==============================] - 19s 61ms/step - loss: 0.7939 - top_k_categorical_accuracy: 0.9622 - val_loss: 1.0536 - val_top_k_categorical_accuracy: 0.9347 - lr: 0.0036\n",
            "Epoch 58/200\n",
            "312/312 [==============================] - ETA: 0s - loss: 0.7897 - top_k_categorical_accuracy: 0.9620"
          ]
        },
        {
          "output_type": "stream",
          "name": "stderr",
          "text": [
            "WARNING:tensorflow:Early stopping conditioned on metric `val_accuracy` which is not available. Available metrics are: loss,top_k_categorical_accuracy,val_loss,val_top_k_categorical_accuracy,lr\n"
          ]
        },
        {
          "output_type": "stream",
          "name": "stdout",
          "text": [
            "\b\b\b\b\b\b\b\b\b\b\b\b\b\b\b\b\b\b\b\b\b\b\b\b\b\b\b\b\b\b\b\b\b\b\b\b\b\b\b\b\b\b\b\b\b\b\b\b\b\b\b\b\b\b\b\b\b\b\b\b\b\b\b\b\b\b\b\b\b\b\b\b\b\b\b\b\b\b\b\b\b\b\b\b\b\b\b\b\b\b\b\b\b\b\b\b\b\b\b\b\b\b\r312/312 [==============================] - 19s 61ms/step - loss: 0.7897 - top_k_categorical_accuracy: 0.9620 - val_loss: 1.0242 - val_top_k_categorical_accuracy: 0.9387 - lr: 7.1500e-04\n",
            "Epoch 59/200\n",
            "312/312 [==============================] - ETA: 0s - loss: 0.7821 - top_k_categorical_accuracy: 0.9633"
          ]
        },
        {
          "output_type": "stream",
          "name": "stderr",
          "text": [
            "WARNING:tensorflow:Early stopping conditioned on metric `val_accuracy` which is not available. Available metrics are: loss,top_k_categorical_accuracy,val_loss,val_top_k_categorical_accuracy,lr\n"
          ]
        },
        {
          "output_type": "stream",
          "name": "stdout",
          "text": [
            "\b\b\b\b\b\b\b\b\b\b\b\b\b\b\b\b\b\b\b\b\b\b\b\b\b\b\b\b\b\b\b\b\b\b\b\b\b\b\b\b\b\b\b\b\b\b\b\b\b\b\b\b\b\b\b\b\b\b\b\b\b\b\b\b\b\b\b\b\b\b\b\b\b\b\b\b\b\b\b\b\b\b\b\b\b\b\b\b\b\b\b\b\b\b\b\b\b\b\b\b\b\b\r312/312 [==============================] - 20s 63ms/step - loss: 0.7821 - top_k_categorical_accuracy: 0.9633 - val_loss: 1.0298 - val_top_k_categorical_accuracy: 0.9379 - lr: 0.0036\n",
            "Epoch 60/200\n",
            "312/312 [==============================] - ETA: 0s - loss: 0.7762 - top_k_categorical_accuracy: 0.9633"
          ]
        },
        {
          "output_type": "stream",
          "name": "stderr",
          "text": [
            "WARNING:tensorflow:Early stopping conditioned on metric `val_accuracy` which is not available. Available metrics are: loss,top_k_categorical_accuracy,val_loss,val_top_k_categorical_accuracy,lr\n"
          ]
        },
        {
          "output_type": "stream",
          "name": "stdout",
          "text": [
            "\b\b\b\b\b\b\b\b\b\b\b\b\b\b\b\b\b\b\b\b\b\b\b\b\b\b\b\b\b\b\b\b\b\b\b\b\b\b\b\b\b\b\b\b\b\b\b\b\b\b\b\b\b\b\b\b\b\b\b\b\b\b\b\b\b\b\b\b\b\b\b\b\b\b\b\b\b\b\b\b\b\b\b\b\b\b\b\b\b\b\b\b\b\b\b\b\b\b\b\b\b\b\r312/312 [==============================] - 19s 60ms/step - loss: 0.7762 - top_k_categorical_accuracy: 0.9633 - val_loss: 1.0897 - val_top_k_categorical_accuracy: 0.9317 - lr: 7.0500e-04\n",
            "Epoch 61/200\n",
            "312/312 [==============================] - ETA: 0s - loss: 0.7697 - top_k_categorical_accuracy: 0.9634"
          ]
        },
        {
          "output_type": "stream",
          "name": "stderr",
          "text": [
            "WARNING:tensorflow:Early stopping conditioned on metric `val_accuracy` which is not available. Available metrics are: loss,top_k_categorical_accuracy,val_loss,val_top_k_categorical_accuracy,lr\n"
          ]
        },
        {
          "output_type": "stream",
          "name": "stdout",
          "text": [
            "\b\b\b\b\b\b\b\b\b\b\b\b\b\b\b\b\b\b\b\b\b\b\b\b\b\b\b\b\b\b\b\b\b\b\b\b\b\b\b\b\b\b\b\b\b\b\b\b\b\b\b\b\b\b\b\b\b\b\b\b\b\b\b\b\b\b\b\b\b\b\b\b\b\b\b\b\b\b\b\b\b\b\b\b\b\b\b\b\b\b\b\b\b\b\b\b\b\b\b\b\b\b\r312/312 [==============================] - 19s 61ms/step - loss: 0.7697 - top_k_categorical_accuracy: 0.9634 - val_loss: 1.0343 - val_top_k_categorical_accuracy: 0.9356 - lr: 0.0035\n",
            "Epoch 62/200\n",
            "312/312 [==============================] - ETA: 0s - loss: 0.7719 - top_k_categorical_accuracy: 0.9640"
          ]
        },
        {
          "output_type": "stream",
          "name": "stderr",
          "text": [
            "WARNING:tensorflow:Early stopping conditioned on metric `val_accuracy` which is not available. Available metrics are: loss,top_k_categorical_accuracy,val_loss,val_top_k_categorical_accuracy,lr\n"
          ]
        },
        {
          "output_type": "stream",
          "name": "stdout",
          "text": [
            "\b\b\b\b\b\b\b\b\b\b\b\b\b\b\b\b\b\b\b\b\b\b\b\b\b\b\b\b\b\b\b\b\b\b\b\b\b\b\b\b\b\b\b\b\b\b\b\b\b\b\b\b\b\b\b\b\b\b\b\b\b\b\b\b\b\b\b\b\b\b\b\b\b\b\b\b\b\b\b\b\b\b\b\b\b\b\b\b\b\b\b\b\b\b\b\b\b\b\b\b\b\b\r312/312 [==============================] - 19s 61ms/step - loss: 0.7719 - top_k_categorical_accuracy: 0.9640 - val_loss: 1.0075 - val_top_k_categorical_accuracy: 0.9442 - lr: 6.9500e-04\n",
            "Epoch 63/200\n",
            "312/312 [==============================] - ETA: 0s - loss: 0.7628 - top_k_categorical_accuracy: 0.9651"
          ]
        },
        {
          "output_type": "stream",
          "name": "stderr",
          "text": [
            "WARNING:tensorflow:Early stopping conditioned on metric `val_accuracy` which is not available. Available metrics are: loss,top_k_categorical_accuracy,val_loss,val_top_k_categorical_accuracy,lr\n"
          ]
        },
        {
          "output_type": "stream",
          "name": "stdout",
          "text": [
            "\b\b\b\b\b\b\b\b\b\b\b\b\b\b\b\b\b\b\b\b\b\b\b\b\b\b\b\b\b\b\b\b\b\b\b\b\b\b\b\b\b\b\b\b\b\b\b\b\b\b\b\b\b\b\b\b\b\b\b\b\b\b\b\b\b\b\b\b\b\b\b\b\b\b\b\b\b\b\b\b\b\b\b\b\b\b\b\b\b\b\b\b\b\b\b\b\b\b\b\b\b\b\r312/312 [==============================] - 19s 62ms/step - loss: 0.7628 - top_k_categorical_accuracy: 0.9651 - val_loss: 1.0132 - val_top_k_categorical_accuracy: 0.9386 - lr: 0.0034\n",
            "Epoch 64/200\n",
            "311/312 [============================>.] - ETA: 0s - loss: 0.7589 - top_k_categorical_accuracy: 0.9650"
          ]
        },
        {
          "output_type": "stream",
          "name": "stderr",
          "text": [
            "WARNING:tensorflow:Early stopping conditioned on metric `val_accuracy` which is not available. Available metrics are: loss,top_k_categorical_accuracy,val_loss,val_top_k_categorical_accuracy,lr\n"
          ]
        },
        {
          "output_type": "stream",
          "name": "stdout",
          "text": [
            "\b\b\b\b\b\b\b\b\b\b\b\b\b\b\b\b\b\b\b\b\b\b\b\b\b\b\b\b\b\b\b\b\b\b\b\b\b\b\b\b\b\b\b\b\b\b\b\b\b\b\b\b\b\b\b\b\b\b\b\b\b\b\b\b\b\b\b\b\b\b\b\b\b\b\b\b\b\b\b\b\b\b\b\b\b\b\b\b\b\b\b\b\b\b\b\b\b\b\b\b\b\b\r312/312 [==============================] - 20s 62ms/step - loss: 0.7591 - top_k_categorical_accuracy: 0.9650 - val_loss: 1.0052 - val_top_k_categorical_accuracy: 0.9407 - lr: 6.8500e-04\n",
            "Epoch 65/200\n",
            "312/312 [==============================] - ETA: 0s - loss: 0.7574 - top_k_categorical_accuracy: 0.9663"
          ]
        },
        {
          "output_type": "stream",
          "name": "stderr",
          "text": [
            "WARNING:tensorflow:Early stopping conditioned on metric `val_accuracy` which is not available. Available metrics are: loss,top_k_categorical_accuracy,val_loss,val_top_k_categorical_accuracy,lr\n"
          ]
        },
        {
          "output_type": "stream",
          "name": "stdout",
          "text": [
            "\b\b\b\b\b\b\b\b\b\b\b\b\b\b\b\b\b\b\b\b\b\b\b\b\b\b\b\b\b\b\b\b\b\b\b\b\b\b\b\b\b\b\b\b\b\b\b\b\b\b\b\b\b\b\b\b\b\b\b\b\b\b\b\b\b\b\b\b\b\b\b\b\b\b\b\b\b\b\b\b\b\b\b\b\b\b\b\b\b\b\b\b\b\b\b\b\b\b\b\b\b\b\r312/312 [==============================] - 19s 62ms/step - loss: 0.7574 - top_k_categorical_accuracy: 0.9663 - val_loss: 0.9909 - val_top_k_categorical_accuracy: 0.9442 - lr: 0.0034\n",
            "Epoch 66/200\n",
            "312/312 [==============================] - ETA: 0s - loss: 0.7477 - top_k_categorical_accuracy: 0.9650"
          ]
        },
        {
          "output_type": "stream",
          "name": "stderr",
          "text": [
            "WARNING:tensorflow:Early stopping conditioned on metric `val_accuracy` which is not available. Available metrics are: loss,top_k_categorical_accuracy,val_loss,val_top_k_categorical_accuracy,lr\n"
          ]
        },
        {
          "output_type": "stream",
          "name": "stdout",
          "text": [
            "\b\b\b\b\b\b\b\b\b\b\b\b\b\b\b\b\b\b\b\b\b\b\b\b\b\b\b\b\b\b\b\b\b\b\b\b\b\b\b\b\b\b\b\b\b\b\b\b\b\b\b\b\b\b\b\b\b\b\b\b\b\b\b\b\b\b\b\b\b\b\b\b\b\b\b\b\b\b\b\b\b\b\b\b\b\b\b\b\b\b\b\b\b\b\b\b\b\b\b\b\b\b\r312/312 [==============================] - 19s 62ms/step - loss: 0.7477 - top_k_categorical_accuracy: 0.9650 - val_loss: 0.9651 - val_top_k_categorical_accuracy: 0.9465 - lr: 6.7500e-04\n",
            "Epoch 67/200\n",
            "312/312 [==============================] - ETA: 0s - loss: 0.7447 - top_k_categorical_accuracy: 0.9661"
          ]
        },
        {
          "output_type": "stream",
          "name": "stderr",
          "text": [
            "WARNING:tensorflow:Early stopping conditioned on metric `val_accuracy` which is not available. Available metrics are: loss,top_k_categorical_accuracy,val_loss,val_top_k_categorical_accuracy,lr\n"
          ]
        },
        {
          "output_type": "stream",
          "name": "stdout",
          "text": [
            "\b\b\b\b\b\b\b\b\b\b\b\b\b\b\b\b\b\b\b\b\b\b\b\b\b\b\b\b\b\b\b\b\b\b\b\b\b\b\b\b\b\b\b\b\b\b\b\b\b\b\b\b\b\b\b\b\b\b\b\b\b\b\b\b\b\b\b\b\b\b\b\b\b\b\b\b\b\b\b\b\b\b\b\b\b\b\b\b\b\b\b\b\b\b\b\b\b\b\b\b\b\b\r312/312 [==============================] - 19s 61ms/step - loss: 0.7447 - top_k_categorical_accuracy: 0.9661 - val_loss: 1.0222 - val_top_k_categorical_accuracy: 0.9366 - lr: 0.0033\n",
            "Epoch 68/200\n",
            "312/312 [==============================] - ETA: 0s - loss: 0.7310 - top_k_categorical_accuracy: 0.9677"
          ]
        },
        {
          "output_type": "stream",
          "name": "stderr",
          "text": [
            "WARNING:tensorflow:Early stopping conditioned on metric `val_accuracy` which is not available. Available metrics are: loss,top_k_categorical_accuracy,val_loss,val_top_k_categorical_accuracy,lr\n"
          ]
        },
        {
          "output_type": "stream",
          "name": "stdout",
          "text": [
            "\b\b\b\b\b\b\b\b\b\b\b\b\b\b\b\b\b\b\b\b\b\b\b\b\b\b\b\b\b\b\b\b\b\b\b\b\b\b\b\b\b\b\b\b\b\b\b\b\b\b\b\b\b\b\b\b\b\b\b\b\b\b\b\b\b\b\b\b\b\b\b\b\b\b\b\b\b\b\b\b\b\b\b\b\b\b\b\b\b\b\b\b\b\b\b\b\b\b\b\b\b\b\r312/312 [==============================] - 20s 64ms/step - loss: 0.7310 - top_k_categorical_accuracy: 0.9677 - val_loss: 1.0257 - val_top_k_categorical_accuracy: 0.9395 - lr: 6.6500e-04\n",
            "Epoch 69/200\n",
            "312/312 [==============================] - ETA: 0s - loss: 0.7309 - top_k_categorical_accuracy: 0.9676"
          ]
        },
        {
          "output_type": "stream",
          "name": "stderr",
          "text": [
            "WARNING:tensorflow:Early stopping conditioned on metric `val_accuracy` which is not available. Available metrics are: loss,top_k_categorical_accuracy,val_loss,val_top_k_categorical_accuracy,lr\n"
          ]
        },
        {
          "output_type": "stream",
          "name": "stdout",
          "text": [
            "\b\b\b\b\b\b\b\b\b\b\b\b\b\b\b\b\b\b\b\b\b\b\b\b\b\b\b\b\b\b\b\b\b\b\b\b\b\b\b\b\b\b\b\b\b\b\b\b\b\b\b\b\b\b\b\b\b\b\b\b\b\b\b\b\b\b\b\b\b\b\b\b\b\b\b\b\b\b\b\b\b\b\b\b\b\b\b\b\b\b\b\b\b\b\b\b\b\b\b\b\b\b\r312/312 [==============================] - 19s 61ms/step - loss: 0.7309 - top_k_categorical_accuracy: 0.9676 - val_loss: 0.9781 - val_top_k_categorical_accuracy: 0.9415 - lr: 0.0033\n",
            "Epoch 70/200\n",
            "312/312 [==============================] - ETA: 0s - loss: 0.7279 - top_k_categorical_accuracy: 0.9692"
          ]
        },
        {
          "output_type": "stream",
          "name": "stderr",
          "text": [
            "WARNING:tensorflow:Early stopping conditioned on metric `val_accuracy` which is not available. Available metrics are: loss,top_k_categorical_accuracy,val_loss,val_top_k_categorical_accuracy,lr\n"
          ]
        },
        {
          "output_type": "stream",
          "name": "stdout",
          "text": [
            "\b\b\b\b\b\b\b\b\b\b\b\b\b\b\b\b\b\b\b\b\b\b\b\b\b\b\b\b\b\b\b\b\b\b\b\b\b\b\b\b\b\b\b\b\b\b\b\b\b\b\b\b\b\b\b\b\b\b\b\b\b\b\b\b\b\b\b\b\b\b\b\b\b\b\b\b\b\b\b\b\b\b\b\b\b\b\b\b\b\b\b\b\b\b\b\b\b\b\b\b\b\b\r312/312 [==============================] - 19s 61ms/step - loss: 0.7279 - top_k_categorical_accuracy: 0.9692 - val_loss: 0.9839 - val_top_k_categorical_accuracy: 0.9462 - lr: 6.5500e-04\n",
            "Epoch 71/200\n",
            "312/312 [==============================] - ETA: 0s - loss: 0.7287 - top_k_categorical_accuracy: 0.9693"
          ]
        },
        {
          "output_type": "stream",
          "name": "stderr",
          "text": [
            "WARNING:tensorflow:Early stopping conditioned on metric `val_accuracy` which is not available. Available metrics are: loss,top_k_categorical_accuracy,val_loss,val_top_k_categorical_accuracy,lr\n"
          ]
        },
        {
          "output_type": "stream",
          "name": "stdout",
          "text": [
            "\b\b\b\b\b\b\b\b\b\b\b\b\b\b\b\b\b\b\b\b\b\b\b\b\b\b\b\b\b\b\b\b\b\b\b\b\b\b\b\b\b\b\b\b\b\b\b\b\b\b\b\b\b\b\b\b\b\b\b\b\b\b\b\b\b\b\b\b\b\b\b\b\b\b\b\b\b\b\b\b\b\b\b\b\b\b\b\b\b\b\b\b\b\b\b\b\b\b\b\b\b\b\r312/312 [==============================] - 19s 61ms/step - loss: 0.7287 - top_k_categorical_accuracy: 0.9693 - val_loss: 0.9310 - val_top_k_categorical_accuracy: 0.9473 - lr: 0.0033\n",
            "Epoch 72/200\n",
            "312/312 [==============================] - ETA: 0s - loss: 0.7198 - top_k_categorical_accuracy: 0.9694"
          ]
        },
        {
          "output_type": "stream",
          "name": "stderr",
          "text": [
            "WARNING:tensorflow:Early stopping conditioned on metric `val_accuracy` which is not available. Available metrics are: loss,top_k_categorical_accuracy,val_loss,val_top_k_categorical_accuracy,lr\n"
          ]
        },
        {
          "output_type": "stream",
          "name": "stdout",
          "text": [
            "\b\b\b\b\b\b\b\b\b\b\b\b\b\b\b\b\b\b\b\b\b\b\b\b\b\b\b\b\b\b\b\b\b\b\b\b\b\b\b\b\b\b\b\b\b\b\b\b\b\b\b\b\b\b\b\b\b\b\b\b\b\b\b\b\b\b\b\b\b\b\b\b\b\b\b\b\b\b\b\b\b\b\b\b\b\b\b\b\b\b\b\b\b\b\b\b\b\b\b\b\b\b\r312/312 [==============================] - 19s 61ms/step - loss: 0.7198 - top_k_categorical_accuracy: 0.9694 - val_loss: 1.0616 - val_top_k_categorical_accuracy: 0.9392 - lr: 0.0032\n",
            "Epoch 73/200\n",
            "312/312 [==============================] - ETA: 0s - loss: 0.7219 - top_k_categorical_accuracy: 0.9685"
          ]
        },
        {
          "output_type": "stream",
          "name": "stderr",
          "text": [
            "WARNING:tensorflow:Early stopping conditioned on metric `val_accuracy` which is not available. Available metrics are: loss,top_k_categorical_accuracy,val_loss,val_top_k_categorical_accuracy,lr\n"
          ]
        },
        {
          "output_type": "stream",
          "name": "stdout",
          "text": [
            "\b\b\b\b\b\b\b\b\b\b\b\b\b\b\b\b\b\b\b\b\b\b\b\b\b\b\b\b\b\b\b\b\b\b\b\b\b\b\b\b\b\b\b\b\b\b\b\b\b\b\b\b\b\b\b\b\b\b\b\b\b\b\b\b\b\b\b\b\b\b\b\b\b\b\b\b\b\b\b\b\b\b\b\b\b\b\b\b\b\b\b\b\b\b\b\b\b\b\b\b\b\b\r312/312 [==============================] - 19s 61ms/step - loss: 0.7219 - top_k_categorical_accuracy: 0.9685 - val_loss: 0.9696 - val_top_k_categorical_accuracy: 0.9447 - lr: 6.4000e-04\n",
            "Epoch 74/200\n",
            "312/312 [==============================] - ETA: 0s - loss: 0.7098 - top_k_categorical_accuracy: 0.9690"
          ]
        },
        {
          "output_type": "stream",
          "name": "stderr",
          "text": [
            "WARNING:tensorflow:Early stopping conditioned on metric `val_accuracy` which is not available. Available metrics are: loss,top_k_categorical_accuracy,val_loss,val_top_k_categorical_accuracy,lr\n"
          ]
        },
        {
          "output_type": "stream",
          "name": "stdout",
          "text": [
            "\b\b\b\b\b\b\b\b\b\b\b\b\b\b\b\b\b\b\b\b\b\b\b\b\b\b\b\b\b\b\b\b\b\b\b\b\b\b\b\b\b\b\b\b\b\b\b\b\b\b\b\b\b\b\b\b\b\b\b\b\b\b\b\b\b\b\b\b\b\b\b\b\b\b\b\b\b\b\b\b\b\b\b\b\b\b\b\b\b\b\b\b\b\b\b\b\b\b\b\b\b\b\r312/312 [==============================] - 19s 61ms/step - loss: 0.7098 - top_k_categorical_accuracy: 0.9690 - val_loss: 0.9582 - val_top_k_categorical_accuracy: 0.9429 - lr: 0.0032\n",
            "Epoch 75/200\n",
            "312/312 [==============================] - ETA: 0s - loss: 0.7046 - top_k_categorical_accuracy: 0.9702"
          ]
        },
        {
          "output_type": "stream",
          "name": "stderr",
          "text": [
            "WARNING:tensorflow:Early stopping conditioned on metric `val_accuracy` which is not available. Available metrics are: loss,top_k_categorical_accuracy,val_loss,val_top_k_categorical_accuracy,lr\n"
          ]
        },
        {
          "output_type": "stream",
          "name": "stdout",
          "text": [
            "\b\b\b\b\b\b\b\b\b\b\b\b\b\b\b\b\b\b\b\b\b\b\b\b\b\b\b\b\b\b\b\b\b\b\b\b\b\b\b\b\b\b\b\b\b\b\b\b\b\b\b\b\b\b\b\b\b\b\b\b\b\b\b\b\b\b\b\b\b\b\b\b\b\b\b\b\b\b\b\b\b\b\b\b\b\b\b\b\b\b\b\b\b\b\b\b\b\b\b\b\b\b\r312/312 [==============================] - 19s 61ms/step - loss: 0.7046 - top_k_categorical_accuracy: 0.9702 - val_loss: 0.9574 - val_top_k_categorical_accuracy: 0.9454 - lr: 6.3000e-04\n",
            "Epoch 76/200\n",
            "312/312 [==============================] - ETA: 0s - loss: 0.7057 - top_k_categorical_accuracy: 0.9702"
          ]
        },
        {
          "output_type": "stream",
          "name": "stderr",
          "text": [
            "WARNING:tensorflow:Early stopping conditioned on metric `val_accuracy` which is not available. Available metrics are: loss,top_k_categorical_accuracy,val_loss,val_top_k_categorical_accuracy,lr\n"
          ]
        },
        {
          "output_type": "stream",
          "name": "stdout",
          "text": [
            "\b\b\b\b\b\b\b\b\b\b\b\b\b\b\b\b\b\b\b\b\b\b\b\b\b\b\b\b\b\b\b\b\b\b\b\b\b\b\b\b\b\b\b\b\b\b\b\b\b\b\b\b\b\b\b\b\b\b\b\b\b\b\b\b\b\b\b\b\b\b\b\b\b\b\b\b\b\b\b\b\b\b\b\b\b\b\b\b\b\b\b\b\b\b\b\b\b\b\b\b\b\b\r312/312 [==============================] - 19s 62ms/step - loss: 0.7057 - top_k_categorical_accuracy: 0.9702 - val_loss: 0.9964 - val_top_k_categorical_accuracy: 0.9413 - lr: 0.0031\n",
            "Epoch 77/200\n",
            "312/312 [==============================] - ETA: 0s - loss: 0.6990 - top_k_categorical_accuracy: 0.9702"
          ]
        },
        {
          "output_type": "stream",
          "name": "stderr",
          "text": [
            "WARNING:tensorflow:Early stopping conditioned on metric `val_accuracy` which is not available. Available metrics are: loss,top_k_categorical_accuracy,val_loss,val_top_k_categorical_accuracy,lr\n"
          ]
        },
        {
          "output_type": "stream",
          "name": "stdout",
          "text": [
            "\b\b\b\b\b\b\b\b\b\b\b\b\b\b\b\b\b\b\b\b\b\b\b\b\b\b\b\b\b\b\b\b\b\b\b\b\b\b\b\b\b\b\b\b\b\b\b\b\b\b\b\b\b\b\b\b\b\b\b\b\b\b\b\b\b\b\b\b\b\b\b\b\b\b\b\b\b\b\b\b\b\b\b\b\b\b\b\b\b\b\b\b\b\b\b\b\b\b\b\b\b\b\r312/312 [==============================] - 19s 61ms/step - loss: 0.6990 - top_k_categorical_accuracy: 0.9702 - val_loss: 1.0193 - val_top_k_categorical_accuracy: 0.9423 - lr: 6.2000e-04\n",
            "Epoch 78/200\n",
            "312/312 [==============================] - ETA: 0s - loss: 0.7001 - top_k_categorical_accuracy: 0.9707"
          ]
        },
        {
          "output_type": "stream",
          "name": "stderr",
          "text": [
            "WARNING:tensorflow:Early stopping conditioned on metric `val_accuracy` which is not available. Available metrics are: loss,top_k_categorical_accuracy,val_loss,val_top_k_categorical_accuracy,lr\n"
          ]
        },
        {
          "output_type": "stream",
          "name": "stdout",
          "text": [
            "\b\b\b\b\b\b\b\b\b\b\b\b\b\b\b\b\b\b\b\b\b\b\b\b\b\b\b\b\b\b\b\b\b\b\b\b\b\b\b\b\b\b\b\b\b\b\b\b\b\b\b\b\b\b\b\b\b\b\b\b\b\b\b\b\b\b\b\b\b\b\b\b\b\b\b\b\b\b\b\b\b\b\b\b\b\b\b\b\b\b\b\b\b\b\b\b\b\b\b\b\b\b\r312/312 [==============================] - 19s 61ms/step - loss: 0.7001 - top_k_categorical_accuracy: 0.9707 - val_loss: 0.9658 - val_top_k_categorical_accuracy: 0.9490 - lr: 0.0031\n",
            "Epoch 79/200\n",
            "312/312 [==============================] - ETA: 0s - loss: 0.6956 - top_k_categorical_accuracy: 0.9710"
          ]
        },
        {
          "output_type": "stream",
          "name": "stderr",
          "text": [
            "WARNING:tensorflow:Early stopping conditioned on metric `val_accuracy` which is not available. Available metrics are: loss,top_k_categorical_accuracy,val_loss,val_top_k_categorical_accuracy,lr\n"
          ]
        },
        {
          "output_type": "stream",
          "name": "stdout",
          "text": [
            "\b\b\b\b\b\b\b\b\b\b\b\b\b\b\b\b\b\b\b\b\b\b\b\b\b\b\b\b\b\b\b\b\b\b\b\b\b\b\b\b\b\b\b\b\b\b\b\b\b\b\b\b\b\b\b\b\b\b\b\b\b\b\b\b\b\b\b\b\b\b\b\b\b\b\b\b\b\b\b\b\b\b\b\b\b\b\b\b\b\b\b\b\b\b\b\b\b\b\b\b\b\b\r312/312 [==============================] - 19s 62ms/step - loss: 0.6956 - top_k_categorical_accuracy: 0.9710 - val_loss: 0.9682 - val_top_k_categorical_accuracy: 0.9429 - lr: 6.1000e-04\n",
            "Epoch 80/200\n",
            "312/312 [==============================] - ETA: 0s - loss: 0.6913 - top_k_categorical_accuracy: 0.9700"
          ]
        },
        {
          "output_type": "stream",
          "name": "stderr",
          "text": [
            "WARNING:tensorflow:Early stopping conditioned on metric `val_accuracy` which is not available. Available metrics are: loss,top_k_categorical_accuracy,val_loss,val_top_k_categorical_accuracy,lr\n"
          ]
        },
        {
          "output_type": "stream",
          "name": "stdout",
          "text": [
            "\b\b\b\b\b\b\b\b\b\b\b\b\b\b\b\b\b\b\b\b\b\b\b\b\b\b\b\b\b\b\b\b\b\b\b\b\b\b\b\b\b\b\b\b\b\b\b\b\b\b\b\b\b\b\b\b\b\b\b\b\b\b\b\b\b\b\b\b\b\b\b\b\b\b\b\b\b\b\b\b\b\b\b\b\b\b\b\b\b\b\b\b\b\b\b\b\b\b\b\b\b\b\r312/312 [==============================] - 19s 61ms/step - loss: 0.6913 - top_k_categorical_accuracy: 0.9700 - val_loss: 0.9964 - val_top_k_categorical_accuracy: 0.9434 - lr: 0.0030\n",
            "Epoch 81/200\n",
            "312/312 [==============================] - ETA: 0s - loss: 0.6909 - top_k_categorical_accuracy: 0.9720"
          ]
        },
        {
          "output_type": "stream",
          "name": "stderr",
          "text": [
            "WARNING:tensorflow:Early stopping conditioned on metric `val_accuracy` which is not available. Available metrics are: loss,top_k_categorical_accuracy,val_loss,val_top_k_categorical_accuracy,lr\n"
          ]
        },
        {
          "output_type": "stream",
          "name": "stdout",
          "text": [
            "\b\b\b\b\b\b\b\b\b\b\b\b\b\b\b\b\b\b\b\b\b\b\b\b\b\b\b\b\b\b\b\b\b\b\b\b\b\b\b\b\b\b\b\b\b\b\b\b\b\b\b\b\b\b\b\b\b\b\b\b\b\b\b\b\b\b\b\b\b\b\b\b\b\b\b\b\b\b\b\b\b\b\b\b\b\b\b\b\b\b\b\b\b\b\b\b\b\b\b\b\b\b\r312/312 [==============================] - 19s 62ms/step - loss: 0.6909 - top_k_categorical_accuracy: 0.9720 - val_loss: 0.9913 - val_top_k_categorical_accuracy: 0.9452 - lr: 6.0000e-04\n",
            "Epoch 82/200\n",
            "312/312 [==============================] - ETA: 0s - loss: 0.6766 - top_k_categorical_accuracy: 0.9723"
          ]
        },
        {
          "output_type": "stream",
          "name": "stderr",
          "text": [
            "WARNING:tensorflow:Early stopping conditioned on metric `val_accuracy` which is not available. Available metrics are: loss,top_k_categorical_accuracy,val_loss,val_top_k_categorical_accuracy,lr\n"
          ]
        },
        {
          "output_type": "stream",
          "name": "stdout",
          "text": [
            "\b\b\b\b\b\b\b\b\b\b\b\b\b\b\b\b\b\b\b\b\b\b\b\b\b\b\b\b\b\b\b\b\b\b\b\b\b\b\b\b\b\b\b\b\b\b\b\b\b\b\b\b\b\b\b\b\b\b\b\b\b\b\b\b\b\b\b\b\b\b\b\b\b\b\b\b\b\b\b\b\b\b\b\b\b\b\b\b\b\b\b\b\b\b\b\b\b\b\b\b\b\b\r312/312 [==============================] - 19s 62ms/step - loss: 0.6766 - top_k_categorical_accuracy: 0.9723 - val_loss: 1.0411 - val_top_k_categorical_accuracy: 0.9366 - lr: 0.0030\n",
            "Epoch 83/200\n",
            "312/312 [==============================] - ETA: 0s - loss: 0.6807 - top_k_categorical_accuracy: 0.9732"
          ]
        },
        {
          "output_type": "stream",
          "name": "stderr",
          "text": [
            "WARNING:tensorflow:Early stopping conditioned on metric `val_accuracy` which is not available. Available metrics are: loss,top_k_categorical_accuracy,val_loss,val_top_k_categorical_accuracy,lr\n"
          ]
        },
        {
          "output_type": "stream",
          "name": "stdout",
          "text": [
            "\b\b\b\b\b\b\b\b\b\b\b\b\b\b\b\b\b\b\b\b\b\b\b\b\b\b\b\b\b\b\b\b\b\b\b\b\b\b\b\b\b\b\b\b\b\b\b\b\b\b\b\b\b\b\b\b\b\b\b\b\b\b\b\b\b\b\b\b\b\b\b\b\b\b\b\b\b\b\b\b\b\b\b\b\b\b\b\b\b\b\b\b\b\b\b\b\b\b\b\b\b\b\r312/312 [==============================] - 19s 61ms/step - loss: 0.6807 - top_k_categorical_accuracy: 0.9732 - val_loss: 0.9519 - val_top_k_categorical_accuracy: 0.9462 - lr: 5.9000e-04\n",
            "Epoch 84/200\n",
            "312/312 [==============================] - ETA: 0s - loss: 0.6772 - top_k_categorical_accuracy: 0.9715"
          ]
        },
        {
          "output_type": "stream",
          "name": "stderr",
          "text": [
            "WARNING:tensorflow:Early stopping conditioned on metric `val_accuracy` which is not available. Available metrics are: loss,top_k_categorical_accuracy,val_loss,val_top_k_categorical_accuracy,lr\n"
          ]
        },
        {
          "output_type": "stream",
          "name": "stdout",
          "text": [
            "\b\b\b\b\b\b\b\b\b\b\b\b\b\b\b\b\b\b\b\b\b\b\b\b\b\b\b\b\b\b\b\b\b\b\b\b\b\b\b\b\b\b\b\b\b\b\b\b\b\b\b\b\b\b\b\b\b\b\b\b\b\b\b\b\b\b\b\b\b\b\b\b\b\b\b\b\b\b\b\b\b\b\b\b\b\b\b\b\b\b\b\b\b\b\b\b\b\b\b\b\b\b\r312/312 [==============================] - 19s 61ms/step - loss: 0.6772 - top_k_categorical_accuracy: 0.9715 - val_loss: 0.9805 - val_top_k_categorical_accuracy: 0.9445 - lr: 0.0029\n",
            "Epoch 85/200\n",
            "312/312 [==============================] - ETA: 0s - loss: 0.6686 - top_k_categorical_accuracy: 0.9731"
          ]
        },
        {
          "output_type": "stream",
          "name": "stderr",
          "text": [
            "WARNING:tensorflow:Early stopping conditioned on metric `val_accuracy` which is not available. Available metrics are: loss,top_k_categorical_accuracy,val_loss,val_top_k_categorical_accuracy,lr\n"
          ]
        },
        {
          "output_type": "stream",
          "name": "stdout",
          "text": [
            "\b\b\b\b\b\b\b\b\b\b\b\b\b\b\b\b\b\b\b\b\b\b\b\b\b\b\b\b\b\b\b\b\b\b\b\b\b\b\b\b\b\b\b\b\b\b\b\b\b\b\b\b\b\b\b\b\b\b\b\b\b\b\b\b\b\b\b\b\b\b\b\b\b\b\b\b\b\b\b\b\b\b\b\b\b\b\b\b\b\b\b\b\b\b\b\b\b\b\b\b\b\b\r312/312 [==============================] - 19s 61ms/step - loss: 0.6686 - top_k_categorical_accuracy: 0.9731 - val_loss: 0.9557 - val_top_k_categorical_accuracy: 0.9467 - lr: 5.8000e-04\n",
            "Epoch 86/200\n",
            "312/312 [==============================] - ETA: 0s - loss: 0.6618 - top_k_categorical_accuracy: 0.9742"
          ]
        },
        {
          "output_type": "stream",
          "name": "stderr",
          "text": [
            "WARNING:tensorflow:Early stopping conditioned on metric `val_accuracy` which is not available. Available metrics are: loss,top_k_categorical_accuracy,val_loss,val_top_k_categorical_accuracy,lr\n"
          ]
        },
        {
          "output_type": "stream",
          "name": "stdout",
          "text": [
            "\b\b\b\b\b\b\b\b\b\b\b\b\b\b\b\b\b\b\b\b\b\b\b\b\b\b\b\b\b\b\b\b\b\b\b\b\b\b\b\b\b\b\b\b\b\b\b\b\b\b\b\b\b\b\b\b\b\b\b\b\b\b\b\b\b\b\b\b\b\b\b\b\b\b\b\b\b\b\b\b\b\b\b\b\b\b\b\b\b\b\b\b\b\b\b\b\b\b\b\b\b\b\r312/312 [==============================] - 20s 64ms/step - loss: 0.6618 - top_k_categorical_accuracy: 0.9742 - val_loss: 0.9749 - val_top_k_categorical_accuracy: 0.9469 - lr: 0.0029\n",
            "Epoch 87/200\n",
            "312/312 [==============================] - ETA: 0s - loss: 0.6728 - top_k_categorical_accuracy: 0.9738"
          ]
        },
        {
          "output_type": "stream",
          "name": "stderr",
          "text": [
            "WARNING:tensorflow:Early stopping conditioned on metric `val_accuracy` which is not available. Available metrics are: loss,top_k_categorical_accuracy,val_loss,val_top_k_categorical_accuracy,lr\n"
          ]
        },
        {
          "output_type": "stream",
          "name": "stdout",
          "text": [
            "\b\b\b\b\b\b\b\b\b\b\b\b\b\b\b\b\b\b\b\b\b\b\b\b\b\b\b\b\b\b\b\b\b\b\b\b\b\b\b\b\b\b\b\b\b\b\b\b\b\b\b\b\b\b\b\b\b\b\b\b\b\b\b\b\b\b\b\b\b\b\b\b\b\b\b\b\b\b\b\b\b\b\b\b\b\b\b\b\b\b\b\b\b\b\b\b\b\b\b\b\b\b\r312/312 [==============================] - 19s 61ms/step - loss: 0.6728 - top_k_categorical_accuracy: 0.9738 - val_loss: 0.9666 - val_top_k_categorical_accuracy: 0.9467 - lr: 5.7000e-04\n",
            "Epoch 88/200\n",
            "312/312 [==============================] - ETA: 0s - loss: 0.6533 - top_k_categorical_accuracy: 0.9738"
          ]
        },
        {
          "output_type": "stream",
          "name": "stderr",
          "text": [
            "WARNING:tensorflow:Early stopping conditioned on metric `val_accuracy` which is not available. Available metrics are: loss,top_k_categorical_accuracy,val_loss,val_top_k_categorical_accuracy,lr\n"
          ]
        },
        {
          "output_type": "stream",
          "name": "stdout",
          "text": [
            "\b\b\b\b\b\b\b\b\b\b\b\b\b\b\b\b\b\b\b\b\b\b\b\b\b\b\b\b\b\b\b\b\b\b\b\b\b\b\b\b\b\b\b\b\b\b\b\b\b\b\b\b\b\b\b\b\b\b\b\b\b\b\b\b\b\b\b\b\b\b\b\b\b\b\b\b\b\b\b\b\b\b\b\b\b\b\b\b\b\b\b\b\b\b\b\b\b\b\b\b\b\b\r312/312 [==============================] - 20s 62ms/step - loss: 0.6533 - top_k_categorical_accuracy: 0.9738 - val_loss: 1.0239 - val_top_k_categorical_accuracy: 0.9407 - lr: 0.0028\n",
            "Epoch 89/200\n",
            "312/312 [==============================] - ETA: 0s - loss: 0.6622 - top_k_categorical_accuracy: 0.9741"
          ]
        },
        {
          "output_type": "stream",
          "name": "stderr",
          "text": [
            "WARNING:tensorflow:Early stopping conditioned on metric `val_accuracy` which is not available. Available metrics are: loss,top_k_categorical_accuracy,val_loss,val_top_k_categorical_accuracy,lr\n"
          ]
        },
        {
          "output_type": "stream",
          "name": "stdout",
          "text": [
            "\b\b\b\b\b\b\b\b\b\b\b\b\b\b\b\b\b\b\b\b\b\b\b\b\b\b\b\b\b\b\b\b\b\b\b\b\b\b\b\b\b\b\b\b\b\b\b\b\b\b\b\b\b\b\b\b\b\b\b\b\b\b\b\b\b\b\b\b\b\b\b\b\b\b\b\b\b\b\b\b\b\b\b\b\b\b\b\b\b\b\b\b\b\b\b\b\b\b\b\b\b\b\r312/312 [==============================] - 19s 61ms/step - loss: 0.6622 - top_k_categorical_accuracy: 0.9741 - val_loss: 0.9577 - val_top_k_categorical_accuracy: 0.9455 - lr: 5.6000e-04\n",
            "Epoch 90/200\n",
            "312/312 [==============================] - ETA: 0s - loss: 0.6494 - top_k_categorical_accuracy: 0.9740"
          ]
        },
        {
          "output_type": "stream",
          "name": "stderr",
          "text": [
            "WARNING:tensorflow:Early stopping conditioned on metric `val_accuracy` which is not available. Available metrics are: loss,top_k_categorical_accuracy,val_loss,val_top_k_categorical_accuracy,lr\n"
          ]
        },
        {
          "output_type": "stream",
          "name": "stdout",
          "text": [
            "\b\b\b\b\b\b\b\b\b\b\b\b\b\b\b\b\b\b\b\b\b\b\b\b\b\b\b\b\b\b\b\b\b\b\b\b\b\b\b\b\b\b\b\b\b\b\b\b\b\b\b\b\b\b\b\b\b\b\b\b\b\b\b\b\b\b\b\b\b\b\b\b\b\b\b\b\b\b\b\b\b\b\b\b\b\b\b\b\b\b\b\b\b\b\b\b\b\b\b\b\b\b\r312/312 [==============================] - 19s 62ms/step - loss: 0.6494 - top_k_categorical_accuracy: 0.9740 - val_loss: 0.9381 - val_top_k_categorical_accuracy: 0.9502 - lr: 0.0028\n",
            "Epoch 91/200\n",
            "312/312 [==============================] - ETA: 0s - loss: 0.6487 - top_k_categorical_accuracy: 0.9754"
          ]
        },
        {
          "output_type": "stream",
          "name": "stderr",
          "text": [
            "WARNING:tensorflow:Early stopping conditioned on metric `val_accuracy` which is not available. Available metrics are: loss,top_k_categorical_accuracy,val_loss,val_top_k_categorical_accuracy,lr\n"
          ]
        },
        {
          "output_type": "stream",
          "name": "stdout",
          "text": [
            "\b\b\b\b\b\b\b\b\b\b\b\b\b\b\b\b\b\b\b\b\b\b\b\b\b\b\b\b\b\b\b\b\b\b\b\b\b\b\b\b\b\b\b\b\b\b\b\b\b\b\b\b\b\b\b\b\b\b\b\b\b\b\b\b\b\b\b\b\b\b\b\b\b\b\b\b\b\b\b\b\b\b\b\b\b\b\b\b\b\b\b\b\b\b\b\b\b\b\b\b\b\b\r312/312 [==============================] - 19s 62ms/step - loss: 0.6487 - top_k_categorical_accuracy: 0.9754 - val_loss: 1.0096 - val_top_k_categorical_accuracy: 0.9435 - lr: 5.5000e-04\n",
            "Epoch 92/200\n",
            "312/312 [==============================] - ETA: 0s - loss: 0.6492 - top_k_categorical_accuracy: 0.9761"
          ]
        },
        {
          "output_type": "stream",
          "name": "stderr",
          "text": [
            "WARNING:tensorflow:Early stopping conditioned on metric `val_accuracy` which is not available. Available metrics are: loss,top_k_categorical_accuracy,val_loss,val_top_k_categorical_accuracy,lr\n"
          ]
        },
        {
          "output_type": "stream",
          "name": "stdout",
          "text": [
            "\b\b\b\b\b\b\b\b\b\b\b\b\b\b\b\b\b\b\b\b\b\b\b\b\b\b\b\b\b\b\b\b\b\b\b\b\b\b\b\b\b\b\b\b\b\b\b\b\b\b\b\b\b\b\b\b\b\b\b\b\b\b\b\b\b\b\b\b\b\b\b\b\b\b\b\b\b\b\b\b\b\b\b\b\b\b\b\b\b\b\b\b\b\b\b\b\b\b\b\b\b\b\r312/312 [==============================] - 19s 61ms/step - loss: 0.6492 - top_k_categorical_accuracy: 0.9761 - val_loss: 0.9911 - val_top_k_categorical_accuracy: 0.9443 - lr: 0.0027\n",
            "Epoch 93/200\n",
            "312/312 [==============================] - ETA: 0s - loss: 0.6504 - top_k_categorical_accuracy: 0.9739"
          ]
        },
        {
          "output_type": "stream",
          "name": "stderr",
          "text": [
            "WARNING:tensorflow:Early stopping conditioned on metric `val_accuracy` which is not available. Available metrics are: loss,top_k_categorical_accuracy,val_loss,val_top_k_categorical_accuracy,lr\n"
          ]
        },
        {
          "output_type": "stream",
          "name": "stdout",
          "text": [
            "\b\b\b\b\b\b\b\b\b\b\b\b\b\b\b\b\b\b\b\b\b\b\b\b\b\b\b\b\b\b\b\b\b\b\b\b\b\b\b\b\b\b\b\b\b\b\b\b\b\b\b\b\b\b\b\b\b\b\b\b\b\b\b\b\b\b\b\b\b\b\b\b\b\b\b\b\b\b\b\b\b\b\b\b\b\b\b\b\b\b\b\b\b\b\b\b\b\b\b\b\b\b\r312/312 [==============================] - 19s 61ms/step - loss: 0.6504 - top_k_categorical_accuracy: 0.9739 - val_loss: 0.9600 - val_top_k_categorical_accuracy: 0.9452 - lr: 5.4000e-04\n",
            "Epoch 94/200\n",
            "312/312 [==============================] - ETA: 0s - loss: 0.6383 - top_k_categorical_accuracy: 0.9753"
          ]
        },
        {
          "output_type": "stream",
          "name": "stderr",
          "text": [
            "WARNING:tensorflow:Early stopping conditioned on metric `val_accuracy` which is not available. Available metrics are: loss,top_k_categorical_accuracy,val_loss,val_top_k_categorical_accuracy,lr\n"
          ]
        },
        {
          "output_type": "stream",
          "name": "stdout",
          "text": [
            "\b\b\b\b\b\b\b\b\b\b\b\b\b\b\b\b\b\b\b\b\b\b\b\b\b\b\b\b\b\b\b\b\b\b\b\b\b\b\b\b\b\b\b\b\b\b\b\b\b\b\b\b\b\b\b\b\b\b\b\b\b\b\b\b\b\b\b\b\b\b\b\b\b\b\b\b\b\b\b\b\b\b\b\b\b\b\b\b\b\b\b\b\b\b\b\b\b\b\b\b\b\b\r312/312 [==============================] - 19s 62ms/step - loss: 0.6383 - top_k_categorical_accuracy: 0.9753 - val_loss: 0.9751 - val_top_k_categorical_accuracy: 0.9462 - lr: 0.0027\n",
            "Epoch 95/200\n",
            "312/312 [==============================] - ETA: 0s - loss: 0.6395 - top_k_categorical_accuracy: 0.9752"
          ]
        },
        {
          "output_type": "stream",
          "name": "stderr",
          "text": [
            "WARNING:tensorflow:Early stopping conditioned on metric `val_accuracy` which is not available. Available metrics are: loss,top_k_categorical_accuracy,val_loss,val_top_k_categorical_accuracy,lr\n"
          ]
        },
        {
          "output_type": "stream",
          "name": "stdout",
          "text": [
            "\b\b\b\b\b\b\b\b\b\b\b\b\b\b\b\b\b\b\b\b\b\b\b\b\b\b\b\b\b\b\b\b\b\b\b\b\b\b\b\b\b\b\b\b\b\b\b\b\b\b\b\b\b\b\b\b\b\b\b\b\b\b\b\b\b\b\b\b\b\b\b\b\b\b\b\b\b\b\b\b\b\b\b\b\b\b\b\b\b\b\b\b\b\b\b\b\b\b\b\b\b\b\r312/312 [==============================] - 20s 63ms/step - loss: 0.6395 - top_k_categorical_accuracy: 0.9752 - val_loss: 0.9821 - val_top_k_categorical_accuracy: 0.9449 - lr: 5.3000e-04\n",
            "Epoch 96/200\n",
            "312/312 [==============================] - ETA: 0s - loss: 0.6306 - top_k_categorical_accuracy: 0.9755"
          ]
        },
        {
          "output_type": "stream",
          "name": "stderr",
          "text": [
            "WARNING:tensorflow:Early stopping conditioned on metric `val_accuracy` which is not available. Available metrics are: loss,top_k_categorical_accuracy,val_loss,val_top_k_categorical_accuracy,lr\n"
          ]
        },
        {
          "output_type": "stream",
          "name": "stdout",
          "text": [
            "\b\b\b\b\b\b\b\b\b\b\b\b\b\b\b\b\b\b\b\b\b\b\b\b\b\b\b\b\b\b\b\b\b\b\b\b\b\b\b\b\b\b\b\b\b\b\b\b\b\b\b\b\b\b\b\b\b\b\b\b\b\b\b\b\b\b\b\b\b\b\b\b\b\b\b\b\b\b\b\b\b\b\b\b\b\b\b\b\b\b\b\b\b\b\b\b\b\b\b\b\b\b\r312/312 [==============================] - 19s 61ms/step - loss: 0.6306 - top_k_categorical_accuracy: 0.9755 - val_loss: 1.0307 - val_top_k_categorical_accuracy: 0.9440 - lr: 0.0026\n",
            "Epoch 97/200\n",
            "312/312 [==============================] - ETA: 0s - loss: 0.6261 - top_k_categorical_accuracy: 0.9768"
          ]
        },
        {
          "output_type": "stream",
          "name": "stderr",
          "text": [
            "WARNING:tensorflow:Early stopping conditioned on metric `val_accuracy` which is not available. Available metrics are: loss,top_k_categorical_accuracy,val_loss,val_top_k_categorical_accuracy,lr\n"
          ]
        },
        {
          "output_type": "stream",
          "name": "stdout",
          "text": [
            "\b\b\b\b\b\b\b\b\b\b\b\b\b\b\b\b\b\b\b\b\b\b\b\b\b\b\b\b\b\b\b\b\b\b\b\b\b\b\b\b\b\b\b\b\b\b\b\b\b\b\b\b\b\b\b\b\b\b\b\b\b\b\b\b\b\b\b\b\b\b\b\b\b\b\b\b\b\b\b\b\b\b\b\b\b\b\b\b\b\b\b\b\b\b\b\b\b\b\b\b\b\b\r312/312 [==============================] - 19s 62ms/step - loss: 0.6261 - top_k_categorical_accuracy: 0.9768 - val_loss: 1.0124 - val_top_k_categorical_accuracy: 0.9439 - lr: 5.2000e-04\n",
            "Epoch 98/200\n",
            "312/312 [==============================] - ETA: 0s - loss: 0.6300 - top_k_categorical_accuracy: 0.9769"
          ]
        },
        {
          "output_type": "stream",
          "name": "stderr",
          "text": [
            "WARNING:tensorflow:Early stopping conditioned on metric `val_accuracy` which is not available. Available metrics are: loss,top_k_categorical_accuracy,val_loss,val_top_k_categorical_accuracy,lr\n"
          ]
        },
        {
          "output_type": "stream",
          "name": "stdout",
          "text": [
            "\b\b\b\b\b\b\b\b\b\b\b\b\b\b\b\b\b\b\b\b\b\b\b\b\b\b\b\b\b\b\b\b\b\b\b\b\b\b\b\b\b\b\b\b\b\b\b\b\b\b\b\b\b\b\b\b\b\b\b\b\b\b\b\b\b\b\b\b\b\b\b\b\b\b\b\b\b\b\b\b\b\b\b\b\b\b\b\b\b\b\b\b\b\b\b\b\b\b\b\b\b\b\r312/312 [==============================] - 19s 62ms/step - loss: 0.6300 - top_k_categorical_accuracy: 0.9769 - val_loss: 0.9334 - val_top_k_categorical_accuracy: 0.9487 - lr: 0.0026\n",
            "Epoch 99/200\n",
            "312/312 [==============================] - ETA: 0s - loss: 0.6215 - top_k_categorical_accuracy: 0.9767"
          ]
        },
        {
          "output_type": "stream",
          "name": "stderr",
          "text": [
            "WARNING:tensorflow:Early stopping conditioned on metric `val_accuracy` which is not available. Available metrics are: loss,top_k_categorical_accuracy,val_loss,val_top_k_categorical_accuracy,lr\n"
          ]
        },
        {
          "output_type": "stream",
          "name": "stdout",
          "text": [
            "\b\b\b\b\b\b\b\b\b\b\b\b\b\b\b\b\b\b\b\b\b\b\b\b\b\b\b\b\b\b\b\b\b\b\b\b\b\b\b\b\b\b\b\b\b\b\b\b\b\b\b\b\b\b\b\b\b\b\b\b\b\b\b\b\b\b\b\b\b\b\b\b\b\b\b\b\b\b\b\b\b\b\b\b\b\b\b\b\b\b\b\b\b\b\b\b\b\b\b\b\b\b\r312/312 [==============================] - 19s 62ms/step - loss: 0.6215 - top_k_categorical_accuracy: 0.9767 - val_loss: 0.9754 - val_top_k_categorical_accuracy: 0.9481 - lr: 5.1000e-04\n",
            "Epoch 100/200\n",
            "312/312 [==============================] - ETA: 0s - loss: 0.6167 - top_k_categorical_accuracy: 0.9778"
          ]
        },
        {
          "output_type": "stream",
          "name": "stderr",
          "text": [
            "WARNING:tensorflow:Early stopping conditioned on metric `val_accuracy` which is not available. Available metrics are: loss,top_k_categorical_accuracy,val_loss,val_top_k_categorical_accuracy,lr\n"
          ]
        },
        {
          "output_type": "stream",
          "name": "stdout",
          "text": [
            "\b\b\b\b\b\b\b\b\b\b\b\b\b\b\b\b\b\b\b\b\b\b\b\b\b\b\b\b\b\b\b\b\b\b\b\b\b\b\b\b\b\b\b\b\b\b\b\b\b\b\b\b\b\b\b\b\b\b\b\b\b\b\b\b\b\b\b\b\b\b\b\b\b\b\b\b\b\b\b\b\b\b\b\b\b\b\b\b\b\b\b\b\b\b\b\b\b\b\b\b\b\b\r312/312 [==============================] - 19s 61ms/step - loss: 0.6167 - top_k_categorical_accuracy: 0.9778 - val_loss: 0.9513 - val_top_k_categorical_accuracy: 0.9470 - lr: 0.0025\n",
            "Epoch 101/200\n",
            "312/312 [==============================] - ETA: 0s - loss: 0.6171 - top_k_categorical_accuracy: 0.9760"
          ]
        },
        {
          "output_type": "stream",
          "name": "stderr",
          "text": [
            "WARNING:tensorflow:Early stopping conditioned on metric `val_accuracy` which is not available. Available metrics are: loss,top_k_categorical_accuracy,val_loss,val_top_k_categorical_accuracy,lr\n"
          ]
        },
        {
          "output_type": "stream",
          "name": "stdout",
          "text": [
            "\b\b\b\b\b\b\b\b\b\b\b\b\b\b\b\b\b\b\b\b\b\b\b\b\b\b\b\b\b\b\b\b\b\b\b\b\b\b\b\b\b\b\b\b\b\b\b\b\b\b\b\b\b\b\b\b\b\b\b\b\b\b\b\b\b\b\b\b\b\b\b\b\b\b\b\b\b\b\b\b\b\b\b\b\b\b\b\b\b\b\b\b\b\b\b\b\b\b\b\b\b\b\r312/312 [==============================] - 19s 61ms/step - loss: 0.6171 - top_k_categorical_accuracy: 0.9760 - val_loss: 0.9283 - val_top_k_categorical_accuracy: 0.9511 - lr: 0.0025\n",
            "Epoch 102/200\n",
            "312/312 [==============================] - ETA: 0s - loss: 0.6128 - top_k_categorical_accuracy: 0.9784"
          ]
        },
        {
          "output_type": "stream",
          "name": "stderr",
          "text": [
            "WARNING:tensorflow:Early stopping conditioned on metric `val_accuracy` which is not available. Available metrics are: loss,top_k_categorical_accuracy,val_loss,val_top_k_categorical_accuracy,lr\n"
          ]
        },
        {
          "output_type": "stream",
          "name": "stdout",
          "text": [
            "\b\b\b\b\b\b\b\b\b\b\b\b\b\b\b\b\b\b\b\b\b\b\b\b\b\b\b\b\b\b\b\b\b\b\b\b\b\b\b\b\b\b\b\b\b\b\b\b\b\b\b\b\b\b\b\b\b\b\b\b\b\b\b\b\b\b\b\b\b\b\b\b\b\b\b\b\b\b\b\b\b\b\b\b\b\b\b\b\b\b\b\b\b\b\b\b\b\b\b\b\b\b\r312/312 [==============================] - 19s 62ms/step - loss: 0.6128 - top_k_categorical_accuracy: 0.9784 - val_loss: 0.9809 - val_top_k_categorical_accuracy: 0.9439 - lr: 0.0025\n",
            "Epoch 103/200\n",
            "312/312 [==============================] - ETA: 0s - loss: 0.6115 - top_k_categorical_accuracy: 0.9776"
          ]
        },
        {
          "output_type": "stream",
          "name": "stderr",
          "text": [
            "WARNING:tensorflow:Early stopping conditioned on metric `val_accuracy` which is not available. Available metrics are: loss,top_k_categorical_accuracy,val_loss,val_top_k_categorical_accuracy,lr\n"
          ]
        },
        {
          "output_type": "stream",
          "name": "stdout",
          "text": [
            "\b\b\b\b\b\b\b\b\b\b\b\b\b\b\b\b\b\b\b\b\b\b\b\b\b\b\b\b\b\b\b\b\b\b\b\b\b\b\b\b\b\b\b\b\b\b\b\b\b\b\b\b\b\b\b\b\b\b\b\b\b\b\b\b\b\b\b\b\b\b\b\b\b\b\b\b\b\b\b\b\b\b\b\b\b\b\b\b\b\b\b\b\b\b\b\b\b\b\b\b\b\b\r312/312 [==============================] - 20s 63ms/step - loss: 0.6115 - top_k_categorical_accuracy: 0.9776 - val_loss: 0.9128 - val_top_k_categorical_accuracy: 0.9490 - lr: 0.0025\n",
            "Epoch 104/200\n",
            "312/312 [==============================] - ETA: 0s - loss: 0.6201 - top_k_categorical_accuracy: 0.9774"
          ]
        },
        {
          "output_type": "stream",
          "name": "stderr",
          "text": [
            "WARNING:tensorflow:Early stopping conditioned on metric `val_accuracy` which is not available. Available metrics are: loss,top_k_categorical_accuracy,val_loss,val_top_k_categorical_accuracy,lr\n"
          ]
        },
        {
          "output_type": "stream",
          "name": "stdout",
          "text": [
            "\b\b\b\b\b\b\b\b\b\b\b\b\b\b\b\b\b\b\b\b\b\b\b\b\b\b\b\b\b\b\b\b\b\b\b\b\b\b\b\b\b\b\b\b\b\b\b\b\b\b\b\b\b\b\b\b\b\b\b\b\b\b\b\b\b\b\b\b\b\b\b\b\b\b\b\b\b\b\b\b\b\b\b\b\b\b\b\b\b\b\b\b\b\b\b\b\b\b\b\b\b\b\r312/312 [==============================] - 21s 66ms/step - loss: 0.6201 - top_k_categorical_accuracy: 0.9774 - val_loss: 0.9631 - val_top_k_categorical_accuracy: 0.9496 - lr: 0.0024\n",
            "Epoch 105/200\n",
            "312/312 [==============================] - ETA: 0s - loss: 0.6007 - top_k_categorical_accuracy: 0.9786"
          ]
        },
        {
          "output_type": "stream",
          "name": "stderr",
          "text": [
            "WARNING:tensorflow:Early stopping conditioned on metric `val_accuracy` which is not available. Available metrics are: loss,top_k_categorical_accuracy,val_loss,val_top_k_categorical_accuracy,lr\n"
          ]
        },
        {
          "output_type": "stream",
          "name": "stdout",
          "text": [
            "\b\b\b\b\b\b\b\b\b\b\b\b\b\b\b\b\b\b\b\b\b\b\b\b\b\b\b\b\b\b\b\b\b\b\b\b\b\b\b\b\b\b\b\b\b\b\b\b\b\b\b\b\b\b\b\b\b\b\b\b\b\b\b\b\b\b\b\b\b\b\b\b\b\b\b\b\b\b\b\b\b\b\b\b\b\b\b\b\b\b\b\b\b\b\b\b\b\b\b\b\b\b\r312/312 [==============================] - 20s 64ms/step - loss: 0.6007 - top_k_categorical_accuracy: 0.9786 - val_loss: 1.0443 - val_top_k_categorical_accuracy: 0.9414 - lr: 4.8000e-04\n",
            "Epoch 106/200\n",
            "312/312 [==============================] - ETA: 0s - loss: 0.6031 - top_k_categorical_accuracy: 0.9794"
          ]
        },
        {
          "output_type": "stream",
          "name": "stderr",
          "text": [
            "WARNING:tensorflow:Early stopping conditioned on metric `val_accuracy` which is not available. Available metrics are: loss,top_k_categorical_accuracy,val_loss,val_top_k_categorical_accuracy,lr\n"
          ]
        },
        {
          "output_type": "stream",
          "name": "stdout",
          "text": [
            "\b\b\b\b\b\b\b\b\b\b\b\b\b\b\b\b\b\b\b\b\b\b\b\b\b\b\b\b\b\b\b\b\b\b\b\b\b\b\b\b\b\b\b\b\b\b\b\b\b\b\b\b\b\b\b\b\b\b\b\b\b\b\b\b\b\b\b\b\b\b\b\b\b\b\b\b\b\b\b\b\b\b\b\b\b\b\b\b\b\b\b\b\b\b\b\b\b\b\b\b\b\b\r312/312 [==============================] - 20s 64ms/step - loss: 0.6031 - top_k_categorical_accuracy: 0.9794 - val_loss: 0.9771 - val_top_k_categorical_accuracy: 0.9445 - lr: 0.0024\n",
            "Epoch 107/200\n",
            "312/312 [==============================] - ETA: 0s - loss: 0.6056 - top_k_categorical_accuracy: 0.9781"
          ]
        },
        {
          "output_type": "stream",
          "name": "stderr",
          "text": [
            "WARNING:tensorflow:Early stopping conditioned on metric `val_accuracy` which is not available. Available metrics are: loss,top_k_categorical_accuracy,val_loss,val_top_k_categorical_accuracy,lr\n"
          ]
        },
        {
          "output_type": "stream",
          "name": "stdout",
          "text": [
            "\b\b\b\b\b\b\b\b\b\b\b\b\b\b\b\b\b\b\b\b\b\b\b\b\b\b\b\b\b\b\b\b\b\b\b\b\b\b\b\b\b\b\b\b\b\b\b\b\b\b\b\b\b\b\b\b\b\b\b\b\b\b\b\b\b\b\b\b\b\b\b\b\b\b\b\b\b\b\b\b\b\b\b\b\b\b\b\b\b\b\b\b\b\b\b\b\b\b\b\b\b\b\r312/312 [==============================] - 20s 63ms/step - loss: 0.6056 - top_k_categorical_accuracy: 0.9781 - val_loss: 0.9426 - val_top_k_categorical_accuracy: 0.9465 - lr: 4.7000e-04\n",
            "Epoch 108/200\n",
            "312/312 [==============================] - ETA: 0s - loss: 0.5925 - top_k_categorical_accuracy: 0.9794"
          ]
        },
        {
          "output_type": "stream",
          "name": "stderr",
          "text": [
            "WARNING:tensorflow:Early stopping conditioned on metric `val_accuracy` which is not available. Available metrics are: loss,top_k_categorical_accuracy,val_loss,val_top_k_categorical_accuracy,lr\n"
          ]
        },
        {
          "output_type": "stream",
          "name": "stdout",
          "text": [
            "\b\b\b\b\b\b\b\b\b\b\b\b\b\b\b\b\b\b\b\b\b\b\b\b\b\b\b\b\b\b\b\b\b\b\b\b\b\b\b\b\b\b\b\b\b\b\b\b\b\b\b\b\b\b\b\b\b\b\b\b\b\b\b\b\b\b\b\b\b\b\b\b\b\b\b\b\b\b\b\b\b\b\b\b\b\b\b\b\b\b\b\b\b\b\b\b\b\b\b\b\b\b\r312/312 [==============================] - 20s 64ms/step - loss: 0.5925 - top_k_categorical_accuracy: 0.9794 - val_loss: 0.9721 - val_top_k_categorical_accuracy: 0.9424 - lr: 0.0023\n",
            "Epoch 109/200\n",
            "312/312 [==============================] - ETA: 0s - loss: 0.5964 - top_k_categorical_accuracy: 0.9790"
          ]
        },
        {
          "output_type": "stream",
          "name": "stderr",
          "text": [
            "WARNING:tensorflow:Early stopping conditioned on metric `val_accuracy` which is not available. Available metrics are: loss,top_k_categorical_accuracy,val_loss,val_top_k_categorical_accuracy,lr\n"
          ]
        },
        {
          "output_type": "stream",
          "name": "stdout",
          "text": [
            "\b\b\b\b\b\b\b\b\b\b\b\b\b\b\b\b\b\b\b\b\b\b\b\b\b\b\b\b\b\b\b\b\b\b\b\b\b\b\b\b\b\b\b\b\b\b\b\b\b\b\b\b\b\b\b\b\b\b\b\b\b\b\b\b\b\b\b\b\b\b\b\b\b\b\b\b\b\b\b\b\b\b\b\b\b\b\b\b\b\b\b\b\b\b\b\b\b\b\b\b\b\b\r312/312 [==============================] - 19s 62ms/step - loss: 0.5964 - top_k_categorical_accuracy: 0.9790 - val_loss: 0.9850 - val_top_k_categorical_accuracy: 0.9477 - lr: 4.6000e-04\n",
            "Epoch 110/200\n",
            "312/312 [==============================] - ETA: 0s - loss: 0.5960 - top_k_categorical_accuracy: 0.9785"
          ]
        },
        {
          "output_type": "stream",
          "name": "stderr",
          "text": [
            "WARNING:tensorflow:Early stopping conditioned on metric `val_accuracy` which is not available. Available metrics are: loss,top_k_categorical_accuracy,val_loss,val_top_k_categorical_accuracy,lr\n"
          ]
        },
        {
          "output_type": "stream",
          "name": "stdout",
          "text": [
            "\b\b\b\b\b\b\b\b\b\b\b\b\b\b\b\b\b\b\b\b\b\b\b\b\b\b\b\b\b\b\b\b\b\b\b\b\b\b\b\b\b\b\b\b\b\b\b\b\b\b\b\b\b\b\b\b\b\b\b\b\b\b\b\b\b\b\b\b\b\b\b\b\b\b\b\b\b\b\b\b\b\b\b\b\b\b\b\b\b\b\b\b\b\b\b\b\b\b\b\b\b\b\r312/312 [==============================] - 19s 61ms/step - loss: 0.5960 - top_k_categorical_accuracy: 0.9785 - val_loss: 0.9210 - val_top_k_categorical_accuracy: 0.9484 - lr: 0.0023\n",
            "Epoch 111/200\n",
            "312/312 [==============================] - ETA: 0s - loss: 0.5872 - top_k_categorical_accuracy: 0.9793"
          ]
        },
        {
          "output_type": "stream",
          "name": "stderr",
          "text": [
            "WARNING:tensorflow:Early stopping conditioned on metric `val_accuracy` which is not available. Available metrics are: loss,top_k_categorical_accuracy,val_loss,val_top_k_categorical_accuracy,lr\n"
          ]
        },
        {
          "output_type": "stream",
          "name": "stdout",
          "text": [
            "\b\b\b\b\b\b\b\b\b\b\b\b\b\b\b\b\b\b\b\b\b\b\b\b\b\b\b\b\b\b\b\b\b\b\b\b\b\b\b\b\b\b\b\b\b\b\b\b\b\b\b\b\b\b\b\b\b\b\b\b\b\b\b\b\b\b\b\b\b\b\b\b\b\b\b\b\b\b\b\b\b\b\b\b\b\b\b\b\b\b\b\b\b\b\b\b\b\b\b\b\b\b\r312/312 [==============================] - 19s 61ms/step - loss: 0.5872 - top_k_categorical_accuracy: 0.9793 - val_loss: 0.9668 - val_top_k_categorical_accuracy: 0.9471 - lr: 4.5000e-04\n",
            "Epoch 112/200\n",
            "312/312 [==============================] - ETA: 0s - loss: 0.5878 - top_k_categorical_accuracy: 0.9791"
          ]
        },
        {
          "output_type": "stream",
          "name": "stderr",
          "text": [
            "WARNING:tensorflow:Early stopping conditioned on metric `val_accuracy` which is not available. Available metrics are: loss,top_k_categorical_accuracy,val_loss,val_top_k_categorical_accuracy,lr\n"
          ]
        },
        {
          "output_type": "stream",
          "name": "stdout",
          "text": [
            "\b\b\b\b\b\b\b\b\b\b\b\b\b\b\b\b\b\b\b\b\b\b\b\b\b\b\b\b\b\b\b\b\b\b\b\b\b\b\b\b\b\b\b\b\b\b\b\b\b\b\b\b\b\b\b\b\b\b\b\b\b\b\b\b\b\b\b\b\b\b\b\b\b\b\b\b\b\b\b\b\b\b\b\b\b\b\b\b\b\b\b\b\b\b\b\b\b\b\b\b\b\b\r312/312 [==============================] - 19s 62ms/step - loss: 0.5878 - top_k_categorical_accuracy: 0.9791 - val_loss: 0.9224 - val_top_k_categorical_accuracy: 0.9485 - lr: 0.0022\n",
            "Epoch 113/200\n",
            "312/312 [==============================] - ETA: 0s - loss: 0.5821 - top_k_categorical_accuracy: 0.9792"
          ]
        },
        {
          "output_type": "stream",
          "name": "stderr",
          "text": [
            "WARNING:tensorflow:Early stopping conditioned on metric `val_accuracy` which is not available. Available metrics are: loss,top_k_categorical_accuracy,val_loss,val_top_k_categorical_accuracy,lr\n"
          ]
        },
        {
          "output_type": "stream",
          "name": "stdout",
          "text": [
            "\b\b\b\b\b\b\b\b\b\b\b\b\b\b\b\b\b\b\b\b\b\b\b\b\b\b\b\b\b\b\b\b\b\b\b\b\b\b\b\b\b\b\b\b\b\b\b\b\b\b\b\b\b\b\b\b\b\b\b\b\b\b\b\b\b\b\b\b\b\b\b\b\b\b\b\b\b\b\b\b\b\b\b\b\b\b\b\b\b\b\b\b\b\b\b\b\b\b\b\b\b\b\r312/312 [==============================] - 20s 65ms/step - loss: 0.5821 - top_k_categorical_accuracy: 0.9792 - val_loss: 0.9679 - val_top_k_categorical_accuracy: 0.9470 - lr: 4.4000e-04\n",
            "Epoch 114/200\n",
            "312/312 [==============================] - ETA: 0s - loss: 0.5869 - top_k_categorical_accuracy: 0.9786"
          ]
        },
        {
          "output_type": "stream",
          "name": "stderr",
          "text": [
            "WARNING:tensorflow:Early stopping conditioned on metric `val_accuracy` which is not available. Available metrics are: loss,top_k_categorical_accuracy,val_loss,val_top_k_categorical_accuracy,lr\n"
          ]
        },
        {
          "output_type": "stream",
          "name": "stdout",
          "text": [
            "\b\b\b\b\b\b\b\b\b\b\b\b\b\b\b\b\b\b\b\b\b\b\b\b\b\b\b\b\b\b\b\b\b\b\b\b\b\b\b\b\b\b\b\b\b\b\b\b\b\b\b\b\b\b\b\b\b\b\b\b\b\b\b\b\b\b\b\b\b\b\b\b\b\b\b\b\b\b\b\b\b\b\b\b\b\b\b\b\b\b\b\b\b\b\b\b\b\b\b\b\b\b\r312/312 [==============================] - 20s 63ms/step - loss: 0.5869 - top_k_categorical_accuracy: 0.9786 - val_loss: 1.0186 - val_top_k_categorical_accuracy: 0.9407 - lr: 0.0022\n",
            "Epoch 115/200\n",
            "312/312 [==============================] - ETA: 0s - loss: 0.5844 - top_k_categorical_accuracy: 0.9791"
          ]
        },
        {
          "output_type": "stream",
          "name": "stderr",
          "text": [
            "WARNING:tensorflow:Early stopping conditioned on metric `val_accuracy` which is not available. Available metrics are: loss,top_k_categorical_accuracy,val_loss,val_top_k_categorical_accuracy,lr\n"
          ]
        },
        {
          "output_type": "stream",
          "name": "stdout",
          "text": [
            "\b\b\b\b\b\b\b\b\b\b\b\b\b\b\b\b\b\b\b\b\b\b\b\b\b\b\b\b\b\b\b\b\b\b\b\b\b\b\b\b\b\b\b\b\b\b\b\b\b\b\b\b\b\b\b\b\b\b\b\b\b\b\b\b\b\b\b\b\b\b\b\b\b\b\b\b\b\b\b\b\b\b\b\b\b\b\b\b\b\b\b\b\b\b\b\b\b\b\b\b\b\b\r312/312 [==============================] - 19s 62ms/step - loss: 0.5844 - top_k_categorical_accuracy: 0.9791 - val_loss: 0.9770 - val_top_k_categorical_accuracy: 0.9449 - lr: 4.3000e-04\n",
            "Epoch 116/200\n",
            "312/312 [==============================] - ETA: 0s - loss: 0.5801 - top_k_categorical_accuracy: 0.9812"
          ]
        },
        {
          "output_type": "stream",
          "name": "stderr",
          "text": [
            "WARNING:tensorflow:Early stopping conditioned on metric `val_accuracy` which is not available. Available metrics are: loss,top_k_categorical_accuracy,val_loss,val_top_k_categorical_accuracy,lr\n"
          ]
        },
        {
          "output_type": "stream",
          "name": "stdout",
          "text": [
            "\b\b\b\b\b\b\b\b\b\b\b\b\b\b\b\b\b\b\b\b\b\b\b\b\b\b\b\b\b\b\b\b\b\b\b\b\b\b\b\b\b\b\b\b\b\b\b\b\b\b\b\b\b\b\b\b\b\b\b\b\b\b\b\b\b\b\b\b\b\b\b\b\b\b\b\b\b\b\b\b\b\b\b\b\b\b\b\b\b\b\b\b\b\b\b\b\b\b\b\b\b\b\r312/312 [==============================] - 19s 61ms/step - loss: 0.5801 - top_k_categorical_accuracy: 0.9812 - val_loss: 0.9855 - val_top_k_categorical_accuracy: 0.9454 - lr: 0.0021\n",
            "Epoch 117/200\n",
            "312/312 [==============================] - ETA: 0s - loss: 0.5738 - top_k_categorical_accuracy: 0.9810"
          ]
        },
        {
          "output_type": "stream",
          "name": "stderr",
          "text": [
            "WARNING:tensorflow:Early stopping conditioned on metric `val_accuracy` which is not available. Available metrics are: loss,top_k_categorical_accuracy,val_loss,val_top_k_categorical_accuracy,lr\n"
          ]
        },
        {
          "output_type": "stream",
          "name": "stdout",
          "text": [
            "\b\b\b\b\b\b\b\b\b\b\b\b\b\b\b\b\b\b\b\b\b\b\b\b\b\b\b\b\b\b\b\b\b\b\b\b\b\b\b\b\b\b\b\b\b\b\b\b\b\b\b\b\b\b\b\b\b\b\b\b\b\b\b\b\b\b\b\b\b\b\b\b\b\b\b\b\b\b\b\b\b\b\b\b\b\b\b\b\b\b\b\b\b\b\b\b\b\b\b\b\b\b\r312/312 [==============================] - 19s 62ms/step - loss: 0.5738 - top_k_categorical_accuracy: 0.9810 - val_loss: 0.9532 - val_top_k_categorical_accuracy: 0.9478 - lr: 4.2000e-04\n",
            "Epoch 118/200\n",
            "312/312 [==============================] - ETA: 0s - loss: 0.5756 - top_k_categorical_accuracy: 0.9810"
          ]
        },
        {
          "output_type": "stream",
          "name": "stderr",
          "text": [
            "WARNING:tensorflow:Early stopping conditioned on metric `val_accuracy` which is not available. Available metrics are: loss,top_k_categorical_accuracy,val_loss,val_top_k_categorical_accuracy,lr\n"
          ]
        },
        {
          "output_type": "stream",
          "name": "stdout",
          "text": [
            "\b\b\b\b\b\b\b\b\b\b\b\b\b\b\b\b\b\b\b\b\b\b\b\b\b\b\b\b\b\b\b\b\b\b\b\b\b\b\b\b\b\b\b\b\b\b\b\b\b\b\b\b\b\b\b\b\b\b\b\b\b\b\b\b\b\b\b\b\b\b\b\b\b\b\b\b\b\b\b\b\b\b\b\b\b\b\b\b\b\b\b\b\b\b\b\b\b\b\b\b\b\b\r312/312 [==============================] - 20s 63ms/step - loss: 0.5756 - top_k_categorical_accuracy: 0.9810 - val_loss: 0.9302 - val_top_k_categorical_accuracy: 0.9501 - lr: 0.0021\n",
            "Epoch 119/200\n",
            "312/312 [==============================] - ETA: 0s - loss: 0.5754 - top_k_categorical_accuracy: 0.9801"
          ]
        },
        {
          "output_type": "stream",
          "name": "stderr",
          "text": [
            "WARNING:tensorflow:Early stopping conditioned on metric `val_accuracy` which is not available. Available metrics are: loss,top_k_categorical_accuracy,val_loss,val_top_k_categorical_accuracy,lr\n"
          ]
        },
        {
          "output_type": "stream",
          "name": "stdout",
          "text": [
            "\b\b\b\b\b\b\b\b\b\b\b\b\b\b\b\b\b\b\b\b\b\b\b\b\b\b\b\b\b\b\b\b\b\b\b\b\b\b\b\b\b\b\b\b\b\b\b\b\b\b\b\b\b\b\b\b\b\b\b\b\b\b\b\b\b\b\b\b\b\b\b\b\b\b\b\b\b\b\b\b\b\b\b\b\b\b\b\b\b\b\b\b\b\b\b\b\b\b\b\b\b\b\r312/312 [==============================] - 19s 62ms/step - loss: 0.5754 - top_k_categorical_accuracy: 0.9801 - val_loss: 0.9624 - val_top_k_categorical_accuracy: 0.9496 - lr: 4.1000e-04\n",
            "Epoch 120/200\n",
            "312/312 [==============================] - ETA: 0s - loss: 0.5681 - top_k_categorical_accuracy: 0.9806"
          ]
        },
        {
          "output_type": "stream",
          "name": "stderr",
          "text": [
            "WARNING:tensorflow:Early stopping conditioned on metric `val_accuracy` which is not available. Available metrics are: loss,top_k_categorical_accuracy,val_loss,val_top_k_categorical_accuracy,lr\n"
          ]
        },
        {
          "output_type": "stream",
          "name": "stdout",
          "text": [
            "\b\b\b\b\b\b\b\b\b\b\b\b\b\b\b\b\b\b\b\b\b\b\b\b\b\b\b\b\b\b\b\b\b\b\b\b\b\b\b\b\b\b\b\b\b\b\b\b\b\b\b\b\b\b\b\b\b\b\b\b\b\b\b\b\b\b\b\b\b\b\b\b\b\b\b\b\b\b\b\b\b\b\b\b\b\b\b\b\b\b\b\b\b\b\b\b\b\b\b\b\b\b\r312/312 [==============================] - 20s 63ms/step - loss: 0.5681 - top_k_categorical_accuracy: 0.9806 - val_loss: 0.9228 - val_top_k_categorical_accuracy: 0.9501 - lr: 0.0020\n",
            "Epoch 121/200\n",
            "312/312 [==============================] - ETA: 0s - loss: 0.5688 - top_k_categorical_accuracy: 0.9819"
          ]
        },
        {
          "output_type": "stream",
          "name": "stderr",
          "text": [
            "WARNING:tensorflow:Early stopping conditioned on metric `val_accuracy` which is not available. Available metrics are: loss,top_k_categorical_accuracy,val_loss,val_top_k_categorical_accuracy,lr\n"
          ]
        },
        {
          "output_type": "stream",
          "name": "stdout",
          "text": [
            "\b\b\b\b\b\b\b\b\b\b\b\b\b\b\b\b\b\b\b\b\b\b\b\b\b\b\b\b\b\b\b\b\b\b\b\b\b\b\b\b\b\b\b\b\b\b\b\b\b\b\b\b\b\b\b\b\b\b\b\b\b\b\b\b\b\b\b\b\b\b\b\b\b\b\b\b\b\b\b\b\b\b\b\b\b\b\b\b\b\b\b\b\b\b\b\b\b\b\b\b\b\b\r312/312 [==============================] - 20s 65ms/step - loss: 0.5688 - top_k_categorical_accuracy: 0.9819 - val_loss: 1.0317 - val_top_k_categorical_accuracy: 0.9457 - lr: 4.0000e-04\n",
            "Epoch 122/200\n",
            "312/312 [==============================] - ETA: 0s - loss: 0.5579 - top_k_categorical_accuracy: 0.9822"
          ]
        },
        {
          "output_type": "stream",
          "name": "stderr",
          "text": [
            "WARNING:tensorflow:Early stopping conditioned on metric `val_accuracy` which is not available. Available metrics are: loss,top_k_categorical_accuracy,val_loss,val_top_k_categorical_accuracy,lr\n"
          ]
        },
        {
          "output_type": "stream",
          "name": "stdout",
          "text": [
            "\b\b\b\b\b\b\b\b\b\b\b\b\b\b\b\b\b\b\b\b\b\b\b\b\b\b\b\b\b\b\b\b\b\b\b\b\b\b\b\b\b\b\b\b\b\b\b\b\b\b\b\b\b\b\b\b\b\b\b\b\b\b\b\b\b\b\b\b\b\b\b\b\b\b\b\b\b\b\b\b\b\b\b\b\b\b\b\b\b\b\b\b\b\b\b\b\b\b\b\b\b\b\r312/312 [==============================] - 20s 63ms/step - loss: 0.5579 - top_k_categorical_accuracy: 0.9822 - val_loss: 0.9590 - val_top_k_categorical_accuracy: 0.9500 - lr: 0.0020\n",
            "Epoch 123/200\n",
            "312/312 [==============================] - ETA: 0s - loss: 0.5588 - top_k_categorical_accuracy: 0.9822"
          ]
        },
        {
          "output_type": "stream",
          "name": "stderr",
          "text": [
            "WARNING:tensorflow:Early stopping conditioned on metric `val_accuracy` which is not available. Available metrics are: loss,top_k_categorical_accuracy,val_loss,val_top_k_categorical_accuracy,lr\n"
          ]
        },
        {
          "output_type": "stream",
          "name": "stdout",
          "text": [
            "\b\b\b\b\b\b\b\b\b\b\b\b\b\b\b\b\b\b\b\b\b\b\b\b\b\b\b\b\b\b\b\b\b\b\b\b\b\b\b\b\b\b\b\b\b\b\b\b\b\b\b\b\b\b\b\b\b\b\b\b\b\b\b\b\b\b\b\b\b\b\b\b\b\b\b\b\b\b\b\b\b\b\b\b\b\b\b\b\b\b\b\b\b\b\b\b\b\b\b\b\b\b\r312/312 [==============================] - 20s 63ms/step - loss: 0.5588 - top_k_categorical_accuracy: 0.9822 - val_loss: 0.9891 - val_top_k_categorical_accuracy: 0.9454 - lr: 3.9000e-04\n",
            "Epoch 124/200\n",
            "312/312 [==============================] - ETA: 0s - loss: 0.5569 - top_k_categorical_accuracy: 0.9816"
          ]
        },
        {
          "output_type": "stream",
          "name": "stderr",
          "text": [
            "WARNING:tensorflow:Early stopping conditioned on metric `val_accuracy` which is not available. Available metrics are: loss,top_k_categorical_accuracy,val_loss,val_top_k_categorical_accuracy,lr\n"
          ]
        },
        {
          "output_type": "stream",
          "name": "stdout",
          "text": [
            "\b\b\b\b\b\b\b\b\b\b\b\b\b\b\b\b\b\b\b\b\b\b\b\b\b\b\b\b\b\b\b\b\b\b\b\b\b\b\b\b\b\b\b\b\b\b\b\b\b\b\b\b\b\b\b\b\b\b\b\b\b\b\b\b\b\b\b\b\b\b\b\b\b\b\b\b\b\b\b\b\b\b\b\b\b\b\b\b\b\b\b\b\b\b\b\b\b\b\b\b\b\b\r312/312 [==============================] - 19s 62ms/step - loss: 0.5569 - top_k_categorical_accuracy: 0.9816 - val_loss: 0.9919 - val_top_k_categorical_accuracy: 0.9447 - lr: 0.0019\n",
            "Epoch 125/200\n",
            "312/312 [==============================] - ETA: 0s - loss: 0.5612 - top_k_categorical_accuracy: 0.9806"
          ]
        },
        {
          "output_type": "stream",
          "name": "stderr",
          "text": [
            "WARNING:tensorflow:Early stopping conditioned on metric `val_accuracy` which is not available. Available metrics are: loss,top_k_categorical_accuracy,val_loss,val_top_k_categorical_accuracy,lr\n"
          ]
        },
        {
          "output_type": "stream",
          "name": "stdout",
          "text": [
            "\b\b\b\b\b\b\b\b\b\b\b\b\b\b\b\b\b\b\b\b\b\b\b\b\b\b\b\b\b\b\b\b\b\b\b\b\b\b\b\b\b\b\b\b\b\b\b\b\b\b\b\b\b\b\b\b\b\b\b\b\b\b\b\b\b\b\b\b\b\b\b\b\b\b\b\b\b\b\b\b\b\b\b\b\b\b\b\b\b\b\b\b\b\b\b\b\b\b\b\b\b\b\r312/312 [==============================] - 20s 63ms/step - loss: 0.5612 - top_k_categorical_accuracy: 0.9806 - val_loss: 0.9545 - val_top_k_categorical_accuracy: 0.9492 - lr: 3.8000e-04\n",
            "Epoch 126/200\n",
            "312/312 [==============================] - ETA: 0s - loss: 0.5505 - top_k_categorical_accuracy: 0.9825"
          ]
        },
        {
          "output_type": "stream",
          "name": "stderr",
          "text": [
            "WARNING:tensorflow:Early stopping conditioned on metric `val_accuracy` which is not available. Available metrics are: loss,top_k_categorical_accuracy,val_loss,val_top_k_categorical_accuracy,lr\n"
          ]
        },
        {
          "output_type": "stream",
          "name": "stdout",
          "text": [
            "\b\b\b\b\b\b\b\b\b\b\b\b\b\b\b\b\b\b\b\b\b\b\b\b\b\b\b\b\b\b\b\b\b\b\b\b\b\b\b\b\b\b\b\b\b\b\b\b\b\b\b\b\b\b\b\b\b\b\b\b\b\b\b\b\b\b\b\b\b\b\b\b\b\b\b\b\b\b\b\b\b\b\b\b\b\b\b\b\b\b\b\b\b\b\b\b\b\b\b\b\b\b\r312/312 [==============================] - 20s 63ms/step - loss: 0.5505 - top_k_categorical_accuracy: 0.9825 - val_loss: 0.9346 - val_top_k_categorical_accuracy: 0.9504 - lr: 0.0019\n",
            "Epoch 127/200\n",
            "312/312 [==============================] - ETA: 0s - loss: 0.5489 - top_k_categorical_accuracy: 0.9828"
          ]
        },
        {
          "output_type": "stream",
          "name": "stderr",
          "text": [
            "WARNING:tensorflow:Early stopping conditioned on metric `val_accuracy` which is not available. Available metrics are: loss,top_k_categorical_accuracy,val_loss,val_top_k_categorical_accuracy,lr\n"
          ]
        },
        {
          "output_type": "stream",
          "name": "stdout",
          "text": [
            "\b\b\b\b\b\b\b\b\b\b\b\b\b\b\b\b\b\b\b\b\b\b\b\b\b\b\b\b\b\b\b\b\b\b\b\b\b\b\b\b\b\b\b\b\b\b\b\b\b\b\b\b\b\b\b\b\b\b\b\b\b\b\b\b\b\b\b\b\b\b\b\b\b\b\b\b\b\b\b\b\b\b\b\b\b\b\b\b\b\b\b\b\b\b\b\b\b\b\b\b\b\b\r312/312 [==============================] - 20s 63ms/step - loss: 0.5489 - top_k_categorical_accuracy: 0.9828 - val_loss: 0.9455 - val_top_k_categorical_accuracy: 0.9480 - lr: 3.7000e-04\n",
            "Epoch 128/200\n",
            "312/312 [==============================] - ETA: 0s - loss: 0.5470 - top_k_categorical_accuracy: 0.9817"
          ]
        },
        {
          "output_type": "stream",
          "name": "stderr",
          "text": [
            "WARNING:tensorflow:Early stopping conditioned on metric `val_accuracy` which is not available. Available metrics are: loss,top_k_categorical_accuracy,val_loss,val_top_k_categorical_accuracy,lr\n"
          ]
        },
        {
          "output_type": "stream",
          "name": "stdout",
          "text": [
            "\b\b\b\b\b\b\b\b\b\b\b\b\b\b\b\b\b\b\b\b\b\b\b\b\b\b\b\b\b\b\b\b\b\b\b\b\b\b\b\b\b\b\b\b\b\b\b\b\b\b\b\b\b\b\b\b\b\b\b\b\b\b\b\b\b\b\b\b\b\b\b\b\b\b\b\b\b\b\b\b\b\b\b\b\b\b\b\b\b\b\b\b\b\b\b\b\b\b\b\b\b\b\r312/312 [==============================] - 20s 63ms/step - loss: 0.5470 - top_k_categorical_accuracy: 0.9817 - val_loss: 0.9302 - val_top_k_categorical_accuracy: 0.9486 - lr: 0.0018\n",
            "Epoch 129/200\n",
            "312/312 [==============================] - ETA: 0s - loss: 0.5559 - top_k_categorical_accuracy: 0.9814"
          ]
        },
        {
          "output_type": "stream",
          "name": "stderr",
          "text": [
            "WARNING:tensorflow:Early stopping conditioned on metric `val_accuracy` which is not available. Available metrics are: loss,top_k_categorical_accuracy,val_loss,val_top_k_categorical_accuracy,lr\n"
          ]
        },
        {
          "output_type": "stream",
          "name": "stdout",
          "text": [
            "\b\b\b\b\b\b\b\b\b\b\b\b\b\b\b\b\b\b\b\b\b\b\b\b\b\b\b\b\b\b\b\b\b\b\b\b\b\b\b\b\b\b\b\b\b\b\b\b\b\b\b\b\b\b\b\b\b\b\b\b\b\b\b\b\b\b\b\b\b\b\b\b\b\b\b\b\b\b\b\b\b\b\b\b\b\b\b\b\b\b\b\b\b\b\b\b\b\b\b\b\b\b\r312/312 [==============================] - 19s 62ms/step - loss: 0.5559 - top_k_categorical_accuracy: 0.9814 - val_loss: 1.0043 - val_top_k_categorical_accuracy: 0.9439 - lr: 3.6000e-04\n",
            "Epoch 130/200\n",
            "312/312 [==============================] - ETA: 0s - loss: 0.5455 - top_k_categorical_accuracy: 0.9822"
          ]
        },
        {
          "output_type": "stream",
          "name": "stderr",
          "text": [
            "WARNING:tensorflow:Early stopping conditioned on metric `val_accuracy` which is not available. Available metrics are: loss,top_k_categorical_accuracy,val_loss,val_top_k_categorical_accuracy,lr\n"
          ]
        },
        {
          "output_type": "stream",
          "name": "stdout",
          "text": [
            "\b\b\b\b\b\b\b\b\b\b\b\b\b\b\b\b\b\b\b\b\b\b\b\b\b\b\b\b\b\b\b\b\b\b\b\b\b\b\b\b\b\b\b\b\b\b\b\b\b\b\b\b\b\b\b\b\b\b\b\b\b\b\b\b\b\b\b\b\b\b\b\b\b\b\b\b\b\b\b\b\b\b\b\b\b\b\b\b\b\b\b\b\b\b\b\b\b\b\b\b\b\b\r312/312 [==============================] - 20s 65ms/step - loss: 0.5455 - top_k_categorical_accuracy: 0.9822 - val_loss: 0.9564 - val_top_k_categorical_accuracy: 0.9495 - lr: 0.0018\n",
            "Epoch 131/200\n",
            "312/312 [==============================] - ETA: 0s - loss: 0.5381 - top_k_categorical_accuracy: 0.9833"
          ]
        },
        {
          "output_type": "stream",
          "name": "stderr",
          "text": [
            "WARNING:tensorflow:Early stopping conditioned on metric `val_accuracy` which is not available. Available metrics are: loss,top_k_categorical_accuracy,val_loss,val_top_k_categorical_accuracy,lr\n"
          ]
        },
        {
          "output_type": "stream",
          "name": "stdout",
          "text": [
            "\b\b\b\b\b\b\b\b\b\b\b\b\b\b\b\b\b\b\b\b\b\b\b\b\b\b\b\b\b\b\b\b\b\b\b\b\b\b\b\b\b\b\b\b\b\b\b\b\b\b\b\b\b\b\b\b\b\b\b\b\b\b\b\b\b\b\b\b\b\b\b\b\b\b\b\b\b\b\b\b\b\b\b\b\b\b\b\b\b\b\b\b\b\b\b\b\b\b\b\b\b\b\r312/312 [==============================] - 19s 62ms/step - loss: 0.5381 - top_k_categorical_accuracy: 0.9833 - val_loss: 0.9457 - val_top_k_categorical_accuracy: 0.9490 - lr: 3.5000e-04\n",
            "Epoch 132/200\n",
            "312/312 [==============================] - ETA: 0s - loss: 0.5314 - top_k_categorical_accuracy: 0.9839"
          ]
        },
        {
          "output_type": "stream",
          "name": "stderr",
          "text": [
            "WARNING:tensorflow:Early stopping conditioned on metric `val_accuracy` which is not available. Available metrics are: loss,top_k_categorical_accuracy,val_loss,val_top_k_categorical_accuracy,lr\n"
          ]
        },
        {
          "output_type": "stream",
          "name": "stdout",
          "text": [
            "\b\b\b\b\b\b\b\b\b\b\b\b\b\b\b\b\b\b\b\b\b\b\b\b\b\b\b\b\b\b\b\b\b\b\b\b\b\b\b\b\b\b\b\b\b\b\b\b\b\b\b\b\b\b\b\b\b\b\b\b\b\b\b\b\b\b\b\b\b\b\b\b\b\b\b\b\b\b\b\b\b\b\b\b\b\b\b\b\b\b\b\b\b\b\b\b\b\b\b\b\b\b\r312/312 [==============================] - 20s 63ms/step - loss: 0.5314 - top_k_categorical_accuracy: 0.9839 - val_loss: 0.9382 - val_top_k_categorical_accuracy: 0.9522 - lr: 0.0017\n",
            "Epoch 133/200\n",
            "312/312 [==============================] - ETA: 0s - loss: 0.5394 - top_k_categorical_accuracy: 0.9827"
          ]
        },
        {
          "output_type": "stream",
          "name": "stderr",
          "text": [
            "WARNING:tensorflow:Early stopping conditioned on metric `val_accuracy` which is not available. Available metrics are: loss,top_k_categorical_accuracy,val_loss,val_top_k_categorical_accuracy,lr\n"
          ]
        },
        {
          "output_type": "stream",
          "name": "stdout",
          "text": [
            "\b\b\b\b\b\b\b\b\b\b\b\b\b\b\b\b\b\b\b\b\b\b\b\b\b\b\b\b\b\b\b\b\b\b\b\b\b\b\b\b\b\b\b\b\b\b\b\b\b\b\b\b\b\b\b\b\b\b\b\b\b\b\b\b\b\b\b\b\b\b\b\b\b\b\b\b\b\b\b\b\b\b\b\b\b\b\b\b\b\b\b\b\b\b\b\b\b\b\b\b\b\b\r312/312 [==============================] - 19s 62ms/step - loss: 0.5394 - top_k_categorical_accuracy: 0.9827 - val_loss: 0.9513 - val_top_k_categorical_accuracy: 0.9504 - lr: 3.4000e-04\n",
            "Epoch 134/200\n",
            "312/312 [==============================] - ETA: 0s - loss: 0.5294 - top_k_categorical_accuracy: 0.9829"
          ]
        },
        {
          "output_type": "stream",
          "name": "stderr",
          "text": [
            "WARNING:tensorflow:Early stopping conditioned on metric `val_accuracy` which is not available. Available metrics are: loss,top_k_categorical_accuracy,val_loss,val_top_k_categorical_accuracy,lr\n"
          ]
        },
        {
          "output_type": "stream",
          "name": "stdout",
          "text": [
            "\b\b\b\b\b\b\b\b\b\b\b\b\b\b\b\b\b\b\b\b\b\b\b\b\b\b\b\b\b\b\b\b\b\b\b\b\b\b\b\b\b\b\b\b\b\b\b\b\b\b\b\b\b\b\b\b\b\b\b\b\b\b\b\b\b\b\b\b\b\b\b\b\b\b\b\b\b\b\b\b\b\b\b\b\b\b\b\b\b\b\b\b\b\b\b\b\b\b\b\b\b\b\r312/312 [==============================] - 20s 63ms/step - loss: 0.5294 - top_k_categorical_accuracy: 0.9829 - val_loss: 0.9497 - val_top_k_categorical_accuracy: 0.9500 - lr: 0.0017\n",
            "Epoch 135/200\n",
            "312/312 [==============================] - ETA: 0s - loss: 0.5326 - top_k_categorical_accuracy: 0.9833"
          ]
        },
        {
          "output_type": "stream",
          "name": "stderr",
          "text": [
            "WARNING:tensorflow:Early stopping conditioned on metric `val_accuracy` which is not available. Available metrics are: loss,top_k_categorical_accuracy,val_loss,val_top_k_categorical_accuracy,lr\n"
          ]
        },
        {
          "output_type": "stream",
          "name": "stdout",
          "text": [
            "\b\b\b\b\b\b\b\b\b\b\b\b\b\b\b\b\b\b\b\b\b\b\b\b\b\b\b\b\b\b\b\b\b\b\b\b\b\b\b\b\b\b\b\b\b\b\b\b\b\b\b\b\b\b\b\b\b\b\b\b\b\b\b\b\b\b\b\b\b\b\b\b\b\b\b\b\b\b\b\b\b\b\b\b\b\b\b\b\b\b\b\b\b\b\b\b\b\b\b\b\b\b\r312/312 [==============================] - 20s 63ms/step - loss: 0.5326 - top_k_categorical_accuracy: 0.9833 - val_loss: 0.9884 - val_top_k_categorical_accuracy: 0.9464 - lr: 3.3000e-04\n",
            "Epoch 136/200\n",
            "312/312 [==============================] - ETA: 0s - loss: 0.5341 - top_k_categorical_accuracy: 0.9836"
          ]
        },
        {
          "output_type": "stream",
          "name": "stderr",
          "text": [
            "WARNING:tensorflow:Early stopping conditioned on metric `val_accuracy` which is not available. Available metrics are: loss,top_k_categorical_accuracy,val_loss,val_top_k_categorical_accuracy,lr\n"
          ]
        },
        {
          "output_type": "stream",
          "name": "stdout",
          "text": [
            "\b\b\b\b\b\b\b\b\b\b\b\b\b\b\b\b\b\b\b\b\b\b\b\b\b\b\b\b\b\b\b\b\b\b\b\b\b\b\b\b\b\b\b\b\b\b\b\b\b\b\b\b\b\b\b\b\b\b\b\b\b\b\b\b\b\b\b\b\b\b\b\b\b\b\b\b\b\b\b\b\b\b\b\b\b\b\b\b\b\b\b\b\b\b\b\b\b\b\b\b\b\b\r312/312 [==============================] - 19s 62ms/step - loss: 0.5341 - top_k_categorical_accuracy: 0.9836 - val_loss: 0.9490 - val_top_k_categorical_accuracy: 0.9502 - lr: 0.0016\n",
            "Epoch 137/200\n",
            "312/312 [==============================] - ETA: 0s - loss: 0.5275 - top_k_categorical_accuracy: 0.9831"
          ]
        },
        {
          "output_type": "stream",
          "name": "stderr",
          "text": [
            "WARNING:tensorflow:Early stopping conditioned on metric `val_accuracy` which is not available. Available metrics are: loss,top_k_categorical_accuracy,val_loss,val_top_k_categorical_accuracy,lr\n"
          ]
        },
        {
          "output_type": "stream",
          "name": "stdout",
          "text": [
            "\b\b\b\b\b\b\b\b\b\b\b\b\b\b\b\b\b\b\b\b\b\b\b\b\b\b\b\b\b\b\b\b\b\b\b\b\b\b\b\b\b\b\b\b\b\b\b\b\b\b\b\b\b\b\b\b\b\b\b\b\b\b\b\b\b\b\b\b\b\b\b\b\b\b\b\b\b\b\b\b\b\b\b\b\b\b\b\b\b\b\b\b\b\b\b\b\b\b\b\b\b\b\r312/312 [==============================] - 20s 63ms/step - loss: 0.5275 - top_k_categorical_accuracy: 0.9831 - val_loss: 0.9361 - val_top_k_categorical_accuracy: 0.9506 - lr: 3.2000e-04\n",
            "Epoch 138/200\n",
            "312/312 [==============================] - ETA: 0s - loss: 0.5255 - top_k_categorical_accuracy: 0.9839"
          ]
        },
        {
          "output_type": "stream",
          "name": "stderr",
          "text": [
            "WARNING:tensorflow:Early stopping conditioned on metric `val_accuracy` which is not available. Available metrics are: loss,top_k_categorical_accuracy,val_loss,val_top_k_categorical_accuracy,lr\n"
          ]
        },
        {
          "output_type": "stream",
          "name": "stdout",
          "text": [
            "\b\b\b\b\b\b\b\b\b\b\b\b\b\b\b\b\b\b\b\b\b\b\b\b\b\b\b\b\b\b\b\b\b\b\b\b\b\b\b\b\b\b\b\b\b\b\b\b\b\b\b\b\b\b\b\b\b\b\b\b\b\b\b\b\b\b\b\b\b\b\b\b\b\b\b\b\b\b\b\b\b\b\b\b\b\b\b\b\b\b\b\b\b\b\b\b\b\b\b\b\b\b\r312/312 [==============================] - 19s 62ms/step - loss: 0.5255 - top_k_categorical_accuracy: 0.9839 - val_loss: 0.9169 - val_top_k_categorical_accuracy: 0.9505 - lr: 0.0016\n",
            "Epoch 139/200\n",
            "312/312 [==============================] - ETA: 0s - loss: 0.5288 - top_k_categorical_accuracy: 0.9836"
          ]
        },
        {
          "output_type": "stream",
          "name": "stderr",
          "text": [
            "WARNING:tensorflow:Early stopping conditioned on metric `val_accuracy` which is not available. Available metrics are: loss,top_k_categorical_accuracy,val_loss,val_top_k_categorical_accuracy,lr\n"
          ]
        },
        {
          "output_type": "stream",
          "name": "stdout",
          "text": [
            "\b\b\b\b\b\b\b\b\b\b\b\b\b\b\b\b\b\b\b\b\b\b\b\b\b\b\b\b\b\b\b\b\b\b\b\b\b\b\b\b\b\b\b\b\b\b\b\b\b\b\b\b\b\b\b\b\b\b\b\b\b\b\b\b\b\b\b\b\b\b\b\b\b\b\b\b\b\b\b\b\b\b\b\b\b\b\b\b\b\b\b\b\b\b\b\b\b\b\b\b\b\b\r312/312 [==============================] - 20s 64ms/step - loss: 0.5288 - top_k_categorical_accuracy: 0.9836 - val_loss: 0.9469 - val_top_k_categorical_accuracy: 0.9488 - lr: 3.1000e-04\n",
            "Epoch 140/200\n",
            "312/312 [==============================] - ETA: 0s - loss: 0.5253 - top_k_categorical_accuracy: 0.9833"
          ]
        },
        {
          "output_type": "stream",
          "name": "stderr",
          "text": [
            "WARNING:tensorflow:Early stopping conditioned on metric `val_accuracy` which is not available. Available metrics are: loss,top_k_categorical_accuracy,val_loss,val_top_k_categorical_accuracy,lr\n"
          ]
        },
        {
          "output_type": "stream",
          "name": "stdout",
          "text": [
            "\b\b\b\b\b\b\b\b\b\b\b\b\b\b\b\b\b\b\b\b\b\b\b\b\b\b\b\b\b\b\b\b\b\b\b\b\b\b\b\b\b\b\b\b\b\b\b\b\b\b\b\b\b\b\b\b\b\b\b\b\b\b\b\b\b\b\b\b\b\b\b\b\b\b\b\b\b\b\b\b\b\b\b\b\b\b\b\b\b\b\b\b\b\b\b\b\b\b\b\b\b\b\r312/312 [==============================] - 19s 62ms/step - loss: 0.5253 - top_k_categorical_accuracy: 0.9833 - val_loss: 0.9716 - val_top_k_categorical_accuracy: 0.9507 - lr: 0.0015\n",
            "Epoch 141/200\n",
            "312/312 [==============================] - ETA: 0s - loss: 0.5197 - top_k_categorical_accuracy: 0.9838"
          ]
        },
        {
          "output_type": "stream",
          "name": "stderr",
          "text": [
            "WARNING:tensorflow:Early stopping conditioned on metric `val_accuracy` which is not available. Available metrics are: loss,top_k_categorical_accuracy,val_loss,val_top_k_categorical_accuracy,lr\n"
          ]
        },
        {
          "output_type": "stream",
          "name": "stdout",
          "text": [
            "\b\b\b\b\b\b\b\b\b\b\b\b\b\b\b\b\b\b\b\b\b\b\b\b\b\b\b\b\b\b\b\b\b\b\b\b\b\b\b\b\b\b\b\b\b\b\b\b\b\b\b\b\b\b\b\b\b\b\b\b\b\b\b\b\b\b\b\b\b\b\b\b\b\b\b\b\b\b\b\b\b\b\b\b\b\b\b\b\b\b\b\b\b\b\b\b\b\b\b\b\b\b\r312/312 [==============================] - 19s 62ms/step - loss: 0.5197 - top_k_categorical_accuracy: 0.9838 - val_loss: 0.9618 - val_top_k_categorical_accuracy: 0.9496 - lr: 3.0000e-04\n",
            "Epoch 142/200\n",
            "312/312 [==============================] - ETA: 0s - loss: 0.5197 - top_k_categorical_accuracy: 0.9850"
          ]
        },
        {
          "output_type": "stream",
          "name": "stderr",
          "text": [
            "WARNING:tensorflow:Early stopping conditioned on metric `val_accuracy` which is not available. Available metrics are: loss,top_k_categorical_accuracy,val_loss,val_top_k_categorical_accuracy,lr\n"
          ]
        },
        {
          "output_type": "stream",
          "name": "stdout",
          "text": [
            "\b\b\b\b\b\b\b\b\b\b\b\b\b\b\b\b\b\b\b\b\b\b\b\b\b\b\b\b\b\b\b\b\b\b\b\b\b\b\b\b\b\b\b\b\b\b\b\b\b\b\b\b\b\b\b\b\b\b\b\b\b\b\b\b\b\b\b\b\b\b\b\b\b\b\b\b\b\b\b\b\b\b\b\b\b\b\b\b\b\b\b\b\b\b\b\b\b\b\b\b\b\b\r312/312 [==============================] - 20s 63ms/step - loss: 0.5197 - top_k_categorical_accuracy: 0.9850 - val_loss: 0.9509 - val_top_k_categorical_accuracy: 0.9491 - lr: 0.0015\n",
            "Epoch 143/200\n",
            "312/312 [==============================] - ETA: 0s - loss: 0.5171 - top_k_categorical_accuracy: 0.9847"
          ]
        },
        {
          "output_type": "stream",
          "name": "stderr",
          "text": [
            "WARNING:tensorflow:Early stopping conditioned on metric `val_accuracy` which is not available. Available metrics are: loss,top_k_categorical_accuracy,val_loss,val_top_k_categorical_accuracy,lr\n"
          ]
        },
        {
          "output_type": "stream",
          "name": "stdout",
          "text": [
            "\b\b\b\b\b\b\b\b\b\b\b\b\b\b\b\b\b\b\b\b\b\b\b\b\b\b\b\b\b\b\b\b\b\b\b\b\b\b\b\b\b\b\b\b\b\b\b\b\b\b\b\b\b\b\b\b\b\b\b\b\b\b\b\b\b\b\b\b\b\b\b\b\b\b\b\b\b\b\b\b\b\b\b\b\b\b\b\b\b\b\b\b\b\b\b\b\b\b\b\b\b\b\r312/312 [==============================] - 20s 63ms/step - loss: 0.5171 - top_k_categorical_accuracy: 0.9847 - val_loss: 0.9400 - val_top_k_categorical_accuracy: 0.9506 - lr: 2.9000e-04\n",
            "Epoch 144/200\n",
            "312/312 [==============================] - ETA: 0s - loss: 0.5171 - top_k_categorical_accuracy: 0.9840"
          ]
        },
        {
          "output_type": "stream",
          "name": "stderr",
          "text": [
            "WARNING:tensorflow:Early stopping conditioned on metric `val_accuracy` which is not available. Available metrics are: loss,top_k_categorical_accuracy,val_loss,val_top_k_categorical_accuracy,lr\n"
          ]
        },
        {
          "output_type": "stream",
          "name": "stdout",
          "text": [
            "\b\b\b\b\b\b\b\b\b\b\b\b\b\b\b\b\b\b\b\b\b\b\b\b\b\b\b\b\b\b\b\b\b\b\b\b\b\b\b\b\b\b\b\b\b\b\b\b\b\b\b\b\b\b\b\b\b\b\b\b\b\b\b\b\b\b\b\b\b\b\b\b\b\b\b\b\b\b\b\b\b\b\b\b\b\b\b\b\b\b\b\b\b\b\b\b\b\b\b\b\b\b\r312/312 [==============================] - 19s 62ms/step - loss: 0.5171 - top_k_categorical_accuracy: 0.9840 - val_loss: 0.9508 - val_top_k_categorical_accuracy: 0.9493 - lr: 0.0014\n",
            "Epoch 145/200\n",
            "312/312 [==============================] - ETA: 0s - loss: 0.5133 - top_k_categorical_accuracy: 0.9844"
          ]
        },
        {
          "output_type": "stream",
          "name": "stderr",
          "text": [
            "WARNING:tensorflow:Early stopping conditioned on metric `val_accuracy` which is not available. Available metrics are: loss,top_k_categorical_accuracy,val_loss,val_top_k_categorical_accuracy,lr\n"
          ]
        },
        {
          "output_type": "stream",
          "name": "stdout",
          "text": [
            "\b\b\b\b\b\b\b\b\b\b\b\b\b\b\b\b\b\b\b\b\b\b\b\b\b\b\b\b\b\b\b\b\b\b\b\b\b\b\b\b\b\b\b\b\b\b\b\b\b\b\b\b\b\b\b\b\b\b\b\b\b\b\b\b\b\b\b\b\b\b\b\b\b\b\b\b\b\b\b\b\b\b\b\b\b\b\b\b\b\b\b\b\b\b\b\b\b\b\b\b\b\b\r312/312 [==============================] - 19s 62ms/step - loss: 0.5133 - top_k_categorical_accuracy: 0.9844 - val_loss: 0.9294 - val_top_k_categorical_accuracy: 0.9506 - lr: 2.8000e-04\n",
            "Epoch 146/200\n",
            "312/312 [==============================] - ETA: 0s - loss: 0.5094 - top_k_categorical_accuracy: 0.9861"
          ]
        },
        {
          "output_type": "stream",
          "name": "stderr",
          "text": [
            "WARNING:tensorflow:Early stopping conditioned on metric `val_accuracy` which is not available. Available metrics are: loss,top_k_categorical_accuracy,val_loss,val_top_k_categorical_accuracy,lr\n"
          ]
        },
        {
          "output_type": "stream",
          "name": "stdout",
          "text": [
            "\b\b\b\b\b\b\b\b\b\b\b\b\b\b\b\b\b\b\b\b\b\b\b\b\b\b\b\b\b\b\b\b\b\b\b\b\b\b\b\b\b\b\b\b\b\b\b\b\b\b\b\b\b\b\b\b\b\b\b\b\b\b\b\b\b\b\b\b\b\b\b\b\b\b\b\b\b\b\b\b\b\b\b\b\b\b\b\b\b\b\b\b\b\b\b\b\b\b\b\b\b\b\r312/312 [==============================] - 19s 62ms/step - loss: 0.5094 - top_k_categorical_accuracy: 0.9861 - val_loss: 0.9479 - val_top_k_categorical_accuracy: 0.9501 - lr: 0.0014\n",
            "Epoch 147/200\n",
            "312/312 [==============================] - ETA: 0s - loss: 0.5173 - top_k_categorical_accuracy: 0.9848"
          ]
        },
        {
          "output_type": "stream",
          "name": "stderr",
          "text": [
            "WARNING:tensorflow:Early stopping conditioned on metric `val_accuracy` which is not available. Available metrics are: loss,top_k_categorical_accuracy,val_loss,val_top_k_categorical_accuracy,lr\n"
          ]
        },
        {
          "output_type": "stream",
          "name": "stdout",
          "text": [
            "\b\b\b\b\b\b\b\b\b\b\b\b\b\b\b\b\b\b\b\b\b\b\b\b\b\b\b\b\b\b\b\b\b\b\b\b\b\b\b\b\b\b\b\b\b\b\b\b\b\b\b\b\b\b\b\b\b\b\b\b\b\b\b\b\b\b\b\b\b\b\b\b\b\b\b\b\b\b\b\b\b\b\b\b\b\b\b\b\b\b\b\b\b\b\b\b\b\b\b\b\b\b\r312/312 [==============================] - 19s 62ms/step - loss: 0.5173 - top_k_categorical_accuracy: 0.9848 - val_loss: 0.9018 - val_top_k_categorical_accuracy: 0.9524 - lr: 0.0014\n",
            "Epoch 148/200\n",
            "311/312 [============================>.] - ETA: 0s - loss: 0.5045 - top_k_categorical_accuracy: 0.9851"
          ]
        },
        {
          "output_type": "stream",
          "name": "stderr",
          "text": [
            "WARNING:tensorflow:Early stopping conditioned on metric `val_accuracy` which is not available. Available metrics are: loss,top_k_categorical_accuracy,val_loss,val_top_k_categorical_accuracy,lr\n"
          ]
        },
        {
          "output_type": "stream",
          "name": "stdout",
          "text": [
            "\b\b\b\b\b\b\b\b\b\b\b\b\b\b\b\b\b\b\b\b\b\b\b\b\b\b\b\b\b\b\b\b\b\b\b\b\b\b\b\b\b\b\b\b\b\b\b\b\b\b\b\b\b\b\b\b\b\b\b\b\b\b\b\b\b\b\b\b\b\b\b\b\b\b\b\b\b\b\b\b\b\b\b\b\b\b\b\b\b\b\b\b\b\b\b\b\b\b\b\b\b\b\r312/312 [==============================] - 20s 66ms/step - loss: 0.5049 - top_k_categorical_accuracy: 0.9850 - val_loss: 0.9617 - val_top_k_categorical_accuracy: 0.9468 - lr: 0.0013\n",
            "Epoch 149/200\n",
            "312/312 [==============================] - ETA: 0s - loss: 0.5104 - top_k_categorical_accuracy: 0.9850"
          ]
        },
        {
          "output_type": "stream",
          "name": "stderr",
          "text": [
            "WARNING:tensorflow:Early stopping conditioned on metric `val_accuracy` which is not available. Available metrics are: loss,top_k_categorical_accuracy,val_loss,val_top_k_categorical_accuracy,lr\n"
          ]
        },
        {
          "output_type": "stream",
          "name": "stdout",
          "text": [
            "\b\b\b\b\b\b\b\b\b\b\b\b\b\b\b\b\b\b\b\b\b\b\b\b\b\b\b\b\b\b\b\b\b\b\b\b\b\b\b\b\b\b\b\b\b\b\b\b\b\b\b\b\b\b\b\b\b\b\b\b\b\b\b\b\b\b\b\b\b\b\b\b\b\b\b\b\b\b\b\b\b\b\b\b\b\b\b\b\b\b\b\b\b\b\b\b\b\b\b\b\b\b\r312/312 [==============================] - 19s 62ms/step - loss: 0.5104 - top_k_categorical_accuracy: 0.9850 - val_loss: 0.9822 - val_top_k_categorical_accuracy: 0.9477 - lr: 2.6000e-04\n",
            "Epoch 150/200\n",
            "312/312 [==============================] - ETA: 0s - loss: 0.5055 - top_k_categorical_accuracy: 0.9851"
          ]
        },
        {
          "output_type": "stream",
          "name": "stderr",
          "text": [
            "WARNING:tensorflow:Early stopping conditioned on metric `val_accuracy` which is not available. Available metrics are: loss,top_k_categorical_accuracy,val_loss,val_top_k_categorical_accuracy,lr\n"
          ]
        },
        {
          "output_type": "stream",
          "name": "stdout",
          "text": [
            "\b\b\b\b\b\b\b\b\b\b\b\b\b\b\b\b\b\b\b\b\b\b\b\b\b\b\b\b\b\b\b\b\b\b\b\b\b\b\b\b\b\b\b\b\b\b\b\b\b\b\b\b\b\b\b\b\b\b\b\b\b\b\b\b\b\b\b\b\b\b\b\b\b\b\b\b\b\b\b\b\b\b\b\b\b\b\b\b\b\b\b\b\b\b\b\b\b\b\b\b\b\b\r312/312 [==============================] - 20s 63ms/step - loss: 0.5055 - top_k_categorical_accuracy: 0.9851 - val_loss: 0.9897 - val_top_k_categorical_accuracy: 0.9461 - lr: 0.0013\n",
            "Epoch 151/200\n",
            "312/312 [==============================] - ETA: 0s - loss: 0.4985 - top_k_categorical_accuracy: 0.9853"
          ]
        },
        {
          "output_type": "stream",
          "name": "stderr",
          "text": [
            "WARNING:tensorflow:Early stopping conditioned on metric `val_accuracy` which is not available. Available metrics are: loss,top_k_categorical_accuracy,val_loss,val_top_k_categorical_accuracy,lr\n"
          ]
        },
        {
          "output_type": "stream",
          "name": "stdout",
          "text": [
            "\b\b\b\b\b\b\b\b\b\b\b\b\b\b\b\b\b\b\b\b\b\b\b\b\b\b\b\b\b\b\b\b\b\b\b\b\b\b\b\b\b\b\b\b\b\b\b\b\b\b\b\b\b\b\b\b\b\b\b\b\b\b\b\b\b\b\b\b\b\b\b\b\b\b\b\b\b\b\b\b\b\b\b\b\b\b\b\b\b\b\b\b\b\b\b\b\b\b\b\b\b\b\r312/312 [==============================] - 20s 63ms/step - loss: 0.4985 - top_k_categorical_accuracy: 0.9853 - val_loss: 0.9279 - val_top_k_categorical_accuracy: 0.9503 - lr: 2.5000e-04\n",
            "Epoch 152/200\n",
            "311/312 [============================>.] - ETA: 0s - loss: 0.5079 - top_k_categorical_accuracy: 0.9849"
          ]
        },
        {
          "output_type": "stream",
          "name": "stderr",
          "text": [
            "WARNING:tensorflow:Early stopping conditioned on metric `val_accuracy` which is not available. Available metrics are: loss,top_k_categorical_accuracy,val_loss,val_top_k_categorical_accuracy,lr\n"
          ]
        },
        {
          "output_type": "stream",
          "name": "stdout",
          "text": [
            "\b\b\b\b\b\b\b\b\b\b\b\b\b\b\b\b\b\b\b\b\b\b\b\b\b\b\b\b\b\b\b\b\b\b\b\b\b\b\b\b\b\b\b\b\b\b\b\b\b\b\b\b\b\b\b\b\b\b\b\b\b\b\b\b\b\b\b\b\b\b\b\b\b\b\b\b\b\b\b\b\b\b\b\b\b\b\b\b\b\b\b\b\b\b\b\b\b\b\b\b\b\b\r312/312 [==============================] - 19s 62ms/step - loss: 0.5083 - top_k_categorical_accuracy: 0.9849 - val_loss: 0.9223 - val_top_k_categorical_accuracy: 0.9507 - lr: 0.0012\n",
            "Epoch 153/200\n",
            "312/312 [==============================] - ETA: 0s - loss: 0.5007 - top_k_categorical_accuracy: 0.9860"
          ]
        },
        {
          "output_type": "stream",
          "name": "stderr",
          "text": [
            "WARNING:tensorflow:Early stopping conditioned on metric `val_accuracy` which is not available. Available metrics are: loss,top_k_categorical_accuracy,val_loss,val_top_k_categorical_accuracy,lr\n"
          ]
        },
        {
          "output_type": "stream",
          "name": "stdout",
          "text": [
            "\b\b\b\b\b\b\b\b\b\b\b\b\b\b\b\b\b\b\b\b\b\b\b\b\b\b\b\b\b\b\b\b\b\b\b\b\b\b\b\b\b\b\b\b\b\b\b\b\b\b\b\b\b\b\b\b\b\b\b\b\b\b\b\b\b\b\b\b\b\b\b\b\b\b\b\b\b\b\b\b\b\b\b\b\b\b\b\b\b\b\b\b\b\b\b\b\b\b\b\b\b\b\r312/312 [==============================] - 19s 62ms/step - loss: 0.5007 - top_k_categorical_accuracy: 0.9860 - val_loss: 0.9911 - val_top_k_categorical_accuracy: 0.9469 - lr: 2.4000e-04\n",
            "Epoch 154/200\n",
            "312/312 [==============================] - ETA: 0s - loss: 0.4932 - top_k_categorical_accuracy: 0.9860"
          ]
        },
        {
          "output_type": "stream",
          "name": "stderr",
          "text": [
            "WARNING:tensorflow:Early stopping conditioned on metric `val_accuracy` which is not available. Available metrics are: loss,top_k_categorical_accuracy,val_loss,val_top_k_categorical_accuracy,lr\n"
          ]
        },
        {
          "output_type": "stream",
          "name": "stdout",
          "text": [
            "\b\b\b\b\b\b\b\b\b\b\b\b\b\b\b\b\b\b\b\b\b\b\b\b\b\b\b\b\b\b\b\b\b\b\b\b\b\b\b\b\b\b\b\b\b\b\b\b\b\b\b\b\b\b\b\b\b\b\b\b\b\b\b\b\b\b\b\b\b\b\b\b\b\b\b\b\b\b\b\b\b\b\b\b\b\b\b\b\b\b\b\b\b\b\b\b\b\b\b\b\b\b\r312/312 [==============================] - 20s 63ms/step - loss: 0.4932 - top_k_categorical_accuracy: 0.9860 - val_loss: 0.9290 - val_top_k_categorical_accuracy: 0.9517 - lr: 0.0012\n",
            "Epoch 155/200\n",
            "312/312 [==============================] - ETA: 0s - loss: 0.4936 - top_k_categorical_accuracy: 0.9854"
          ]
        },
        {
          "output_type": "stream",
          "name": "stderr",
          "text": [
            "WARNING:tensorflow:Early stopping conditioned on metric `val_accuracy` which is not available. Available metrics are: loss,top_k_categorical_accuracy,val_loss,val_top_k_categorical_accuracy,lr\n"
          ]
        },
        {
          "output_type": "stream",
          "name": "stdout",
          "text": [
            "\b\b\b\b\b\b\b\b\b\b\b\b\b\b\b\b\b\b\b\b\b\b\b\b\b\b\b\b\b\b\b\b\b\b\b\b\b\b\b\b\b\b\b\b\b\b\b\b\b\b\b\b\b\b\b\b\b\b\b\b\b\b\b\b\b\b\b\b\b\b\b\b\b\b\b\b\b\b\b\b\b\b\b\b\b\b\b\b\b\b\b\b\b\b\b\b\b\b\b\b\b\b\r312/312 [==============================] - 19s 62ms/step - loss: 0.4936 - top_k_categorical_accuracy: 0.9854 - val_loss: 0.9264 - val_top_k_categorical_accuracy: 0.9515 - lr: 2.3000e-04\n",
            "Epoch 156/200\n",
            "312/312 [==============================] - ETA: 0s - loss: 0.4913 - top_k_categorical_accuracy: 0.9858"
          ]
        },
        {
          "output_type": "stream",
          "name": "stderr",
          "text": [
            "WARNING:tensorflow:Early stopping conditioned on metric `val_accuracy` which is not available. Available metrics are: loss,top_k_categorical_accuracy,val_loss,val_top_k_categorical_accuracy,lr\n"
          ]
        },
        {
          "output_type": "stream",
          "name": "stdout",
          "text": [
            "\b\b\b\b\b\b\b\b\b\b\b\b\b\b\b\b\b\b\b\b\b\b\b\b\b\b\b\b\b\b\b\b\b\b\b\b\b\b\b\b\b\b\b\b\b\b\b\b\b\b\b\b\b\b\b\b\b\b\b\b\b\b\b\b\b\b\b\b\b\b\b\b\b\b\b\b\b\b\b\b\b\b\b\b\b\b\b\b\b\b\b\b\b\b\b\b\b\b\b\b\b\b\r312/312 [==============================] - 20s 63ms/step - loss: 0.4913 - top_k_categorical_accuracy: 0.9858 - val_loss: 0.9763 - val_top_k_categorical_accuracy: 0.9480 - lr: 0.0011\n",
            "Epoch 157/200\n",
            "312/312 [==============================] - ETA: 0s - loss: 0.4966 - top_k_categorical_accuracy: 0.9853"
          ]
        },
        {
          "output_type": "stream",
          "name": "stderr",
          "text": [
            "WARNING:tensorflow:Early stopping conditioned on metric `val_accuracy` which is not available. Available metrics are: loss,top_k_categorical_accuracy,val_loss,val_top_k_categorical_accuracy,lr\n"
          ]
        },
        {
          "output_type": "stream",
          "name": "stdout",
          "text": [
            "\b\b\b\b\b\b\b\b\b\b\b\b\b\b\b\b\b\b\b\b\b\b\b\b\b\b\b\b\b\b\b\b\b\b\b\b\b\b\b\b\b\b\b\b\b\b\b\b\b\b\b\b\b\b\b\b\b\b\b\b\b\b\b\b\b\b\b\b\b\b\b\b\b\b\b\b\b\b\b\b\b\b\b\b\b\b\b\b\b\b\b\b\b\b\b\b\b\b\b\b\b\b\r312/312 [==============================] - 21s 66ms/step - loss: 0.4966 - top_k_categorical_accuracy: 0.9853 - val_loss: 0.9061 - val_top_k_categorical_accuracy: 0.9513 - lr: 2.2000e-04\n",
            "Epoch 158/200\n",
            "312/312 [==============================] - ETA: 0s - loss: 0.4864 - top_k_categorical_accuracy: 0.9863"
          ]
        },
        {
          "output_type": "stream",
          "name": "stderr",
          "text": [
            "WARNING:tensorflow:Early stopping conditioned on metric `val_accuracy` which is not available. Available metrics are: loss,top_k_categorical_accuracy,val_loss,val_top_k_categorical_accuracy,lr\n"
          ]
        },
        {
          "output_type": "stream",
          "name": "stdout",
          "text": [
            "\b\b\b\b\b\b\b\b\b\b\b\b\b\b\b\b\b\b\b\b\b\b\b\b\b\b\b\b\b\b\b\b\b\b\b\b\b\b\b\b\b\b\b\b\b\b\b\b\b\b\b\b\b\b\b\b\b\b\b\b\b\b\b\b\b\b\b\b\b\b\b\b\b\b\b\b\b\b\b\b\b\b\b\b\b\b\b\b\b\b\b\b\b\b\b\b\b\b\b\b\b\b\r312/312 [==============================] - 20s 63ms/step - loss: 0.4864 - top_k_categorical_accuracy: 0.9863 - val_loss: 0.9367 - val_top_k_categorical_accuracy: 0.9490 - lr: 0.0011\n",
            "Epoch 159/200\n",
            "312/312 [==============================] - ETA: 0s - loss: 0.4853 - top_k_categorical_accuracy: 0.9859"
          ]
        },
        {
          "output_type": "stream",
          "name": "stderr",
          "text": [
            "WARNING:tensorflow:Early stopping conditioned on metric `val_accuracy` which is not available. Available metrics are: loss,top_k_categorical_accuracy,val_loss,val_top_k_categorical_accuracy,lr\n"
          ]
        },
        {
          "output_type": "stream",
          "name": "stdout",
          "text": [
            "\b\b\b\b\b\b\b\b\b\b\b\b\b\b\b\b\b\b\b\b\b\b\b\b\b\b\b\b\b\b\b\b\b\b\b\b\b\b\b\b\b\b\b\b\b\b\b\b\b\b\b\b\b\b\b\b\b\b\b\b\b\b\b\b\b\b\b\b\b\b\b\b\b\b\b\b\b\b\b\b\b\b\b\b\b\b\b\b\b\b\b\b\b\b\b\b\b\b\b\b\b\b\r312/312 [==============================] - 20s 62ms/step - loss: 0.4853 - top_k_categorical_accuracy: 0.9859 - val_loss: 0.9454 - val_top_k_categorical_accuracy: 0.9506 - lr: 2.1000e-04\n",
            "Epoch 160/200\n",
            "312/312 [==============================] - ETA: 0s - loss: 0.4911 - top_k_categorical_accuracy: 0.9864"
          ]
        },
        {
          "output_type": "stream",
          "name": "stderr",
          "text": [
            "WARNING:tensorflow:Early stopping conditioned on metric `val_accuracy` which is not available. Available metrics are: loss,top_k_categorical_accuracy,val_loss,val_top_k_categorical_accuracy,lr\n"
          ]
        },
        {
          "output_type": "stream",
          "name": "stdout",
          "text": [
            "\b\b\b\b\b\b\b\b\b\b\b\b\b\b\b\b\b\b\b\b\b\b\b\b\b\b\b\b\b\b\b\b\b\b\b\b\b\b\b\b\b\b\b\b\b\b\b\b\b\b\b\b\b\b\b\b\b\b\b\b\b\b\b\b\b\b\b\b\b\b\b\b\b\b\b\b\b\b\b\b\b\b\b\b\b\b\b\b\b\b\b\b\b\b\b\b\b\b\b\b\b\b\r312/312 [==============================] - 19s 62ms/step - loss: 0.4911 - top_k_categorical_accuracy: 0.9864 - val_loss: 0.9514 - val_top_k_categorical_accuracy: 0.9492 - lr: 0.0010\n",
            "Epoch 161/200\n",
            "312/312 [==============================] - ETA: 0s - loss: 0.4878 - top_k_categorical_accuracy: 0.9863"
          ]
        },
        {
          "output_type": "stream",
          "name": "stderr",
          "text": [
            "WARNING:tensorflow:Early stopping conditioned on metric `val_accuracy` which is not available. Available metrics are: loss,top_k_categorical_accuracy,val_loss,val_top_k_categorical_accuracy,lr\n"
          ]
        },
        {
          "output_type": "stream",
          "name": "stdout",
          "text": [
            "\b\b\b\b\b\b\b\b\b\b\b\b\b\b\b\b\b\b\b\b\b\b\b\b\b\b\b\b\b\b\b\b\b\b\b\b\b\b\b\b\b\b\b\b\b\b\b\b\b\b\b\b\b\b\b\b\b\b\b\b\b\b\b\b\b\b\b\b\b\b\b\b\b\b\b\b\b\b\b\b\b\b\b\b\b\b\b\b\b\b\b\b\b\b\b\b\b\b\b\b\b\b\r312/312 [==============================] - 20s 63ms/step - loss: 0.4878 - top_k_categorical_accuracy: 0.9863 - val_loss: 0.9489 - val_top_k_categorical_accuracy: 0.9518 - lr: 2.0000e-04\n",
            "Epoch 162/200\n",
            "312/312 [==============================] - ETA: 0s - loss: 0.4875 - top_k_categorical_accuracy: 0.9857"
          ]
        },
        {
          "output_type": "stream",
          "name": "stderr",
          "text": [
            "WARNING:tensorflow:Early stopping conditioned on metric `val_accuracy` which is not available. Available metrics are: loss,top_k_categorical_accuracy,val_loss,val_top_k_categorical_accuracy,lr\n"
          ]
        },
        {
          "output_type": "stream",
          "name": "stdout",
          "text": [
            "\b\b\b\b\b\b\b\b\b\b\b\b\b\b\b\b\b\b\b\b\b\b\b\b\b\b\b\b\b\b\b\b\b\b\b\b\b\b\b\b\b\b\b\b\b\b\b\b\b\b\b\b\b\b\b\b\b\b\b\b\b\b\b\b\b\b\b\b\b\b\b\b\b\b\b\b\b\b\b\b\b\b\b\b\b\b\b\b\b\b\b\b\b\b\b\b\b\b\b\b\b\b\r312/312 [==============================] - 20s 63ms/step - loss: 0.4875 - top_k_categorical_accuracy: 0.9857 - val_loss: 0.9113 - val_top_k_categorical_accuracy: 0.9537 - lr: 9.7500e-04\n",
            "Epoch 163/200\n",
            "312/312 [==============================] - ETA: 0s - loss: 0.4825 - top_k_categorical_accuracy: 0.9860"
          ]
        },
        {
          "output_type": "stream",
          "name": "stderr",
          "text": [
            "WARNING:tensorflow:Early stopping conditioned on metric `val_accuracy` which is not available. Available metrics are: loss,top_k_categorical_accuracy,val_loss,val_top_k_categorical_accuracy,lr\n"
          ]
        },
        {
          "output_type": "stream",
          "name": "stdout",
          "text": [
            "\b\b\b\b\b\b\b\b\b\b\b\b\b\b\b\b\b\b\b\b\b\b\b\b\b\b\b\b\b\b\b\b\b\b\b\b\b\b\b\b\b\b\b\b\b\b\b\b\b\b\b\b\b\b\b\b\b\b\b\b\b\b\b\b\b\b\b\b\b\b\b\b\b\b\b\b\b\b\b\b\b\b\b\b\b\b\b\b\b\b\b\b\b\b\b\b\b\b\b\b\b\b\r312/312 [==============================] - 20s 63ms/step - loss: 0.4825 - top_k_categorical_accuracy: 0.9860 - val_loss: 0.9583 - val_top_k_categorical_accuracy: 0.9499 - lr: 1.9000e-04\n",
            "Epoch 164/200\n",
            "312/312 [==============================] - ETA: 0s - loss: 0.4767 - top_k_categorical_accuracy: 0.9872"
          ]
        },
        {
          "output_type": "stream",
          "name": "stderr",
          "text": [
            "WARNING:tensorflow:Early stopping conditioned on metric `val_accuracy` which is not available. Available metrics are: loss,top_k_categorical_accuracy,val_loss,val_top_k_categorical_accuracy,lr\n"
          ]
        },
        {
          "output_type": "stream",
          "name": "stdout",
          "text": [
            "\b\b\b\b\b\b\b\b\b\b\b\b\b\b\b\b\b\b\b\b\b\b\b\b\b\b\b\b\b\b\b\b\b\b\b\b\b\b\b\b\b\b\b\b\b\b\b\b\b\b\b\b\b\b\b\b\b\b\b\b\b\b\b\b\b\b\b\b\b\b\b\b\b\b\b\b\b\b\b\b\b\b\b\b\b\b\b\b\b\b\b\b\b\b\b\b\b\b\b\b\b\b\r312/312 [==============================] - 19s 62ms/step - loss: 0.4767 - top_k_categorical_accuracy: 0.9872 - val_loss: 0.9347 - val_top_k_categorical_accuracy: 0.9512 - lr: 9.2500e-04\n",
            "Epoch 165/200\n",
            "312/312 [==============================] - ETA: 0s - loss: 0.4791 - top_k_categorical_accuracy: 0.9865"
          ]
        },
        {
          "output_type": "stream",
          "name": "stderr",
          "text": [
            "WARNING:tensorflow:Early stopping conditioned on metric `val_accuracy` which is not available. Available metrics are: loss,top_k_categorical_accuracy,val_loss,val_top_k_categorical_accuracy,lr\n"
          ]
        },
        {
          "output_type": "stream",
          "name": "stdout",
          "text": [
            "\b\b\b\b\b\b\b\b\b\b\b\b\b\b\b\b\b\b\b\b\b\b\b\b\b\b\b\b\b\b\b\b\b\b\b\b\b\b\b\b\b\b\b\b\b\b\b\b\b\b\b\b\b\b\b\b\b\b\b\b\b\b\b\b\b\b\b\b\b\b\b\b\b\b\b\b\b\b\b\b\b\b\b\b\b\b\b\b\b\b\b\b\b\b\b\b\b\b\b\b\b\b\r312/312 [==============================] - 20s 66ms/step - loss: 0.4791 - top_k_categorical_accuracy: 0.9865 - val_loss: 0.9226 - val_top_k_categorical_accuracy: 0.9513 - lr: 1.8000e-04\n",
            "Epoch 166/200\n",
            "312/312 [==============================] - ETA: 0s - loss: 0.4732 - top_k_categorical_accuracy: 0.9880"
          ]
        },
        {
          "output_type": "stream",
          "name": "stderr",
          "text": [
            "WARNING:tensorflow:Early stopping conditioned on metric `val_accuracy` which is not available. Available metrics are: loss,top_k_categorical_accuracy,val_loss,val_top_k_categorical_accuracy,lr\n"
          ]
        },
        {
          "output_type": "stream",
          "name": "stdout",
          "text": [
            "\b\b\b\b\b\b\b\b\b\b\b\b\b\b\b\b\b\b\b\b\b\b\b\b\b\b\b\b\b\b\b\b\b\b\b\b\b\b\b\b\b\b\b\b\b\b\b\b\b\b\b\b\b\b\b\b\b\b\b\b\b\b\b\b\b\b\b\b\b\b\b\b\b\b\b\b\b\b\b\b\b\b\b\b\b\b\b\b\b\b\b\b\b\b\b\b\b\b\b\b\b\b\r312/312 [==============================] - 20s 63ms/step - loss: 0.4732 - top_k_categorical_accuracy: 0.9880 - val_loss: 0.9650 - val_top_k_categorical_accuracy: 0.9490 - lr: 8.7500e-04\n",
            "Epoch 167/200\n",
            "312/312 [==============================] - ETA: 0s - loss: 0.4749 - top_k_categorical_accuracy: 0.9873"
          ]
        },
        {
          "output_type": "stream",
          "name": "stderr",
          "text": [
            "WARNING:tensorflow:Early stopping conditioned on metric `val_accuracy` which is not available. Available metrics are: loss,top_k_categorical_accuracy,val_loss,val_top_k_categorical_accuracy,lr\n"
          ]
        },
        {
          "output_type": "stream",
          "name": "stdout",
          "text": [
            "\b\b\b\b\b\b\b\b\b\b\b\b\b\b\b\b\b\b\b\b\b\b\b\b\b\b\b\b\b\b\b\b\b\b\b\b\b\b\b\b\b\b\b\b\b\b\b\b\b\b\b\b\b\b\b\b\b\b\b\b\b\b\b\b\b\b\b\b\b\b\b\b\b\b\b\b\b\b\b\b\b\b\b\b\b\b\b\b\b\b\b\b\b\b\b\b\b\b\b\b\b\b\r312/312 [==============================] - 19s 62ms/step - loss: 0.4749 - top_k_categorical_accuracy: 0.9873 - val_loss: 0.9440 - val_top_k_categorical_accuracy: 0.9507 - lr: 1.7000e-04\n",
            "Epoch 168/200\n",
            "312/312 [==============================] - ETA: 0s - loss: 0.4703 - top_k_categorical_accuracy: 0.9868"
          ]
        },
        {
          "output_type": "stream",
          "name": "stderr",
          "text": [
            "WARNING:tensorflow:Early stopping conditioned on metric `val_accuracy` which is not available. Available metrics are: loss,top_k_categorical_accuracy,val_loss,val_top_k_categorical_accuracy,lr\n"
          ]
        },
        {
          "output_type": "stream",
          "name": "stdout",
          "text": [
            "\b\b\b\b\b\b\b\b\b\b\b\b\b\b\b\b\b\b\b\b\b\b\b\b\b\b\b\b\b\b\b\b\b\b\b\b\b\b\b\b\b\b\b\b\b\b\b\b\b\b\b\b\b\b\b\b\b\b\b\b\b\b\b\b\b\b\b\b\b\b\b\b\b\b\b\b\b\b\b\b\b\b\b\b\b\b\b\b\b\b\b\b\b\b\b\b\b\b\b\b\b\b\r312/312 [==============================] - 19s 62ms/step - loss: 0.4703 - top_k_categorical_accuracy: 0.9868 - val_loss: 0.9292 - val_top_k_categorical_accuracy: 0.9513 - lr: 8.2500e-04\n",
            "Epoch 169/200\n",
            "312/312 [==============================] - ETA: 0s - loss: 0.4668 - top_k_categorical_accuracy: 0.9872"
          ]
        },
        {
          "output_type": "stream",
          "name": "stderr",
          "text": [
            "WARNING:tensorflow:Early stopping conditioned on metric `val_accuracy` which is not available. Available metrics are: loss,top_k_categorical_accuracy,val_loss,val_top_k_categorical_accuracy,lr\n"
          ]
        },
        {
          "output_type": "stream",
          "name": "stdout",
          "text": [
            "\b\b\b\b\b\b\b\b\b\b\b\b\b\b\b\b\b\b\b\b\b\b\b\b\b\b\b\b\b\b\b\b\b\b\b\b\b\b\b\b\b\b\b\b\b\b\b\b\b\b\b\b\b\b\b\b\b\b\b\b\b\b\b\b\b\b\b\b\b\b\b\b\b\b\b\b\b\b\b\b\b\b\b\b\b\b\b\b\b\b\b\b\b\b\b\b\b\b\b\b\b\b\r312/312 [==============================] - 19s 62ms/step - loss: 0.4668 - top_k_categorical_accuracy: 0.9872 - val_loss: 0.9384 - val_top_k_categorical_accuracy: 0.9528 - lr: 1.6000e-04\n",
            "Epoch 170/200\n",
            "312/312 [==============================] - ETA: 0s - loss: 0.4616 - top_k_categorical_accuracy: 0.9872"
          ]
        },
        {
          "output_type": "stream",
          "name": "stderr",
          "text": [
            "WARNING:tensorflow:Early stopping conditioned on metric `val_accuracy` which is not available. Available metrics are: loss,top_k_categorical_accuracy,val_loss,val_top_k_categorical_accuracy,lr\n"
          ]
        },
        {
          "output_type": "stream",
          "name": "stdout",
          "text": [
            "\b\b\b\b\b\b\b\b\b\b\b\b\b\b\b\b\b\b\b\b\b\b\b\b\b\b\b\b\b\b\b\b\b\b\b\b\b\b\b\b\b\b\b\b\b\b\b\b\b\b\b\b\b\b\b\b\b\b\b\b\b\b\b\b\b\b\b\b\b\b\b\b\b\b\b\b\b\b\b\b\b\b\b\b\b\b\b\b\b\b\b\b\b\b\b\b\b\b\b\b\b\b\r312/312 [==============================] - 20s 63ms/step - loss: 0.4616 - top_k_categorical_accuracy: 0.9872 - val_loss: 0.9491 - val_top_k_categorical_accuracy: 0.9528 - lr: 7.7500e-04\n",
            "Epoch 171/200\n",
            "312/312 [==============================] - ETA: 0s - loss: 0.4633 - top_k_categorical_accuracy: 0.9881"
          ]
        },
        {
          "output_type": "stream",
          "name": "stderr",
          "text": [
            "WARNING:tensorflow:Early stopping conditioned on metric `val_accuracy` which is not available. Available metrics are: loss,top_k_categorical_accuracy,val_loss,val_top_k_categorical_accuracy,lr\n"
          ]
        },
        {
          "output_type": "stream",
          "name": "stdout",
          "text": [
            "\b\b\b\b\b\b\b\b\b\b\b\b\b\b\b\b\b\b\b\b\b\b\b\b\b\b\b\b\b\b\b\b\b\b\b\b\b\b\b\b\b\b\b\b\b\b\b\b\b\b\b\b\b\b\b\b\b\b\b\b\b\b\b\b\b\b\b\b\b\b\b\b\b\b\b\b\b\b\b\b\b\b\b\b\b\b\b\b\b\b\b\b\b\b\b\b\b\b\b\b\b\b\r312/312 [==============================] - 19s 62ms/step - loss: 0.4633 - top_k_categorical_accuracy: 0.9881 - val_loss: 0.9264 - val_top_k_categorical_accuracy: 0.9534 - lr: 1.5000e-04\n",
            "Epoch 172/200\n",
            "312/312 [==============================] - ETA: 0s - loss: 0.4674 - top_k_categorical_accuracy: 0.9877"
          ]
        },
        {
          "output_type": "stream",
          "name": "stderr",
          "text": [
            "WARNING:tensorflow:Early stopping conditioned on metric `val_accuracy` which is not available. Available metrics are: loss,top_k_categorical_accuracy,val_loss,val_top_k_categorical_accuracy,lr\n"
          ]
        },
        {
          "output_type": "stream",
          "name": "stdout",
          "text": [
            "\b\b\b\b\b\b\b\b\b\b\b\b\b\b\b\b\b\b\b\b\b\b\b\b\b\b\b\b\b\b\b\b\b\b\b\b\b\b\b\b\b\b\b\b\b\b\b\b\b\b\b\b\b\b\b\b\b\b\b\b\b\b\b\b\b\b\b\b\b\b\b\b\b\b\b\b\b\b\b\b\b\b\b\b\b\b\b\b\b\b\b\b\b\b\b\b\b\b\b\b\b\b\r312/312 [==============================] - 19s 62ms/step - loss: 0.4674 - top_k_categorical_accuracy: 0.9877 - val_loss: 0.9791 - val_top_k_categorical_accuracy: 0.9486 - lr: 7.2500e-04\n",
            "Epoch 173/200\n",
            "312/312 [==============================] - ETA: 0s - loss: 0.4658 - top_k_categorical_accuracy: 0.9875"
          ]
        },
        {
          "output_type": "stream",
          "name": "stderr",
          "text": [
            "WARNING:tensorflow:Early stopping conditioned on metric `val_accuracy` which is not available. Available metrics are: loss,top_k_categorical_accuracy,val_loss,val_top_k_categorical_accuracy,lr\n"
          ]
        },
        {
          "output_type": "stream",
          "name": "stdout",
          "text": [
            "\b\b\b\b\b\b\b\b\b\b\b\b\b\b\b\b\b\b\b\b\b\b\b\b\b\b\b\b\b\b\b\b\b\b\b\b\b\b\b\b\b\b\b\b\b\b\b\b\b\b\b\b\b\b\b\b\b\b\b\b\b\b\b\b\b\b\b\b\b\b\b\b\b\b\b\b\b\b\b\b\b\b\b\b\b\b\b\b\b\b\b\b\b\b\b\b\b\b\b\b\b\b\r312/312 [==============================] - 20s 64ms/step - loss: 0.4658 - top_k_categorical_accuracy: 0.9875 - val_loss: 0.9362 - val_top_k_categorical_accuracy: 0.9515 - lr: 1.4000e-04\n",
            "Epoch 174/200\n",
            "312/312 [==============================] - ETA: 0s - loss: 0.4629 - top_k_categorical_accuracy: 0.9870"
          ]
        },
        {
          "output_type": "stream",
          "name": "stderr",
          "text": [
            "WARNING:tensorflow:Early stopping conditioned on metric `val_accuracy` which is not available. Available metrics are: loss,top_k_categorical_accuracy,val_loss,val_top_k_categorical_accuracy,lr\n"
          ]
        },
        {
          "output_type": "stream",
          "name": "stdout",
          "text": [
            "\b\b\b\b\b\b\b\b\b\b\b\b\b\b\b\b\b\b\b\b\b\b\b\b\b\b\b\b\b\b\b\b\b\b\b\b\b\b\b\b\b\b\b\b\b\b\b\b\b\b\b\b\b\b\b\b\b\b\b\b\b\b\b\b\b\b\b\b\b\b\b\b\b\b\b\b\b\b\b\b\b\b\b\b\b\b\b\b\b\b\b\b\b\b\b\b\b\b\b\b\b\b\r312/312 [==============================] - 19s 62ms/step - loss: 0.4629 - top_k_categorical_accuracy: 0.9870 - val_loss: 0.9510 - val_top_k_categorical_accuracy: 0.9530 - lr: 6.7500e-04\n",
            "Epoch 175/200\n",
            "312/312 [==============================] - ETA: 0s - loss: 0.4553 - top_k_categorical_accuracy: 0.9873"
          ]
        },
        {
          "output_type": "stream",
          "name": "stderr",
          "text": [
            "WARNING:tensorflow:Early stopping conditioned on metric `val_accuracy` which is not available. Available metrics are: loss,top_k_categorical_accuracy,val_loss,val_top_k_categorical_accuracy,lr\n"
          ]
        },
        {
          "output_type": "stream",
          "name": "stdout",
          "text": [
            "\b\b\b\b\b\b\b\b\b\b\b\b\b\b\b\b\b\b\b\b\b\b\b\b\b\b\b\b\b\b\b\b\b\b\b\b\b\b\b\b\b\b\b\b\b\b\b\b\b\b\b\b\b\b\b\b\b\b\b\b\b\b\b\b\b\b\b\b\b\b\b\b\b\b\b\b\b\b\b\b\b\b\b\b\b\b\b\b\b\b\b\b\b\b\b\b\b\b\b\b\b\b\r312/312 [==============================] - 19s 62ms/step - loss: 0.4553 - top_k_categorical_accuracy: 0.9873 - val_loss: 0.9376 - val_top_k_categorical_accuracy: 0.9533 - lr: 1.3000e-04\n",
            "Epoch 176/200\n",
            "312/312 [==============================] - ETA: 0s - loss: 0.4585 - top_k_categorical_accuracy: 0.9878"
          ]
        },
        {
          "output_type": "stream",
          "name": "stderr",
          "text": [
            "WARNING:tensorflow:Early stopping conditioned on metric `val_accuracy` which is not available. Available metrics are: loss,top_k_categorical_accuracy,val_loss,val_top_k_categorical_accuracy,lr\n"
          ]
        },
        {
          "output_type": "stream",
          "name": "stdout",
          "text": [
            "\b\b\b\b\b\b\b\b\b\b\b\b\b\b\b\b\b\b\b\b\b\b\b\b\b\b\b\b\b\b\b\b\b\b\b\b\b\b\b\b\b\b\b\b\b\b\b\b\b\b\b\b\b\b\b\b\b\b\b\b\b\b\b\b\b\b\b\b\b\b\b\b\b\b\b\b\b\b\b\b\b\b\b\b\b\b\b\b\b\b\b\b\b\b\b\b\b\b\b\b\b\b\r312/312 [==============================] - 19s 62ms/step - loss: 0.4585 - top_k_categorical_accuracy: 0.9878 - val_loss: 0.9901 - val_top_k_categorical_accuracy: 0.9485 - lr: 6.2500e-04\n",
            "Epoch 177/200\n",
            "312/312 [==============================] - ETA: 0s - loss: 0.4539 - top_k_categorical_accuracy: 0.9878"
          ]
        },
        {
          "output_type": "stream",
          "name": "stderr",
          "text": [
            "WARNING:tensorflow:Early stopping conditioned on metric `val_accuracy` which is not available. Available metrics are: loss,top_k_categorical_accuracy,val_loss,val_top_k_categorical_accuracy,lr\n"
          ]
        },
        {
          "output_type": "stream",
          "name": "stdout",
          "text": [
            "\b\b\b\b\b\b\b\b\b\b\b\b\b\b\b\b\b\b\b\b\b\b\b\b\b\b\b\b\b\b\b\b\b\b\b\b\b\b\b\b\b\b\b\b\b\b\b\b\b\b\b\b\b\b\b\b\b\b\b\b\b\b\b\b\b\b\b\b\b\b\b\b\b\b\b\b\b\b\b\b\b\b\b\b\b\b\b\b\b\b\b\b\b\b\b\b\b\b\b\b\b\b\r312/312 [==============================] - 19s 62ms/step - loss: 0.4539 - top_k_categorical_accuracy: 0.9878 - val_loss: 0.9319 - val_top_k_categorical_accuracy: 0.9533 - lr: 1.2000e-04\n",
            "Epoch 178/200\n",
            "312/312 [==============================] - ETA: 0s - loss: 0.4566 - top_k_categorical_accuracy: 0.9879"
          ]
        },
        {
          "output_type": "stream",
          "name": "stderr",
          "text": [
            "WARNING:tensorflow:Early stopping conditioned on metric `val_accuracy` which is not available. Available metrics are: loss,top_k_categorical_accuracy,val_loss,val_top_k_categorical_accuracy,lr\n"
          ]
        },
        {
          "output_type": "stream",
          "name": "stdout",
          "text": [
            "\b\b\b\b\b\b\b\b\b\b\b\b\b\b\b\b\b\b\b\b\b\b\b\b\b\b\b\b\b\b\b\b\b\b\b\b\b\b\b\b\b\b\b\b\b\b\b\b\b\b\b\b\b\b\b\b\b\b\b\b\b\b\b\b\b\b\b\b\b\b\b\b\b\b\b\b\b\b\b\b\b\b\b\b\b\b\b\b\b\b\b\b\b\b\b\b\b\b\b\b\b\b\r312/312 [==============================] - 20s 63ms/step - loss: 0.4566 - top_k_categorical_accuracy: 0.9879 - val_loss: 0.9483 - val_top_k_categorical_accuracy: 0.9512 - lr: 5.7500e-04\n",
            "Epoch 179/200\n",
            "312/312 [==============================] - ETA: 0s - loss: 0.4470 - top_k_categorical_accuracy: 0.9883"
          ]
        },
        {
          "output_type": "stream",
          "name": "stderr",
          "text": [
            "WARNING:tensorflow:Early stopping conditioned on metric `val_accuracy` which is not available. Available metrics are: loss,top_k_categorical_accuracy,val_loss,val_top_k_categorical_accuracy,lr\n"
          ]
        },
        {
          "output_type": "stream",
          "name": "stdout",
          "text": [
            "\b\b\b\b\b\b\b\b\b\b\b\b\b\b\b\b\b\b\b\b\b\b\b\b\b\b\b\b\b\b\b\b\b\b\b\b\b\b\b\b\b\b\b\b\b\b\b\b\b\b\b\b\b\b\b\b\b\b\b\b\b\b\b\b\b\b\b\b\b\b\b\b\b\b\b\b\b\b\b\b\b\b\b\b\b\b\b\b\b\b\b\b\b\b\b\b\b\b\b\b\b\b\r312/312 [==============================] - 19s 62ms/step - loss: 0.4470 - top_k_categorical_accuracy: 0.9883 - val_loss: 0.9668 - val_top_k_categorical_accuracy: 0.9517 - lr: 1.1000e-04\n",
            "Epoch 180/200\n",
            "312/312 [==============================] - ETA: 0s - loss: 0.4559 - top_k_categorical_accuracy: 0.9877"
          ]
        },
        {
          "output_type": "stream",
          "name": "stderr",
          "text": [
            "WARNING:tensorflow:Early stopping conditioned on metric `val_accuracy` which is not available. Available metrics are: loss,top_k_categorical_accuracy,val_loss,val_top_k_categorical_accuracy,lr\n"
          ]
        },
        {
          "output_type": "stream",
          "name": "stdout",
          "text": [
            "\b\b\b\b\b\b\b\b\b\b\b\b\b\b\b\b\b\b\b\b\b\b\b\b\b\b\b\b\b\b\b\b\b\b\b\b\b\b\b\b\b\b\b\b\b\b\b\b\b\b\b\b\b\b\b\b\b\b\b\b\b\b\b\b\b\b\b\b\b\b\b\b\b\b\b\b\b\b\b\b\b\b\b\b\b\b\b\b\b\b\b\b\b\b\b\b\b\b\b\b\b\b\r312/312 [==============================] - 19s 62ms/step - loss: 0.4559 - top_k_categorical_accuracy: 0.9877 - val_loss: 0.9412 - val_top_k_categorical_accuracy: 0.9510 - lr: 5.2500e-04\n",
            "Epoch 181/200\n",
            "312/312 [==============================] - ETA: 0s - loss: 0.4484 - top_k_categorical_accuracy: 0.9878"
          ]
        },
        {
          "output_type": "stream",
          "name": "stderr",
          "text": [
            "WARNING:tensorflow:Early stopping conditioned on metric `val_accuracy` which is not available. Available metrics are: loss,top_k_categorical_accuracy,val_loss,val_top_k_categorical_accuracy,lr\n"
          ]
        },
        {
          "output_type": "stream",
          "name": "stdout",
          "text": [
            "\b\b\b\b\b\b\b\b\b\b\b\b\b\b\b\b\b\b\b\b\b\b\b\b\b\b\b\b\b\b\b\b\b\b\b\b\b\b\b\b\b\b\b\b\b\b\b\b\b\b\b\b\b\b\b\b\b\b\b\b\b\b\b\b\b\b\b\b\b\b\b\b\b\b\b\b\b\b\b\b\b\b\b\b\b\b\b\b\b\b\b\b\b\b\b\b\b\b\b\b\b\b\r312/312 [==============================] - 19s 62ms/step - loss: 0.4484 - top_k_categorical_accuracy: 0.9878 - val_loss: 0.9480 - val_top_k_categorical_accuracy: 0.9532 - lr: 1.0000e-04\n",
            "Epoch 182/200\n",
            "312/312 [==============================] - ETA: 0s - loss: 0.4501 - top_k_categorical_accuracy: 0.9884"
          ]
        },
        {
          "output_type": "stream",
          "name": "stderr",
          "text": [
            "WARNING:tensorflow:Early stopping conditioned on metric `val_accuracy` which is not available. Available metrics are: loss,top_k_categorical_accuracy,val_loss,val_top_k_categorical_accuracy,lr\n"
          ]
        },
        {
          "output_type": "stream",
          "name": "stdout",
          "text": [
            "\b\b\b\b\b\b\b\b\b\b\b\b\b\b\b\b\b\b\b\b\b\b\b\b\b\b\b\b\b\b\b\b\b\b\b\b\b\b\b\b\b\b\b\b\b\b\b\b\b\b\b\b\b\b\b\b\b\b\b\b\b\b\b\b\b\b\b\b\b\b\b\b\b\b\b\b\b\b\b\b\b\b\b\b\b\b\b\b\b\b\b\b\b\b\b\b\b\b\b\b\b\b\r312/312 [==============================] - 20s 64ms/step - loss: 0.4501 - top_k_categorical_accuracy: 0.9884 - val_loss: 0.9438 - val_top_k_categorical_accuracy: 0.9526 - lr: 4.7500e-04\n",
            "Epoch 183/200\n",
            "312/312 [==============================] - ETA: 0s - loss: 0.4390 - top_k_categorical_accuracy: 0.9883"
          ]
        },
        {
          "output_type": "stream",
          "name": "stderr",
          "text": [
            "WARNING:tensorflow:Early stopping conditioned on metric `val_accuracy` which is not available. Available metrics are: loss,top_k_categorical_accuracy,val_loss,val_top_k_categorical_accuracy,lr\n"
          ]
        },
        {
          "output_type": "stream",
          "name": "stdout",
          "text": [
            "\b\b\b\b\b\b\b\b\b\b\b\b\b\b\b\b\b\b\b\b\b\b\b\b\b\b\b\b\b\b\b\b\b\b\b\b\b\b\b\b\b\b\b\b\b\b\b\b\b\b\b\b\b\b\b\b\b\b\b\b\b\b\b\b\b\b\b\b\b\b\b\b\b\b\b\b\b\b\b\b\b\b\b\b\b\b\b\b\b\b\b\b\b\b\b\b\b\b\b\b\b\b\r312/312 [==============================] - 19s 61ms/step - loss: 0.4390 - top_k_categorical_accuracy: 0.9883 - val_loss: 0.9487 - val_top_k_categorical_accuracy: 0.9513 - lr: 9.0000e-05\n",
            "Epoch 184/200\n",
            "312/312 [==============================] - ETA: 0s - loss: 0.4497 - top_k_categorical_accuracy: 0.9889"
          ]
        },
        {
          "output_type": "stream",
          "name": "stderr",
          "text": [
            "WARNING:tensorflow:Early stopping conditioned on metric `val_accuracy` which is not available. Available metrics are: loss,top_k_categorical_accuracy,val_loss,val_top_k_categorical_accuracy,lr\n"
          ]
        },
        {
          "output_type": "stream",
          "name": "stdout",
          "text": [
            "\b\b\b\b\b\b\b\b\b\b\b\b\b\b\b\b\b\b\b\b\b\b\b\b\b\b\b\b\b\b\b\b\b\b\b\b\b\b\b\b\b\b\b\b\b\b\b\b\b\b\b\b\b\b\b\b\b\b\b\b\b\b\b\b\b\b\b\b\b\b\b\b\b\b\b\b\b\b\b\b\b\b\b\b\b\b\b\b\b\b\b\b\b\b\b\b\b\b\b\b\b\b\r312/312 [==============================] - 19s 62ms/step - loss: 0.4497 - top_k_categorical_accuracy: 0.9889 - val_loss: 0.9215 - val_top_k_categorical_accuracy: 0.9529 - lr: 4.2500e-04\n",
            "Epoch 185/200\n",
            "312/312 [==============================] - ETA: 0s - loss: 0.4437 - top_k_categorical_accuracy: 0.9886"
          ]
        },
        {
          "output_type": "stream",
          "name": "stderr",
          "text": [
            "WARNING:tensorflow:Early stopping conditioned on metric `val_accuracy` which is not available. Available metrics are: loss,top_k_categorical_accuracy,val_loss,val_top_k_categorical_accuracy,lr\n"
          ]
        },
        {
          "output_type": "stream",
          "name": "stdout",
          "text": [
            "\b\b\b\b\b\b\b\b\b\b\b\b\b\b\b\b\b\b\b\b\b\b\b\b\b\b\b\b\b\b\b\b\b\b\b\b\b\b\b\b\b\b\b\b\b\b\b\b\b\b\b\b\b\b\b\b\b\b\b\b\b\b\b\b\b\b\b\b\b\b\b\b\b\b\b\b\b\b\b\b\b\b\b\b\b\b\b\b\b\b\b\b\b\b\b\b\b\b\b\b\b\b\r312/312 [==============================] - 19s 61ms/step - loss: 0.4437 - top_k_categorical_accuracy: 0.9886 - val_loss: 0.9385 - val_top_k_categorical_accuracy: 0.9517 - lr: 8.0000e-05\n",
            "Epoch 186/200\n",
            "312/312 [==============================] - ETA: 0s - loss: 0.4372 - top_k_categorical_accuracy: 0.9892"
          ]
        },
        {
          "output_type": "stream",
          "name": "stderr",
          "text": [
            "WARNING:tensorflow:Early stopping conditioned on metric `val_accuracy` which is not available. Available metrics are: loss,top_k_categorical_accuracy,val_loss,val_top_k_categorical_accuracy,lr\n"
          ]
        },
        {
          "output_type": "stream",
          "name": "stdout",
          "text": [
            "\b\b\b\b\b\b\b\b\b\b\b\b\b\b\b\b\b\b\b\b\b\b\b\b\b\b\b\b\b\b\b\b\b\b\b\b\b\b\b\b\b\b\b\b\b\b\b\b\b\b\b\b\b\b\b\b\b\b\b\b\b\b\b\b\b\b\b\b\b\b\b\b\b\b\b\b\b\b\b\b\b\b\b\b\b\b\b\b\b\b\b\b\b\b\b\b\b\b\b\b\b\b\r312/312 [==============================] - 19s 62ms/step - loss: 0.4372 - top_k_categorical_accuracy: 0.9892 - val_loss: 0.9475 - val_top_k_categorical_accuracy: 0.9535 - lr: 3.7500e-04\n",
            "Epoch 187/200\n",
            "312/312 [==============================] - ETA: 0s - loss: 0.4405 - top_k_categorical_accuracy: 0.9889"
          ]
        },
        {
          "output_type": "stream",
          "name": "stderr",
          "text": [
            "WARNING:tensorflow:Early stopping conditioned on metric `val_accuracy` which is not available. Available metrics are: loss,top_k_categorical_accuracy,val_loss,val_top_k_categorical_accuracy,lr\n"
          ]
        },
        {
          "output_type": "stream",
          "name": "stdout",
          "text": [
            "\b\b\b\b\b\b\b\b\b\b\b\b\b\b\b\b\b\b\b\b\b\b\b\b\b\b\b\b\b\b\b\b\b\b\b\b\b\b\b\b\b\b\b\b\b\b\b\b\b\b\b\b\b\b\b\b\b\b\b\b\b\b\b\b\b\b\b\b\b\b\b\b\b\b\b\b\b\b\b\b\b\b\b\b\b\b\b\b\b\b\b\b\b\b\b\b\b\b\b\b\b\b\r312/312 [==============================] - 19s 61ms/step - loss: 0.4405 - top_k_categorical_accuracy: 0.9889 - val_loss: 0.9381 - val_top_k_categorical_accuracy: 0.9529 - lr: 7.0000e-05\n",
            "Epoch 188/200\n",
            "312/312 [==============================] - ETA: 0s - loss: 0.4386 - top_k_categorical_accuracy: 0.9890"
          ]
        },
        {
          "output_type": "stream",
          "name": "stderr",
          "text": [
            "WARNING:tensorflow:Early stopping conditioned on metric `val_accuracy` which is not available. Available metrics are: loss,top_k_categorical_accuracy,val_loss,val_top_k_categorical_accuracy,lr\n"
          ]
        },
        {
          "output_type": "stream",
          "name": "stdout",
          "text": [
            "\b\b\b\b\b\b\b\b\b\b\b\b\b\b\b\b\b\b\b\b\b\b\b\b\b\b\b\b\b\b\b\b\b\b\b\b\b\b\b\b\b\b\b\b\b\b\b\b\b\b\b\b\b\b\b\b\b\b\b\b\b\b\b\b\b\b\b\b\b\b\b\b\b\b\b\b\b\b\b\b\b\b\b\b\b\b\b\b\b\b\b\b\b\b\b\b\b\b\b\b\b\b\r312/312 [==============================] - 19s 62ms/step - loss: 0.4386 - top_k_categorical_accuracy: 0.9890 - val_loss: 0.9495 - val_top_k_categorical_accuracy: 0.9524 - lr: 3.2500e-04\n",
            "Epoch 189/200\n",
            "312/312 [==============================] - ETA: 0s - loss: 0.4417 - top_k_categorical_accuracy: 0.9889"
          ]
        },
        {
          "output_type": "stream",
          "name": "stderr",
          "text": [
            "WARNING:tensorflow:Early stopping conditioned on metric `val_accuracy` which is not available. Available metrics are: loss,top_k_categorical_accuracy,val_loss,val_top_k_categorical_accuracy,lr\n"
          ]
        },
        {
          "output_type": "stream",
          "name": "stdout",
          "text": [
            "\b\b\b\b\b\b\b\b\b\b\b\b\b\b\b\b\b\b\b\b\b\b\b\b\b\b\b\b\b\b\b\b\b\b\b\b\b\b\b\b\b\b\b\b\b\b\b\b\b\b\b\b\b\b\b\b\b\b\b\b\b\b\b\b\b\b\b\b\b\b\b\b\b\b\b\b\b\b\b\b\b\b\b\b\b\b\b\b\b\b\b\b\b\b\b\b\b\b\b\b\b\b\r312/312 [==============================] - 19s 62ms/step - loss: 0.4417 - top_k_categorical_accuracy: 0.9889 - val_loss: 0.9354 - val_top_k_categorical_accuracy: 0.9538 - lr: 6.0000e-05\n",
            "Epoch 190/200\n",
            "312/312 [==============================] - ETA: 0s - loss: 0.4390 - top_k_categorical_accuracy: 0.9884"
          ]
        },
        {
          "output_type": "stream",
          "name": "stderr",
          "text": [
            "WARNING:tensorflow:Early stopping conditioned on metric `val_accuracy` which is not available. Available metrics are: loss,top_k_categorical_accuracy,val_loss,val_top_k_categorical_accuracy,lr\n"
          ]
        },
        {
          "output_type": "stream",
          "name": "stdout",
          "text": [
            "\b\b\b\b\b\b\b\b\b\b\b\b\b\b\b\b\b\b\b\b\b\b\b\b\b\b\b\b\b\b\b\b\b\b\b\b\b\b\b\b\b\b\b\b\b\b\b\b\b\b\b\b\b\b\b\b\b\b\b\b\b\b\b\b\b\b\b\b\b\b\b\b\b\b\b\b\b\b\b\b\b\b\b\b\b\b\b\b\b\b\b\b\b\b\b\b\b\b\b\b\b\b\r312/312 [==============================] - 20s 63ms/step - loss: 0.4390 - top_k_categorical_accuracy: 0.9884 - val_loss: 0.9518 - val_top_k_categorical_accuracy: 0.9510 - lr: 2.7500e-04\n",
            "Epoch 191/200\n",
            "312/312 [==============================] - ETA: 0s - loss: 0.4417 - top_k_categorical_accuracy: 0.9882"
          ]
        },
        {
          "output_type": "stream",
          "name": "stderr",
          "text": [
            "WARNING:tensorflow:Early stopping conditioned on metric `val_accuracy` which is not available. Available metrics are: loss,top_k_categorical_accuracy,val_loss,val_top_k_categorical_accuracy,lr\n"
          ]
        },
        {
          "output_type": "stream",
          "name": "stdout",
          "text": [
            "\b\b\b\b\b\b\b\b\b\b\b\b\b\b\b\b\b\b\b\b\b\b\b\b\b\b\b\b\b\b\b\b\b\b\b\b\b\b\b\b\b\b\b\b\b\b\b\b\b\b\b\b\b\b\b\b\b\b\b\b\b\b\b\b\b\b\b\b\b\b\b\b\b\b\b\b\b\b\b\b\b\b\b\b\b\b\b\b\b\b\b\b\b\b\b\b\b\b\b\b\b\b\r312/312 [==============================] - 19s 62ms/step - loss: 0.4417 - top_k_categorical_accuracy: 0.9882 - val_loss: 0.9434 - val_top_k_categorical_accuracy: 0.9529 - lr: 5.0000e-05\n",
            "Epoch 192/200\n",
            "312/312 [==============================] - ETA: 0s - loss: 0.4366 - top_k_categorical_accuracy: 0.9889"
          ]
        },
        {
          "output_type": "stream",
          "name": "stderr",
          "text": [
            "WARNING:tensorflow:Early stopping conditioned on metric `val_accuracy` which is not available. Available metrics are: loss,top_k_categorical_accuracy,val_loss,val_top_k_categorical_accuracy,lr\n"
          ]
        },
        {
          "output_type": "stream",
          "name": "stdout",
          "text": [
            "\b\b\b\b\b\b\b\b\b\b\b\b\b\b\b\b\b\b\b\b\b\b\b\b\b\b\b\b\b\b\b\b\b\b\b\b\b\b\b\b\b\b\b\b\b\b\b\b\b\b\b\b\b\b\b\b\b\b\b\b\b\b\b\b\b\b\b\b\b\b\b\b\b\b\b\b\b\b\b\b\b\b\b\b\b\b\b\b\b\b\b\b\b\b\b\b\b\b\b\b\b\b\r312/312 [==============================] - 19s 62ms/step - loss: 0.4366 - top_k_categorical_accuracy: 0.9889 - val_loss: 0.9292 - val_top_k_categorical_accuracy: 0.9534 - lr: 2.2500e-04\n",
            "Epoch 193/200\n",
            "312/312 [==============================] - ETA: 0s - loss: 0.4394 - top_k_categorical_accuracy: 0.9886"
          ]
        },
        {
          "output_type": "stream",
          "name": "stderr",
          "text": [
            "WARNING:tensorflow:Early stopping conditioned on metric `val_accuracy` which is not available. Available metrics are: loss,top_k_categorical_accuracy,val_loss,val_top_k_categorical_accuracy,lr\n"
          ]
        },
        {
          "output_type": "stream",
          "name": "stdout",
          "text": [
            "\b\b\b\b\b\b\b\b\b\b\b\b\b\b\b\b\b\b\b\b\b\b\b\b\b\b\b\b\b\b\b\b\b\b\b\b\b\b\b\b\b\b\b\b\b\b\b\b\b\b\b\b\b\b\b\b\b\b\b\b\b\b\b\b\b\b\b\b\b\b\b\b\b\b\b\b\b\b\b\b\b\b\b\b\b\b\b\b\b\b\b\b\b\b\b\b\b\b\b\b\b\b\r312/312 [==============================] - 19s 61ms/step - loss: 0.4394 - top_k_categorical_accuracy: 0.9886 - val_loss: 0.9310 - val_top_k_categorical_accuracy: 0.9544 - lr: 4.0000e-05\n",
            "Epoch 194/200\n",
            "312/312 [==============================] - ETA: 0s - loss: 0.4355 - top_k_categorical_accuracy: 0.9890"
          ]
        },
        {
          "output_type": "stream",
          "name": "stderr",
          "text": [
            "WARNING:tensorflow:Early stopping conditioned on metric `val_accuracy` which is not available. Available metrics are: loss,top_k_categorical_accuracy,val_loss,val_top_k_categorical_accuracy,lr\n"
          ]
        },
        {
          "output_type": "stream",
          "name": "stdout",
          "text": [
            "\b\b\b\b\b\b\b\b\b\b\b\b\b\b\b\b\b\b\b\b\b\b\b\b\b\b\b\b\b\b\b\b\b\b\b\b\b\b\b\b\b\b\b\b\b\b\b\b\b\b\b\b\b\b\b\b\b\b\b\b\b\b\b\b\b\b\b\b\b\b\b\b\b\b\b\b\b\b\b\b\b\b\b\b\b\b\b\b\b\b\b\b\b\b\b\b\b\b\b\b\b\b\r312/312 [==============================] - 19s 62ms/step - loss: 0.4355 - top_k_categorical_accuracy: 0.9890 - val_loss: 0.9414 - val_top_k_categorical_accuracy: 0.9529 - lr: 1.7500e-04\n",
            "Epoch 195/200\n",
            "312/312 [==============================] - ETA: 0s - loss: 0.4372 - top_k_categorical_accuracy: 0.9890"
          ]
        },
        {
          "output_type": "stream",
          "name": "stderr",
          "text": [
            "WARNING:tensorflow:Early stopping conditioned on metric `val_accuracy` which is not available. Available metrics are: loss,top_k_categorical_accuracy,val_loss,val_top_k_categorical_accuracy,lr\n"
          ]
        },
        {
          "output_type": "stream",
          "name": "stdout",
          "text": [
            "\b\b\b\b\b\b\b\b\b\b\b\b\b\b\b\b\b\b\b\b\b\b\b\b\b\b\b\b\b\b\b\b\b\b\b\b\b\b\b\b\b\b\b\b\b\b\b\b\b\b\b\b\b\b\b\b\b\b\b\b\b\b\b\b\b\b\b\b\b\b\b\b\b\b\b\b\b\b\b\b\b\b\b\b\b\b\b\b\b\b\b\b\b\b\b\b\b\b\b\b\b\b\r312/312 [==============================] - 19s 61ms/step - loss: 0.4372 - top_k_categorical_accuracy: 0.9890 - val_loss: 0.9320 - val_top_k_categorical_accuracy: 0.9544 - lr: 3.0000e-05\n",
            "Epoch 196/200\n",
            "312/312 [==============================] - ETA: 0s - loss: 0.4342 - top_k_categorical_accuracy: 0.9891"
          ]
        },
        {
          "output_type": "stream",
          "name": "stderr",
          "text": [
            "WARNING:tensorflow:Early stopping conditioned on metric `val_accuracy` which is not available. Available metrics are: loss,top_k_categorical_accuracy,val_loss,val_top_k_categorical_accuracy,lr\n"
          ]
        },
        {
          "output_type": "stream",
          "name": "stdout",
          "text": [
            "\b\b\b\b\b\b\b\b\b\b\b\b\b\b\b\b\b\b\b\b\b\b\b\b\b\b\b\b\b\b\b\b\b\b\b\b\b\b\b\b\b\b\b\b\b\b\b\b\b\b\b\b\b\b\b\b\b\b\b\b\b\b\b\b\b\b\b\b\b\b\b\b\b\b\b\b\b\b\b\b\b\b\b\b\b\b\b\b\b\b\b\b\b\b\b\b\b\b\b\b\b\b\r312/312 [==============================] - 19s 61ms/step - loss: 0.4342 - top_k_categorical_accuracy: 0.9891 - val_loss: 0.9339 - val_top_k_categorical_accuracy: 0.9538 - lr: 1.2500e-04\n",
            "Epoch 197/200\n",
            "312/312 [==============================] - ETA: 0s - loss: 0.4347 - top_k_categorical_accuracy: 0.9887"
          ]
        },
        {
          "output_type": "stream",
          "name": "stderr",
          "text": [
            "WARNING:tensorflow:Early stopping conditioned on metric `val_accuracy` which is not available. Available metrics are: loss,top_k_categorical_accuracy,val_loss,val_top_k_categorical_accuracy,lr\n"
          ]
        },
        {
          "output_type": "stream",
          "name": "stdout",
          "text": [
            "\b\b\b\b\b\b\b\b\b\b\b\b\b\b\b\b\b\b\b\b\b\b\b\b\b\b\b\b\b\b\b\b\b\b\b\b\b\b\b\b\b\b\b\b\b\b\b\b\b\b\b\b\b\b\b\b\b\b\b\b\b\b\b\b\b\b\b\b\b\b\b\b\b\b\b\b\b\b\b\b\b\b\b\b\b\b\b\b\b\b\b\b\b\b\b\b\b\b\b\b\b\b\r312/312 [==============================] - 19s 61ms/step - loss: 0.4347 - top_k_categorical_accuracy: 0.9887 - val_loss: 0.9366 - val_top_k_categorical_accuracy: 0.9540 - lr: 2.0000e-05\n",
            "Epoch 198/200\n",
            "312/312 [==============================] - ETA: 0s - loss: 0.4344 - top_k_categorical_accuracy: 0.9895"
          ]
        },
        {
          "output_type": "stream",
          "name": "stderr",
          "text": [
            "WARNING:tensorflow:Early stopping conditioned on metric `val_accuracy` which is not available. Available metrics are: loss,top_k_categorical_accuracy,val_loss,val_top_k_categorical_accuracy,lr\n"
          ]
        },
        {
          "output_type": "stream",
          "name": "stdout",
          "text": [
            "\b\b\b\b\b\b\b\b\b\b\b\b\b\b\b\b\b\b\b\b\b\b\b\b\b\b\b\b\b\b\b\b\b\b\b\b\b\b\b\b\b\b\b\b\b\b\b\b\b\b\b\b\b\b\b\b\b\b\b\b\b\b\b\b\b\b\b\b\b\b\b\b\b\b\b\b\b\b\b\b\b\b\b\b\b\b\b\b\b\b\b\b\b\b\b\b\b\b\b\b\b\b\r312/312 [==============================] - 19s 62ms/step - loss: 0.4344 - top_k_categorical_accuracy: 0.9895 - val_loss: 0.9328 - val_top_k_categorical_accuracy: 0.9549 - lr: 7.5000e-05\n",
            "Epoch 199/200\n",
            "312/312 [==============================] - ETA: 0s - loss: 0.4313 - top_k_categorical_accuracy: 0.9891"
          ]
        },
        {
          "output_type": "stream",
          "name": "stderr",
          "text": [
            "WARNING:tensorflow:Early stopping conditioned on metric `val_accuracy` which is not available. Available metrics are: loss,top_k_categorical_accuracy,val_loss,val_top_k_categorical_accuracy,lr\n"
          ]
        },
        {
          "output_type": "stream",
          "name": "stdout",
          "text": [
            "\b\b\b\b\b\b\b\b\b\b\b\b\b\b\b\b\b\b\b\b\b\b\b\b\b\b\b\b\b\b\b\b\b\b\b\b\b\b\b\b\b\b\b\b\b\b\b\b\b\b\b\b\b\b\b\b\b\b\b\b\b\b\b\b\b\b\b\b\b\b\b\b\b\b\b\b\b\b\b\b\b\b\b\b\b\b\b\b\b\b\b\b\b\b\b\b\b\b\b\b\b\b\r312/312 [==============================] - 20s 64ms/step - loss: 0.4313 - top_k_categorical_accuracy: 0.9891 - val_loss: 0.9339 - val_top_k_categorical_accuracy: 0.9547 - lr: 1.0000e-05\n",
            "Epoch 200/200\n",
            "312/312 [==============================] - ETA: 0s - loss: 0.4249 - top_k_categorical_accuracy: 0.9891"
          ]
        },
        {
          "output_type": "stream",
          "name": "stderr",
          "text": [
            "WARNING:tensorflow:Early stopping conditioned on metric `val_accuracy` which is not available. Available metrics are: loss,top_k_categorical_accuracy,val_loss,val_top_k_categorical_accuracy,lr\n"
          ]
        },
        {
          "output_type": "stream",
          "name": "stdout",
          "text": [
            "\b\b\b\b\b\b\b\b\b\b\b\b\b\b\b\b\b\b\b\b\b\b\b\b\b\b\b\b\b\b\b\b\b\b\b\b\b\b\b\b\b\b\b\b\b\b\b\b\b\b\b\b\b\b\b\b\b\b\b\b\b\b\b\b\b\b\b\b\b\b\b\b\b\b\b\b\b\b\b\b\b\b\b\b\b\b\b\b\b\b\b\b\b\b\b\b\b\b\b\b\b\b\r312/312 [==============================] - 19s 61ms/step - loss: 0.4249 - top_k_categorical_accuracy: 0.9891 - val_loss: 0.9339 - val_top_k_categorical_accuracy: 0.9547 - lr: 2.5000e-05\n",
            "Test loss: 0.9218876957893372\n",
            "Test accuracy: 0.9524000287055969\n"
          ]
        }
      ],
      "source": [
        "import pickle\n",
        "import sys\n",
        "import os\n",
        "import numpy as np\n",
        "import tensorflow as tf\n",
        "from tensorflow.keras.layers import Conv2D, Dropout, MaxPool2D, Flatten, Dense, Activation, BatchNormalization, Lambda, PReLU, LeakyReLU, GlobalAveragePooling2D\n",
        "from tensorflow.keras.models import Model, Sequential\n",
        "from tensorflow.keras.regularizers import l2\n",
        "from tensorflow.keras.optimizers import Adam, SGD, RMSprop\n",
        "from tensorflow.keras.callbacks import ReduceLROnPlateau, ModelCheckpoint, LearningRateScheduler\n",
        "from sklearn.model_selection import train_test_split\n",
        "from keras.preprocessing.image import ImageDataGenerator\n",
        "from tensorflow.keras.metrics import TopKCategoricalAccuracy\n",
        "from tensorflow.keras.layers import BatchNormalization\n",
        "from tensorflow.keras.layers import Conv2D, AveragePooling2D, MaxPooling2D\n",
        "from tensorflow.keras.layers import Activation, Dropout, Dense\n",
        "from tensorflow.keras.layers import Flatten, Input, concatenate\n",
        "from tensorflow.keras.models import Model\n",
        "from tensorflow.keras.regularizers import l2\n",
        "\n",
        "os.environ['TF_CPP_MIN_LOG_LEVEL'] = '3'\n",
        "\"\"\"\n",
        "The CIFAR10 dataset was downloaded through the official website, with each training batch being unpickled and then appended to each other\n",
        "to create one large training set. The images were preprocessed to convert the initial row vector to shape (32, 32, 3) through reshaping and transposing.\n",
        "The class output data was one hot encoded. My preliminary attempt used my model for the MNIST dataset, with an alteration for the input size. This\n",
        "resulted in a test accuracy of 67% after 10 epochs. My next attempt was a VGG with fractional max pooling, based on a paper by Benjamin Graham. While this definitely \n",
        "outperformed the previous model, the computational time was far too high. I tried reducing training time by using only one of the 5 training batches and doubling the \n",
        "batch size to 512, but the tradeoff with accuracy was way too high. \n",
        "\n",
        "The next model I tried was another VGG type convolutional network, which was shallower and converged much faster. This got me to 80% test accuracy.   \n",
        "\"\"\"\n",
        "# Fractional max pooling\n",
        "# - https://arxiv.org/abs/1412.6071\n",
        "# - https://github.com/laplacetw/vgg-like-cifar10/blob/master/fmp_cifar10.py\n",
        "# https://www.binarystudy.com/2021/09/how-to-load-preprocess-visualize-CIFAR-10-and-CIFAR-100.html#routine\n",
        "\n",
        "BTEST = '../data/test_batch'\n",
        "meta_file = '../CIFAR10-data/batches.meta'\n",
        "\n",
        "NUM_TRAINING_BATCHES = 5\n",
        "BATCH_SIZE = 128 #128\n",
        "LAMBDA = 1e-5\n",
        "EPOCHS = 200\n",
        "IMG_SIDE_LEN = 32\n",
        "LR = 5e-3\n",
        "DATASET = \"CIFAR100\"\n",
        "MODEL = \"model3x\"\n",
        "\n",
        "def unpickle(file):\n",
        "    with open(file, 'rb') as fo:\n",
        "        u = pickle._Unpickler( fo )\n",
        "        u.encoding = 'latin1'\n",
        "        dict = u.load()\n",
        "    return dict\n",
        "\n",
        "def load_training_data():\n",
        "    # The whole data_batch_1 has 10,000 images. And each image is a 1-D array having 3,072 entries. \n",
        "    # First 1024 entries for Red, the next 1024 entries for Green and last 1024 entries for Blue channels. \n",
        "    print(\"Loading Data:\")\n",
        "    features, classes = np.empty((0,32,32,3)), np.empty((0,10))\n",
        "    for i in range(NUM_TRAINING_BATCHES):\n",
        "        print(f\"Batch {i+1}\")\n",
        "        batch_path = f'../data/data_batch_{i+1}'\n",
        "        x, y = reshape_features(batch_path)\n",
        "        features = np.append(features, x, axis=0)\n",
        "        classes = np.append(classes, y, axis=0)\n",
        "    return features, classes\n",
        "\n",
        "def reshape_features(feat_path, CIFAR100=False):\n",
        "    labels = 'coarse_labels' if CIFAR100 else 'labels'\n",
        "    unpickled_data = unpickle(feat_path)\n",
        "    return (unpickled_data['data'].reshape(len(unpickled_data['data']),3,32,32).transpose(0,2,3,1) / 255,\n",
        "            tf.keras.utils.to_categorical(unpickled_data[labels]))\n",
        "\n",
        "def frac_max_pool(x):\n",
        "    return tf.nn.fractional_max_pool(x, [1.0, 1.41, 1.41, 1.0], pseudo_random=True, overlapping=True)[0]\n",
        "\n",
        "def poly_decay(epoch):\n",
        "  maxEpochs = EPOCHS\n",
        "  baseLR = LR\n",
        "  power = 1.0\n",
        "  alpha = baseLR * (1 - (epoch   / float(maxEpochs))) ** power\n",
        "  return alpha\n",
        "\n",
        "datagen = ImageDataGenerator(\n",
        "    rotation_range=15,\n",
        "    horizontal_flip=True,\n",
        "    width_shift_range=0.1,\n",
        "    height_shift_range=0.1\n",
        "    #zoom_range=0.3\n",
        ")\n",
        "\n",
        "aug = ImageDataGenerator(width_shift_range=0.1,height_shift_range=0.1, horizontal_flip=True,fill_mode=\"nearest\")\n",
        "\n",
        "stopping = tf.keras.callbacks.EarlyStopping(\n",
        "          monitor=\"val_accuracy\",\n",
        "          min_delta=0,\n",
        "          patience=25,\n",
        "          verbose=1,\n",
        "          mode=\"max\",\n",
        "          baseline=None,\n",
        "          restore_best_weights=True)\n",
        "\n",
        "def normalize_x_data(x_train, x_test):\n",
        "    eps = 1e-7\n",
        "    mean = np.mean(x_train,axis = (0, 1, 2, 3))\n",
        "    std = np.std(x_train,axis = (0, 1, 2, 3))\n",
        "    x_train = (x_train - mean)/(std + eps)\n",
        "    x_test = (x_test - mean)/(std + eps)\n",
        "    return x_train, x_test\n",
        "\n",
        "class Data10(object):\n",
        "    def __init__(self):\n",
        "        self.x_train, self.y_train = load_training_data()\n",
        "        self.x_test, self.y_test = reshape_features(BTEST)\n",
        "        self.x_train, self.x_test = normalize_x_data(self.x_train, self.x_test)\n",
        "        self.x_train, self.x_val, self.y_train, self.y_val = train_test_split(self.x_train, self.y_train, test_size=0.2, random_state=31415)\n",
        "\n",
        "class Data100(object):\n",
        "    def __init__(self):\n",
        "      self.x_train, self.y_train = reshape_features('../data/train', CIFAR100=True)\n",
        "      self.x_test, self.y_test = reshape_features('../data/test', CIFAR100=True)\n",
        "      self.x_train, self.x_val, self.y_train, self.y_val = train_test_split(self.x_train, self.y_train, test_size=0.2, random_state=31415)\n",
        "\n",
        "def double_conv_module(input, num_filters, activation, kern_reg, dropout, padding=\"same\"):\n",
        "    input = Conv2D(filters = num_filters, kernel_size = (3, 3), activation = activation, padding = padding, kernel_regularizer = kern_reg)(input)\n",
        "    input = BatchNormalization(axis=-1)(input)\n",
        "    input = Conv2D(filters = num_filters, kernel_size = (3, 3), activation = activation, padding = padding, kernel_regularizer = kern_reg)(input)\n",
        "    input = BatchNormalization(axis=-1)(input)\n",
        "    input = MaxPooling2D(pool_size = (2, 2))(input)\n",
        "    input = Dropout(dropout)(input)\n",
        "\n",
        "    return input\n",
        "\n",
        "def rav_model(width, height, depth, classes):\n",
        "    inputShape=(height, width, depth)\n",
        "    weight_decay = 0.001\n",
        "\n",
        "    # (Step 1) Define the model input\n",
        "    inputs = Input(shape=inputShape)\n",
        "    KR = None #l2(weight_decay)\n",
        "    x = double_conv_module(inputs, 32, activation='relu', kern_reg=KR, dropout = 0.1, padding='same')\n",
        "    x = double_conv_module(x, 64, activation='relu', kern_reg=KR, dropout = 0.2, padding='same')\n",
        "    x = double_conv_module(x, 128, activation='relu', kern_reg=KR, dropout = 0.3, padding='same')\n",
        "    x = double_conv_module(x, 128, activation='relu', kern_reg=KR, dropout = 0.4, padding='same')\n",
        "   \n",
        "    x = Flatten()(x)\n",
        "    x = Dense(512, activation='relu',kernel_regularizer=None)(x)\n",
        "    x = BatchNormalization(axis=-1)(x)\n",
        "    x = Dropout(0.5)(x)\n",
        "    x = Dense(classes)(x)\n",
        "    x = Activation(\"softmax\")(x)\n",
        "\n",
        "    model = Model(inputs, x, name=\"rav_net\")\n",
        "    return model\n",
        "\n",
        "def fmp_unit(input, num_filters, dropout, padding=\"same\", frac_pool=True):\n",
        "    input = Conv2D(filters = num_filters, kernel_size = (3, 3), padding = padding, kernel_initializer='he_uniform')(input)\n",
        "    input = LeakyReLU()(input)\n",
        "    input = BatchNormalization(axis=-1)(input)\n",
        "    input = Conv2D(filters = num_filters, kernel_size = (3, 3), padding = padding, kernel_initializer='he_uniform')(input)\n",
        "    input = LeakyReLU()(input)\n",
        "    input = BatchNormalization(axis=-1)(input)\n",
        "    input = Lambda(frac_max_pool)(input) if frac_pool else input\n",
        "    input = Dropout(dropout)(input)\n",
        "\n",
        "    return input\n",
        "\n",
        "def fmp_model(width, height, depth, classes):\n",
        "    inputShape=(height, width, depth)\n",
        "    inputs = Input(shape=inputShape)\n",
        "\n",
        "    x = fmp_unit(inputs, 32, dropout = 0.3, padding='same', frac_pool=False)\n",
        "    x = fmp_unit(x, 64, dropout = 0.35, padding='same')\n",
        "    x = fmp_unit(x, 96, dropout = 0.35, padding='same')\n",
        "    x = fmp_unit(x, 128, dropout = 0.4, padding='same')\n",
        "    x = fmp_unit(x, 160, dropout = 0.45, padding='same')\n",
        "    x = fmp_unit(x, 192, dropout = 0.5, padding='same')\n",
        "\n",
        "    x = Conv2D(filters=192, kernel_size=(1, 1), padding='same', kernel_initializer='he_uniform')(x)\n",
        "    x = LeakyReLU()(x)\n",
        "    x = BatchNormalization()(x)\n",
        "    x = GlobalAveragePooling2D()(x)\n",
        "    x = Dense(units=classes, kernel_initializer='he_uniform')(x)\n",
        "    x = Activation(\"softmax\")(x)\n",
        "\n",
        "    model = Model(inputs, x, name=\"fmp_rav_net\")\n",
        "    return model\n",
        "\n",
        "if __name__ == \"__main__\":\n",
        "  if DATASET == 'CIFAR10':\n",
        "    data = Data10()\n",
        "    NUM_CLASSES = 10\n",
        "  else:\n",
        "    data = Data100()\n",
        "    NUM_CLASSES = 20\n",
        "      \n",
        "  x_train, y_train = data.x_train, data.y_train\n",
        "  x_test, y_test = data.x_test, data.y_test\n",
        "  x_val, y_val = data.x_val, data.y_val\n",
        "\n",
        "  lr_scheduler = LearningRateScheduler(poly_decay)\n",
        "  variable_learning_rate = ReduceLROnPlateau(monitor='val_loss', factor = 0.2, patience = 2)\n",
        "\n",
        "  if MODEL == \"model3x\":\n",
        "    model = rav_model(width=32, height=32, depth=3, classes=NUM_CLASSES)\n",
        "    ac='relu'\n",
        "    adm=Adam(learning_rate=0.001,decay=0, beta_1=0.9, beta_2=0.999, epsilon=1e-08)\n",
        "    opt=adm\n",
        "  \n",
        "  elif MODEL == \"fmp\":\n",
        "    model = fmp_model(width=32, height=32, depth=3, classes=NUM_CLASSES)\n",
        "    opt = RMSprop(decay=1e-6)\n",
        "\n",
        "  #model.compile(loss=tf.keras.losses.categorical_crossentropy, metrics=['accuracy'],optimizer=opt)\n",
        "  model.compile(loss=tf.keras.losses.categorical_crossentropy, metrics=[TopKCategoricalAccuracy(k = 5)],optimizer=opt)\n",
        "  model.summary()\n",
        "  history=model.fit(datagen.flow(x_train, y_train, batch_size=BATCH_SIZE), \n",
        "                    batch_size=BATCH_SIZE, \n",
        "                    epochs=EPOCHS, \n",
        "                    callbacks=[variable_learning_rate, lr_scheduler, stopping], \n",
        "                    validation_data=(x_val, y_val), \n",
        "                    verbose=1, \n",
        "                    steps_per_epoch = len(x_train) // BATCH_SIZE)\n",
        "  score = model.evaluate(x_test, y_test, verbose=0)\n",
        "  \n",
        "\n",
        "  print('Test loss:', score[0])\n",
        "  print('Test accuracy:', score[1])\n",
        "\n",
        "  # 30 epochs 82%"
      ]
    }
  ]
}